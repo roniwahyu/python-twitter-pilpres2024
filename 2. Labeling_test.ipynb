{
 "cells": [
  {
   "cell_type": "code",
   "execution_count": 15,
   "metadata": {},
   "outputs": [
    {
     "name": "stderr",
     "output_type": "stream",
     "text": [
      "[nltk_data] Downloading package punkt to\n",
      "[nltk_data]     C:\\Users\\LENOVO\\AppData\\Roaming\\nltk_data...\n",
      "[nltk_data]   Package punkt is already up-to-date!\n",
      "[nltk_data] Downloading package stopwords to\n",
      "[nltk_data]     C:\\Users\\LENOVO\\AppData\\Roaming\\nltk_data...\n",
      "[nltk_data]   Package stopwords is already up-to-date!\n",
      "[nltk_data] Downloading package words to\n",
      "[nltk_data]     C:\\Users\\LENOVO\\AppData\\Roaming\\nltk_data...\n",
      "[nltk_data]   Package words is already up-to-date!\n",
      "[nltk_data] Downloading package wordnet to\n",
      "[nltk_data]     C:\\Users\\LENOVO\\AppData\\Roaming\\nltk_data...\n",
      "[nltk_data]   Package wordnet is already up-to-date!\n"
     ]
    }
   ],
   "source": [
    "import pandas as pd\n",
    "import numpy as np\n",
    "import nltk\n",
    "# Apply text pre-processing to DataFrame\n",
    "from tqdm._tqdm_notebook import tqdm_notebook\n",
    "tqdm_notebook.pandas()\n",
    "\n",
    "nltk.download('punkt')\n",
    "nltk.download('stopwords')\n",
    "nltk.download('words')\n",
    "nltk.download('wordnet')\n",
    "from nltk.tokenize import word_tokenize\n",
    "from textblob import TextBlob, Word"
   ]
  },
  {
   "cell_type": "code",
   "execution_count": 51,
   "metadata": {},
   "outputs": [],
   "source": [
    "# samples= pd.read_csv('dataset/dataset_after_resmikpu_clean_content.csv', encoding='UTF-8')\n",
    "# samples['clean_content']=samples['filtering']\n",
    "# samples=samples[['text','clean_content','likes','replies','quotes','retweets','searchQuery','user_location','tanggal']]\n",
    "samples= pd.read_csv('dataset/1.DatasetPreprocessing_after_nomorurut_clean_content_23112023.csv', encoding='UTF-8')\n",
    "samples=samples[['text','clean_content','likes','replies','quotes','retweets','searchQuery','user_location','tanggal','dataset']]"
   ]
  },
  {
   "cell_type": "code",
   "execution_count": 53,
   "metadata": {},
   "outputs": [
    {
     "name": "stdout",
     "output_type": "stream",
     "text": [
      "<class 'pandas.core.frame.DataFrame'>\n",
      "RangeIndex: 7306 entries, 0 to 7305\n",
      "Data columns (total 10 columns):\n",
      " #   Column         Non-Null Count  Dtype \n",
      "---  ------         --------------  ----- \n",
      " 0   text           7306 non-null   object\n",
      " 1   clean_content  7306 non-null   object\n",
      " 2   likes          7306 non-null   int64 \n",
      " 3   replies        7306 non-null   int64 \n",
      " 4   quotes         7306 non-null   int64 \n",
      " 5   retweets       7306 non-null   int64 \n",
      " 6   searchQuery    7306 non-null   object\n",
      " 7   user_location  3472 non-null   object\n",
      " 8   tanggal        7306 non-null   object\n",
      " 9   dataset        7306 non-null   object\n",
      "dtypes: int64(4), object(6)\n",
      "memory usage: 570.9+ KB\n"
     ]
    }
   ],
   "source": [
    "samples.info()"
   ]
  },
  {
   "cell_type": "code",
   "execution_count": 54,
   "metadata": {},
   "outputs": [
    {
     "data": {
      "text/html": [
       "<div>\n",
       "<style scoped>\n",
       "    .dataframe tbody tr th:only-of-type {\n",
       "        vertical-align: middle;\n",
       "    }\n",
       "\n",
       "    .dataframe tbody tr th {\n",
       "        vertical-align: top;\n",
       "    }\n",
       "\n",
       "    .dataframe thead th {\n",
       "        text-align: right;\n",
       "    }\n",
       "</style>\n",
       "<table border=\"1\" class=\"dataframe\">\n",
       "  <thead>\n",
       "    <tr style=\"text-align: right;\">\n",
       "      <th></th>\n",
       "      <th>text</th>\n",
       "      <th>clean_content</th>\n",
       "      <th>likes</th>\n",
       "      <th>replies</th>\n",
       "      <th>quotes</th>\n",
       "      <th>retweets</th>\n",
       "      <th>searchQuery</th>\n",
       "      <th>user_location</th>\n",
       "      <th>tanggal</th>\n",
       "      <th>dataset</th>\n",
       "    </tr>\n",
       "  </thead>\n",
       "  <tbody>\n",
       "    <tr>\n",
       "      <th>0</th>\n",
       "      <td>Sah, Pasangan Prabowo-Gibran dapat Nomor Urut ...</td>\n",
       "      <td>sah pasang prabowo gibran nomor urut tetap kpu...</td>\n",
       "      <td>0</td>\n",
       "      <td>0</td>\n",
       "      <td>0</td>\n",
       "      <td>0</td>\n",
       "      <td>#nomor</td>\n",
       "      <td>NaN</td>\n",
       "      <td>11/14/2023</td>\n",
       "      <td>prabowogibran</td>\n",
       "    </tr>\n",
       "    <tr>\n",
       "      <th>1</th>\n",
       "      <td>#nomor 1 Amin menang</td>\n",
       "      <td>nomor amin menang</td>\n",
       "      <td>0</td>\n",
       "      <td>0</td>\n",
       "      <td>0</td>\n",
       "      <td>0</td>\n",
       "      <td>#nomor</td>\n",
       "      <td>NaN</td>\n",
       "      <td>11/15/2023</td>\n",
       "      <td>prabowogibran</td>\n",
       "    </tr>\n",
       "    <tr>\n",
       "      <th>2</th>\n",
       "      <td>Pak Prabowo mengangkat anak penerbang tucano y...</td>\n",
       "      <td>prabowo angkat anak terbang tucano gugur anak ...</td>\n",
       "      <td>0</td>\n",
       "      <td>0</td>\n",
       "      <td>0</td>\n",
       "      <td>0</td>\n",
       "      <td>#KIM</td>\n",
       "      <td>NaN</td>\n",
       "      <td>11/20/2023</td>\n",
       "      <td>prabowogibran</td>\n",
       "    </tr>\n",
       "    <tr>\n",
       "      <th>3</th>\n",
       "      <td>Unboxing Prabowo; Cerita sejarah, deklarasi bu...</td>\n",
       "      <td>unboxing prabowo cerita sejarah deklarasi budi...</td>\n",
       "      <td>1</td>\n",
       "      <td>0</td>\n",
       "      <td>0</td>\n",
       "      <td>0</td>\n",
       "      <td>#KIM</td>\n",
       "      <td>NaN</td>\n",
       "      <td>11/20/2023</td>\n",
       "      <td>prabowogibran</td>\n",
       "    </tr>\n",
       "    <tr>\n",
       "      <th>4</th>\n",
       "      <td>#Nomor 1\\n\\nIndonesia beradab</td>\n",
       "      <td>nomor indonesia adab</td>\n",
       "      <td>0</td>\n",
       "      <td>0</td>\n",
       "      <td>0</td>\n",
       "      <td>0</td>\n",
       "      <td>#nomor</td>\n",
       "      <td>NaN</td>\n",
       "      <td>11/14/2023</td>\n",
       "      <td>prabowogibran</td>\n",
       "    </tr>\n",
       "  </tbody>\n",
       "</table>\n",
       "</div>"
      ],
      "text/plain": [
       "                                                text  \\\n",
       "0  Sah, Pasangan Prabowo-Gibran dapat Nomor Urut ...   \n",
       "1                               #nomor 1 Amin menang   \n",
       "2  Pak Prabowo mengangkat anak penerbang tucano y...   \n",
       "3  Unboxing Prabowo; Cerita sejarah, deklarasi bu...   \n",
       "4                      #Nomor 1\\n\\nIndonesia beradab   \n",
       "\n",
       "                                       clean_content  likes  replies  quotes  \\\n",
       "0  sah pasang prabowo gibran nomor urut tetap kpu...      0        0       0   \n",
       "1                                  nomor amin menang      0        0       0   \n",
       "2  prabowo angkat anak terbang tucano gugur anak ...      0        0       0   \n",
       "3  unboxing prabowo cerita sejarah deklarasi budi...      1        0       0   \n",
       "4                               nomor indonesia adab      0        0       0   \n",
       "\n",
       "   retweets searchQuery user_location     tanggal        dataset  \n",
       "0         0      #nomor           NaN  11/14/2023  prabowogibran  \n",
       "1         0      #nomor           NaN  11/15/2023  prabowogibran  \n",
       "2         0        #KIM           NaN  11/20/2023  prabowogibran  \n",
       "3         0        #KIM           NaN  11/20/2023  prabowogibran  \n",
       "4         0      #nomor           NaN  11/14/2023  prabowogibran  "
      ]
     },
     "execution_count": 54,
     "metadata": {},
     "output_type": "execute_result"
    }
   ],
   "source": [
    "samples.head()"
   ]
  },
  {
   "cell_type": "code",
   "execution_count": 55,
   "metadata": {},
   "outputs": [],
   "source": [
    "from datetime import datetime"
   ]
  },
  {
   "cell_type": "code",
   "execution_count": 56,
   "metadata": {},
   "outputs": [],
   "source": [
    "samples['date'] = pd.to_datetime(samples['tanggal'], format= 'mixed')\n",
    "# samplesT = samples['Time']"
   ]
  },
  {
   "cell_type": "code",
   "execution_count": 57,
   "metadata": {},
   "outputs": [
    {
     "data": {
      "text/html": [
       "<div>\n",
       "<style scoped>\n",
       "    .dataframe tbody tr th:only-of-type {\n",
       "        vertical-align: middle;\n",
       "    }\n",
       "\n",
       "    .dataframe tbody tr th {\n",
       "        vertical-align: top;\n",
       "    }\n",
       "\n",
       "    .dataframe thead th {\n",
       "        text-align: right;\n",
       "    }\n",
       "</style>\n",
       "<table border=\"1\" class=\"dataframe\">\n",
       "  <thead>\n",
       "    <tr style=\"text-align: right;\">\n",
       "      <th></th>\n",
       "      <th>text</th>\n",
       "      <th>clean_content</th>\n",
       "      <th>likes</th>\n",
       "      <th>replies</th>\n",
       "      <th>quotes</th>\n",
       "      <th>retweets</th>\n",
       "      <th>searchQuery</th>\n",
       "      <th>user_location</th>\n",
       "      <th>tanggal</th>\n",
       "      <th>dataset</th>\n",
       "      <th>date</th>\n",
       "    </tr>\n",
       "  </thead>\n",
       "  <tbody>\n",
       "    <tr>\n",
       "      <th>0</th>\n",
       "      <td>Sah, Pasangan Prabowo-Gibran dapat Nomor Urut ...</td>\n",
       "      <td>sah pasang prabowo gibran nomor urut tetap kpu...</td>\n",
       "      <td>0</td>\n",
       "      <td>0</td>\n",
       "      <td>0</td>\n",
       "      <td>0</td>\n",
       "      <td>#nomor</td>\n",
       "      <td>NaN</td>\n",
       "      <td>11/14/2023</td>\n",
       "      <td>prabowogibran</td>\n",
       "      <td>2023-11-14</td>\n",
       "    </tr>\n",
       "    <tr>\n",
       "      <th>1</th>\n",
       "      <td>#nomor 1 Amin menang</td>\n",
       "      <td>nomor amin menang</td>\n",
       "      <td>0</td>\n",
       "      <td>0</td>\n",
       "      <td>0</td>\n",
       "      <td>0</td>\n",
       "      <td>#nomor</td>\n",
       "      <td>NaN</td>\n",
       "      <td>11/15/2023</td>\n",
       "      <td>prabowogibran</td>\n",
       "      <td>2023-11-15</td>\n",
       "    </tr>\n",
       "    <tr>\n",
       "      <th>2</th>\n",
       "      <td>Pak Prabowo mengangkat anak penerbang tucano y...</td>\n",
       "      <td>prabowo angkat anak terbang tucano gugur anak ...</td>\n",
       "      <td>0</td>\n",
       "      <td>0</td>\n",
       "      <td>0</td>\n",
       "      <td>0</td>\n",
       "      <td>#KIM</td>\n",
       "      <td>NaN</td>\n",
       "      <td>11/20/2023</td>\n",
       "      <td>prabowogibran</td>\n",
       "      <td>2023-11-20</td>\n",
       "    </tr>\n",
       "    <tr>\n",
       "      <th>3</th>\n",
       "      <td>Unboxing Prabowo; Cerita sejarah, deklarasi bu...</td>\n",
       "      <td>unboxing prabowo cerita sejarah deklarasi budi...</td>\n",
       "      <td>1</td>\n",
       "      <td>0</td>\n",
       "      <td>0</td>\n",
       "      <td>0</td>\n",
       "      <td>#KIM</td>\n",
       "      <td>NaN</td>\n",
       "      <td>11/20/2023</td>\n",
       "      <td>prabowogibran</td>\n",
       "      <td>2023-11-20</td>\n",
       "    </tr>\n",
       "    <tr>\n",
       "      <th>4</th>\n",
       "      <td>#Nomor 1\\n\\nIndonesia beradab</td>\n",
       "      <td>nomor indonesia adab</td>\n",
       "      <td>0</td>\n",
       "      <td>0</td>\n",
       "      <td>0</td>\n",
       "      <td>0</td>\n",
       "      <td>#nomor</td>\n",
       "      <td>NaN</td>\n",
       "      <td>11/14/2023</td>\n",
       "      <td>prabowogibran</td>\n",
       "      <td>2023-11-14</td>\n",
       "    </tr>\n",
       "  </tbody>\n",
       "</table>\n",
       "</div>"
      ],
      "text/plain": [
       "                                                text  \\\n",
       "0  Sah, Pasangan Prabowo-Gibran dapat Nomor Urut ...   \n",
       "1                               #nomor 1 Amin menang   \n",
       "2  Pak Prabowo mengangkat anak penerbang tucano y...   \n",
       "3  Unboxing Prabowo; Cerita sejarah, deklarasi bu...   \n",
       "4                      #Nomor 1\\n\\nIndonesia beradab   \n",
       "\n",
       "                                       clean_content  likes  replies  quotes  \\\n",
       "0  sah pasang prabowo gibran nomor urut tetap kpu...      0        0       0   \n",
       "1                                  nomor amin menang      0        0       0   \n",
       "2  prabowo angkat anak terbang tucano gugur anak ...      0        0       0   \n",
       "3  unboxing prabowo cerita sejarah deklarasi budi...      1        0       0   \n",
       "4                               nomor indonesia adab      0        0       0   \n",
       "\n",
       "   retweets searchQuery user_location     tanggal        dataset       date  \n",
       "0         0      #nomor           NaN  11/14/2023  prabowogibran 2023-11-14  \n",
       "1         0      #nomor           NaN  11/15/2023  prabowogibran 2023-11-15  \n",
       "2         0        #KIM           NaN  11/20/2023  prabowogibran 2023-11-20  \n",
       "3         0        #KIM           NaN  11/20/2023  prabowogibran 2023-11-20  \n",
       "4         0      #nomor           NaN  11/14/2023  prabowogibran 2023-11-14  "
      ]
     },
     "execution_count": 57,
     "metadata": {},
     "output_type": "execute_result"
    }
   ],
   "source": [
    "samples.head()"
   ]
  },
  {
   "cell_type": "code",
   "execution_count": 58,
   "metadata": {},
   "outputs": [
    {
     "name": "stdout",
     "output_type": "stream",
     "text": [
      "<class 'pandas.core.frame.DataFrame'>\n",
      "RangeIndex: 7306 entries, 0 to 7305\n",
      "Data columns (total 11 columns):\n",
      " #   Column         Non-Null Count  Dtype         \n",
      "---  ------         --------------  -----         \n",
      " 0   text           7306 non-null   object        \n",
      " 1   clean_content  7306 non-null   object        \n",
      " 2   likes          7306 non-null   int64         \n",
      " 3   replies        7306 non-null   int64         \n",
      " 4   quotes         7306 non-null   int64         \n",
      " 5   retweets       7306 non-null   int64         \n",
      " 6   searchQuery    7306 non-null   object        \n",
      " 7   user_location  3472 non-null   object        \n",
      " 8   tanggal        7306 non-null   object        \n",
      " 9   dataset        7306 non-null   object        \n",
      " 10  date           7306 non-null   datetime64[ns]\n",
      "dtypes: datetime64[ns](1), int64(4), object(6)\n",
      "memory usage: 628.0+ KB\n"
     ]
    }
   ],
   "source": [
    "samples.info()"
   ]
  },
  {
   "cell_type": "markdown",
   "metadata": {},
   "source": [
    "## TEXTBLOB LABELING"
   ]
  },
  {
   "cell_type": "code",
   "execution_count": 59,
   "metadata": {},
   "outputs": [],
   "source": [
    "# TextBlob\n",
    "# https://www.analyticsvidhya.com/blog/2021/10/sentiment-analysis-with-textblob-and-vader/\n",
    "# !pip install textblob"
   ]
  },
  {
   "cell_type": "code",
   "execution_count": 60,
   "metadata": {},
   "outputs": [],
   "source": [
    "from textblob import TextBlob"
   ]
  },
  {
   "cell_type": "code",
   "execution_count": 61,
   "metadata": {},
   "outputs": [],
   "source": [
    "def sentiment_calc(text):\n",
    "    try:\n",
    "        return TextBlob(text).sentiment\n",
    "    except:\n",
    "        return None"
   ]
  },
  {
   "cell_type": "code",
   "execution_count": 62,
   "metadata": {},
   "outputs": [],
   "source": [
    "def textblob_polarity(text):\n",
    "    try:\n",
    "        return TextBlob(text).polarity\n",
    "    except:\n",
    "        return None"
   ]
  },
  {
   "cell_type": "code",
   "execution_count": 63,
   "metadata": {},
   "outputs": [],
   "source": [
    "def textblob_subject(text):\n",
    "    try:\n",
    "        return TextBlob(text).subjectivity\n",
    "    except:\n",
    "        return None"
   ]
  },
  {
   "cell_type": "code",
   "execution_count": 64,
   "metadata": {},
   "outputs": [
    {
     "name": "stdout",
     "output_type": "stream",
     "text": [
      "habis caprea paslon show off melulu lihat dari belum resmi jadi capres\n",
      "0.0\n",
      "0.0\n",
      "Sentiment(polarity=0.0, subjectivity=0.0)\n"
     ]
    }
   ],
   "source": [
    "sentence = samples.clean_content[1100]\n",
    "print(sentence)\n",
    "res = TextBlob(sentence)\n",
    "print(res.sentiment.polarity)\n",
    "print(res.sentiment.subjectivity)\n",
    "print(sentiment_calc(sentence))"
   ]
  },
  {
   "cell_type": "code",
   "execution_count": 65,
   "metadata": {},
   "outputs": [
    {
     "data": {
      "application/vnd.jupyter.widget-view+json": {
       "model_id": "a1c383b252484a41bb0e3008ad12b770",
       "version_major": 2,
       "version_minor": 0
      },
      "text/plain": [
       "  0%|          | 0/7306 [00:00<?, ?it/s]"
      ]
     },
     "metadata": {},
     "output_type": "display_data"
    },
    {
     "data": {
      "application/vnd.jupyter.widget-view+json": {
       "model_id": "c75e2163f7544452adbd93f6132d68c0",
       "version_major": 2,
       "version_minor": 0
      },
      "text/plain": [
       "  0%|          | 0/7306 [00:00<?, ?it/s]"
      ]
     },
     "metadata": {},
     "output_type": "display_data"
    },
    {
     "data": {
      "application/vnd.jupyter.widget-view+json": {
       "model_id": "760d2f72127044e0903519ea38568a79",
       "version_major": 2,
       "version_minor": 0
      },
      "text/plain": [
       "  0%|          | 0/7306 [00:00<?, ?it/s]"
      ]
     },
     "metadata": {},
     "output_type": "display_data"
    },
    {
     "data": {
      "application/vnd.jupyter.widget-view+json": {
       "model_id": "a7fd96e386cc44479d90aebcc9ab5236",
       "version_major": 2,
       "version_minor": 0
      },
      "text/plain": [
       "  0%|          | 0/7306 [00:00<?, ?it/s]"
      ]
     },
     "metadata": {},
     "output_type": "display_data"
    }
   ],
   "source": [
    "# samples['norm_content'] = samples['text_lower'].progress_apply(lambda x: normalisasi(x))\n",
    "# samples['textblob_sentiment'] = samples['clean_content'].progress_apply(lambda x: sentiment_calc(x))\n",
    "# samples['textblob_polarity'] = samples['clean_content'].progress_apply(lambda x: textblob_polarity(x))\n",
    "# samples['textblob_subject'] = samples['clean_content'].progress_apply(lambda x: textblob_subject(x))\n",
    "samples['textblob_sentiment'] = samples['clean_content'].progress_apply(lambda x: TextBlob(x).sentiment)\n",
    "samples['textblob_sentiment_assessment'] = samples['clean_content'].progress_apply(lambda x: TextBlob(x).sentiment_assessments)\n",
    "samples['textblob_polarity'] = samples['clean_content'].progress_apply(lambda x: TextBlob(x).polarity)\n",
    "samples['textblob_subject'] = samples['clean_content'].progress_apply(lambda x: TextBlob(x).subjectivity)"
   ]
  },
  {
   "cell_type": "code",
   "execution_count": 66,
   "metadata": {},
   "outputs": [
    {
     "data": {
      "text/html": [
       "<div>\n",
       "<style scoped>\n",
       "    .dataframe tbody tr th:only-of-type {\n",
       "        vertical-align: middle;\n",
       "    }\n",
       "\n",
       "    .dataframe tbody tr th {\n",
       "        vertical-align: top;\n",
       "    }\n",
       "\n",
       "    .dataframe thead th {\n",
       "        text-align: right;\n",
       "    }\n",
       "</style>\n",
       "<table border=\"1\" class=\"dataframe\">\n",
       "  <thead>\n",
       "    <tr style=\"text-align: right;\">\n",
       "      <th></th>\n",
       "      <th>text</th>\n",
       "      <th>clean_content</th>\n",
       "      <th>likes</th>\n",
       "      <th>replies</th>\n",
       "      <th>quotes</th>\n",
       "      <th>retweets</th>\n",
       "      <th>searchQuery</th>\n",
       "      <th>user_location</th>\n",
       "      <th>tanggal</th>\n",
       "      <th>dataset</th>\n",
       "      <th>date</th>\n",
       "      <th>textblob_sentiment</th>\n",
       "      <th>textblob_sentiment_assessment</th>\n",
       "      <th>textblob_polarity</th>\n",
       "      <th>textblob_subject</th>\n",
       "    </tr>\n",
       "  </thead>\n",
       "  <tbody>\n",
       "    <tr>\n",
       "      <th>0</th>\n",
       "      <td>Sah, Pasangan Prabowo-Gibran dapat Nomor Urut ...</td>\n",
       "      <td>sah pasang prabowo gibran nomor urut tetap kpu...</td>\n",
       "      <td>0</td>\n",
       "      <td>0</td>\n",
       "      <td>0</td>\n",
       "      <td>0</td>\n",
       "      <td>#nomor</td>\n",
       "      <td>NaN</td>\n",
       "      <td>11/14/2023</td>\n",
       "      <td>prabowogibran</td>\n",
       "      <td>2023-11-14</td>\n",
       "      <td>(0.0, 0.0)</td>\n",
       "      <td>(0.0, 0.0, [])</td>\n",
       "      <td>0.0</td>\n",
       "      <td>0.0</td>\n",
       "    </tr>\n",
       "    <tr>\n",
       "      <th>1</th>\n",
       "      <td>#nomor 1 Amin menang</td>\n",
       "      <td>nomor amin menang</td>\n",
       "      <td>0</td>\n",
       "      <td>0</td>\n",
       "      <td>0</td>\n",
       "      <td>0</td>\n",
       "      <td>#nomor</td>\n",
       "      <td>NaN</td>\n",
       "      <td>11/15/2023</td>\n",
       "      <td>prabowogibran</td>\n",
       "      <td>2023-11-15</td>\n",
       "      <td>(0.0, 0.0)</td>\n",
       "      <td>(0.0, 0.0, [])</td>\n",
       "      <td>0.0</td>\n",
       "      <td>0.0</td>\n",
       "    </tr>\n",
       "    <tr>\n",
       "      <th>2</th>\n",
       "      <td>Pak Prabowo mengangkat anak penerbang tucano y...</td>\n",
       "      <td>prabowo angkat anak terbang tucano gugur anak ...</td>\n",
       "      <td>0</td>\n",
       "      <td>0</td>\n",
       "      <td>0</td>\n",
       "      <td>0</td>\n",
       "      <td>#KIM</td>\n",
       "      <td>NaN</td>\n",
       "      <td>11/20/2023</td>\n",
       "      <td>prabowogibran</td>\n",
       "      <td>2023-11-20</td>\n",
       "      <td>(0.0, 0.0)</td>\n",
       "      <td>(0.0, 0.0, [])</td>\n",
       "      <td>0.0</td>\n",
       "      <td>0.0</td>\n",
       "    </tr>\n",
       "    <tr>\n",
       "      <th>3</th>\n",
       "      <td>Unboxing Prabowo; Cerita sejarah, deklarasi bu...</td>\n",
       "      <td>unboxing prabowo cerita sejarah deklarasi budi...</td>\n",
       "      <td>1</td>\n",
       "      <td>0</td>\n",
       "      <td>0</td>\n",
       "      <td>0</td>\n",
       "      <td>#KIM</td>\n",
       "      <td>NaN</td>\n",
       "      <td>11/20/2023</td>\n",
       "      <td>prabowogibran</td>\n",
       "      <td>2023-11-20</td>\n",
       "      <td>(0.0, 0.0)</td>\n",
       "      <td>(0.0, 0.0, [])</td>\n",
       "      <td>0.0</td>\n",
       "      <td>0.0</td>\n",
       "    </tr>\n",
       "    <tr>\n",
       "      <th>4</th>\n",
       "      <td>#Nomor 1\\n\\nIndonesia beradab</td>\n",
       "      <td>nomor indonesia adab</td>\n",
       "      <td>0</td>\n",
       "      <td>0</td>\n",
       "      <td>0</td>\n",
       "      <td>0</td>\n",
       "      <td>#nomor</td>\n",
       "      <td>NaN</td>\n",
       "      <td>11/14/2023</td>\n",
       "      <td>prabowogibran</td>\n",
       "      <td>2023-11-14</td>\n",
       "      <td>(0.0, 0.0)</td>\n",
       "      <td>(0.0, 0.0, [])</td>\n",
       "      <td>0.0</td>\n",
       "      <td>0.0</td>\n",
       "    </tr>\n",
       "    <tr>\n",
       "      <th>5</th>\n",
       "      <td>Setelah proses pengundian, Anies Baswedan-Muha...</td>\n",
       "      <td>proses undi anies baswedan muhaimin iskandar c...</td>\n",
       "      <td>5</td>\n",
       "      <td>2</td>\n",
       "      <td>1</td>\n",
       "      <td>1</td>\n",
       "      <td>#nomor</td>\n",
       "      <td>NaN</td>\n",
       "      <td>11/14/2023</td>\n",
       "      <td>prabowogibran</td>\n",
       "      <td>2023-11-14</td>\n",
       "      <td>(0.0, 0.0)</td>\n",
       "      <td>(0.0, 0.0, [])</td>\n",
       "      <td>0.0</td>\n",
       "      <td>0.0</td>\n",
       "    </tr>\n",
       "    <tr>\n",
       "      <th>6</th>\n",
       "      <td>Pakar Intelijen AM Hendropriyono, Jika Tidak A...</td>\n",
       "      <td>pakar intelijen am hendropriyono halang rintan...</td>\n",
       "      <td>0</td>\n",
       "      <td>0</td>\n",
       "      <td>0</td>\n",
       "      <td>0</td>\n",
       "      <td>#KIM</td>\n",
       "      <td>NaN</td>\n",
       "      <td>11/20/2023</td>\n",
       "      <td>prabowogibran</td>\n",
       "      <td>2023-11-20</td>\n",
       "      <td>(0.0, 0.0)</td>\n",
       "      <td>(0.0, 0.0, [])</td>\n",
       "      <td>0.0</td>\n",
       "      <td>0.0</td>\n",
       "    </tr>\n",
       "    <tr>\n",
       "      <th>7</th>\n",
       "      <td>Pakar Intelijen AM Hendropriyono, Jika Tidak A...</td>\n",
       "      <td>pakar intelijen am hendropriyono halang rintan...</td>\n",
       "      <td>0</td>\n",
       "      <td>0</td>\n",
       "      <td>0</td>\n",
       "      <td>0</td>\n",
       "      <td>#KIM</td>\n",
       "      <td>NaN</td>\n",
       "      <td>11/20/2023</td>\n",
       "      <td>prabowogibran</td>\n",
       "      <td>2023-11-20</td>\n",
       "      <td>(0.0, 0.0)</td>\n",
       "      <td>(0.0, 0.0, [])</td>\n",
       "      <td>0.0</td>\n",
       "      <td>0.0</td>\n",
       "    </tr>\n",
       "    <tr>\n",
       "      <th>8</th>\n",
       "      <td>Yang Orang tidak tahu tentang Pak Prabowo \\n #...</td>\n",
       "      <td>orang prabowo indonesiaterusmaju energibaru se...</td>\n",
       "      <td>0</td>\n",
       "      <td>0</td>\n",
       "      <td>0</td>\n",
       "      <td>0</td>\n",
       "      <td>#KIM</td>\n",
       "      <td>NaN</td>\n",
       "      <td>11/20/2023</td>\n",
       "      <td>prabowogibran</td>\n",
       "      <td>2023-11-20</td>\n",
       "      <td>(0.0, 0.0)</td>\n",
       "      <td>(0.0, 0.0, [])</td>\n",
       "      <td>0.0</td>\n",
       "      <td>0.0</td>\n",
       "    </tr>\n",
       "    <tr>\n",
       "      <th>9</th>\n",
       "      <td>Pak Prabowo Subianto kembali meresmikan 15 tit...</td>\n",
       "      <td>prabowo subianto resmi titik sumber air bersih...</td>\n",
       "      <td>0</td>\n",
       "      <td>0</td>\n",
       "      <td>0</td>\n",
       "      <td>0</td>\n",
       "      <td>#KIM</td>\n",
       "      <td>NaN</td>\n",
       "      <td>11/20/2023</td>\n",
       "      <td>prabowogibran</td>\n",
       "      <td>2023-11-20</td>\n",
       "      <td>(0.0, 0.0)</td>\n",
       "      <td>(0.0, 0.0, [])</td>\n",
       "      <td>0.0</td>\n",
       "      <td>0.0</td>\n",
       "    </tr>\n",
       "  </tbody>\n",
       "</table>\n",
       "</div>"
      ],
      "text/plain": [
       "                                                text  \\\n",
       "0  Sah, Pasangan Prabowo-Gibran dapat Nomor Urut ...   \n",
       "1                               #nomor 1 Amin menang   \n",
       "2  Pak Prabowo mengangkat anak penerbang tucano y...   \n",
       "3  Unboxing Prabowo; Cerita sejarah, deklarasi bu...   \n",
       "4                      #Nomor 1\\n\\nIndonesia beradab   \n",
       "5  Setelah proses pengundian, Anies Baswedan-Muha...   \n",
       "6  Pakar Intelijen AM Hendropriyono, Jika Tidak A...   \n",
       "7  Pakar Intelijen AM Hendropriyono, Jika Tidak A...   \n",
       "8  Yang Orang tidak tahu tentang Pak Prabowo \\n #...   \n",
       "9  Pak Prabowo Subianto kembali meresmikan 15 tit...   \n",
       "\n",
       "                                       clean_content  likes  replies  quotes  \\\n",
       "0  sah pasang prabowo gibran nomor urut tetap kpu...      0        0       0   \n",
       "1                                  nomor amin menang      0        0       0   \n",
       "2  prabowo angkat anak terbang tucano gugur anak ...      0        0       0   \n",
       "3  unboxing prabowo cerita sejarah deklarasi budi...      1        0       0   \n",
       "4                               nomor indonesia adab      0        0       0   \n",
       "5  proses undi anies baswedan muhaimin iskandar c...      5        2       1   \n",
       "6  pakar intelijen am hendropriyono halang rintan...      0        0       0   \n",
       "7  pakar intelijen am hendropriyono halang rintan...      0        0       0   \n",
       "8  orang prabowo indonesiaterusmaju energibaru se...      0        0       0   \n",
       "9  prabowo subianto resmi titik sumber air bersih...      0        0       0   \n",
       "\n",
       "   retweets searchQuery user_location     tanggal        dataset       date  \\\n",
       "0         0      #nomor           NaN  11/14/2023  prabowogibran 2023-11-14   \n",
       "1         0      #nomor           NaN  11/15/2023  prabowogibran 2023-11-15   \n",
       "2         0        #KIM           NaN  11/20/2023  prabowogibran 2023-11-20   \n",
       "3         0        #KIM           NaN  11/20/2023  prabowogibran 2023-11-20   \n",
       "4         0      #nomor           NaN  11/14/2023  prabowogibran 2023-11-14   \n",
       "5         1      #nomor           NaN  11/14/2023  prabowogibran 2023-11-14   \n",
       "6         0        #KIM           NaN  11/20/2023  prabowogibran 2023-11-20   \n",
       "7         0        #KIM           NaN  11/20/2023  prabowogibran 2023-11-20   \n",
       "8         0        #KIM           NaN  11/20/2023  prabowogibran 2023-11-20   \n",
       "9         0        #KIM           NaN  11/20/2023  prabowogibran 2023-11-20   \n",
       "\n",
       "  textblob_sentiment textblob_sentiment_assessment  textblob_polarity  \\\n",
       "0         (0.0, 0.0)                (0.0, 0.0, [])                0.0   \n",
       "1         (0.0, 0.0)                (0.0, 0.0, [])                0.0   \n",
       "2         (0.0, 0.0)                (0.0, 0.0, [])                0.0   \n",
       "3         (0.0, 0.0)                (0.0, 0.0, [])                0.0   \n",
       "4         (0.0, 0.0)                (0.0, 0.0, [])                0.0   \n",
       "5         (0.0, 0.0)                (0.0, 0.0, [])                0.0   \n",
       "6         (0.0, 0.0)                (0.0, 0.0, [])                0.0   \n",
       "7         (0.0, 0.0)                (0.0, 0.0, [])                0.0   \n",
       "8         (0.0, 0.0)                (0.0, 0.0, [])                0.0   \n",
       "9         (0.0, 0.0)                (0.0, 0.0, [])                0.0   \n",
       "\n",
       "   textblob_subject  \n",
       "0               0.0  \n",
       "1               0.0  \n",
       "2               0.0  \n",
       "3               0.0  \n",
       "4               0.0  \n",
       "5               0.0  \n",
       "6               0.0  \n",
       "7               0.0  \n",
       "8               0.0  \n",
       "9               0.0  "
      ]
     },
     "execution_count": 66,
     "metadata": {},
     "output_type": "execute_result"
    }
   ],
   "source": [
    "samples.head(10)"
   ]
  },
  {
   "cell_type": "markdown",
   "metadata": {},
   "source": [
    "## Vader Labelling"
   ]
  },
  {
   "cell_type": "code",
   "execution_count": 67,
   "metadata": {},
   "outputs": [],
   "source": [
    "# !pip install vaderSentiment\n",
    "from vaderSentiment.vaderSentiment import SentimentIntensityAnalyzer\n",
    "vader=SentimentIntensityAnalyzer()"
   ]
  },
  {
   "cell_type": "code",
   "execution_count": 68,
   "metadata": {},
   "outputs": [],
   "source": [
    "samples['vader_compound'] = [vader.polarity_scores(x)['compound'] for x in samples['clean_content']]\n",
    "samples['vader_neg'] = [vader.polarity_scores(x)['neg'] for x in samples['clean_content']]\n",
    "samples['vader_neu'] = [vader.polarity_scores(x)['neu'] for x in samples['clean_content']]\n",
    "samples['vader_pos'] = [vader.polarity_scores(x)['pos'] for x in samples['clean_content']]"
   ]
  },
  {
   "cell_type": "markdown",
   "metadata": {},
   "source": [
    "## SENTILEX-ID (SENTIMENT LEXICON BAHASA INDONESIA)"
   ]
  },
  {
   "cell_type": "code",
   "execution_count": 69,
   "metadata": {},
   "outputs": [],
   "source": [
    "from sklearn.feature_extraction.text import CountVectorizer, TfidfVectorizer\n",
    "from sklearn import linear_model"
   ]
  },
  {
   "cell_type": "code",
   "execution_count": 70,
   "metadata": {},
   "outputs": [],
   "source": [
    "spath = 'lexicon/sentilex-id/'\n",
    "# sentiment_id_n = pd.read_csv(spath + 'negative_words_id.txt').rename(columns={'время':'Words'})\n",
    "sentiment_id_n = pd.read_csv(spath + 'negative_words_id.txt')\n",
    "sentiment_id_n['Polarity'] = -1\n",
    "sentiment_id_p = pd.read_csv(spath + 'positive_words_id.txt')\n",
    "sentiment_id_p['Polarity'] = 1\n",
    "sentiment_id = pd.concat([sentiment_id_n, sentiment_id_p], ignore_index=True)\n",
    "sentiment_id_vect = CountVectorizer()\n",
    "sentiment_id2 = sentiment_id_vect.fit_transform(sentiment_id['Words'])\n",
    "sentiment_id_model = linear_model.LinearRegression(n_jobs=-1).fit(sentiment_id2, sentiment_id['Polarity'])"
   ]
  },
  {
   "cell_type": "code",
   "execution_count": 71,
   "metadata": {},
   "outputs": [],
   "source": [
    "def getSentiLex(s):\n",
    "    return sentiment_id_model.predict(sentiment_id_vect.transform([s]))[0]"
   ]
  },
  {
   "cell_type": "code",
   "execution_count": 72,
   "metadata": {},
   "outputs": [],
   "source": [
    "senti_cols = ['clean_content']\n",
    "for c in senti_cols:\n",
    "    samples[c + '_Pol'] = samples[c].map(lambda x: getSentiLex(str(x))) #getSentiLex\n",
    "    # testing[c + '_Pol'] = testing[c].map(lambda x: getSentiLex(str(x))) #getSentiLex\n",
    "    # samples['textblob_sentiment'] = samples['clean_content'].progress_apply(lambda x: TextBlob(x).sentiment)\n"
   ]
  },
  {
   "cell_type": "code",
   "execution_count": 73,
   "metadata": {},
   "outputs": [],
   "source": [
    "# decide sentiment as positive, negative and neutral SENTILEX-ID Sentiment Lexicon ID\n",
    "def getsentilex(x):\n",
    "    if x >=1:\n",
    "        return 'Positive'\n",
    "    elif x <=-1:\n",
    "        return 'Negative'\n",
    "    else:\n",
    "        return 'Neutral'\n",
    "    # return xx"
   ]
  },
  {
   "cell_type": "code",
   "execution_count": 74,
   "metadata": {},
   "outputs": [],
   "source": [
    "# decide sentiment as positive, negative and neutral\n",
    "def sentivader(x):\n",
    "    if x >=0.05:\n",
    "        return 'Positive'\n",
    "    elif x <=-0.05:\n",
    "        return 'Negative'\n",
    "    else:\n",
    "        return 'Neutral'\n",
    "    # return xx"
   ]
  },
  {
   "cell_type": "code",
   "execution_count": 75,
   "metadata": {},
   "outputs": [],
   "source": [
    "def sentitextblob(score):\n",
    "    if score < 0:\n",
    "        return 'Negative'\n",
    "    elif score == 0:\n",
    "        return 'Neutral'\n",
    "    else:\n",
    "        return 'Positive'\n",
    "        "
   ]
  },
  {
   "cell_type": "code",
   "execution_count": 76,
   "metadata": {},
   "outputs": [
    {
     "data": {
      "application/vnd.jupyter.widget-view+json": {
       "model_id": "38fdec846fde47baa619adb2fcf66e57",
       "version_major": 2,
       "version_minor": 0
      },
      "text/plain": [
       "  0%|          | 0/7306 [00:00<?, ?it/s]"
      ]
     },
     "metadata": {},
     "output_type": "display_data"
    },
    {
     "data": {
      "application/vnd.jupyter.widget-view+json": {
       "model_id": "4b35ddd589e74f49a5845e39d70b7f39",
       "version_major": 2,
       "version_minor": 0
      },
      "text/plain": [
       "  0%|          | 0/7306 [00:00<?, ?it/s]"
      ]
     },
     "metadata": {},
     "output_type": "display_data"
    },
    {
     "data": {
      "application/vnd.jupyter.widget-view+json": {
       "model_id": "27c98cfa8db5477eb0588a14d0a249fa",
       "version_major": 2,
       "version_minor": 0
      },
      "text/plain": [
       "  0%|          | 0/7306 [00:00<?, ?it/s]"
      ]
     },
     "metadata": {},
     "output_type": "display_data"
    }
   ],
   "source": [
    "samples['vader_sentiment'] = samples['vader_compound'].progress_apply(lambda x: sentivader(x))\n",
    "samples['textblob_sentiment'] = samples['textblob_polarity'].progress_apply(lambda x: sentitextblob(x))\n",
    "samples['sentilex'] = samples['clean_content_Pol'].progress_apply(lambda x: getsentilex(x))\n"
   ]
  },
  {
   "cell_type": "code",
   "execution_count": 77,
   "metadata": {},
   "outputs": [
    {
     "name": "stdout",
     "output_type": "stream",
     "text": [
      "<class 'pandas.core.frame.DataFrame'>\n",
      "RangeIndex: 7306 entries, 0 to 7305\n",
      "Data columns (total 22 columns):\n",
      " #   Column                         Non-Null Count  Dtype         \n",
      "---  ------                         --------------  -----         \n",
      " 0   text                           7306 non-null   object        \n",
      " 1   clean_content                  7306 non-null   object        \n",
      " 2   likes                          7306 non-null   int64         \n",
      " 3   replies                        7306 non-null   int64         \n",
      " 4   quotes                         7306 non-null   int64         \n",
      " 5   retweets                       7306 non-null   int64         \n",
      " 6   searchQuery                    7306 non-null   object        \n",
      " 7   user_location                  3472 non-null   object        \n",
      " 8   tanggal                        7306 non-null   object        \n",
      " 9   dataset                        7306 non-null   object        \n",
      " 10  date                           7306 non-null   datetime64[ns]\n",
      " 11  textblob_sentiment             7306 non-null   object        \n",
      " 12  textblob_sentiment_assessment  7306 non-null   object        \n",
      " 13  textblob_polarity              7306 non-null   float64       \n",
      " 14  textblob_subject               7306 non-null   float64       \n",
      " 15  vader_compound                 7306 non-null   float64       \n",
      " 16  vader_neg                      7306 non-null   float64       \n",
      " 17  vader_neu                      7306 non-null   float64       \n",
      " 18  vader_pos                      7306 non-null   float64       \n",
      " 19  clean_content_Pol              7306 non-null   float64       \n",
      " 20  vader_sentiment                7306 non-null   object        \n",
      " 21  sentilex                       7306 non-null   object        \n",
      "dtypes: datetime64[ns](1), float64(7), int64(4), object(10)\n",
      "memory usage: 1.2+ MB\n"
     ]
    }
   ],
   "source": [
    "samples.info()"
   ]
  },
  {
   "cell_type": "code",
   "execution_count": null,
   "metadata": {},
   "outputs": [],
   "source": []
  },
  {
   "cell_type": "code",
   "execution_count": 79,
   "metadata": {},
   "outputs": [],
   "source": [
    "samples.to_csv( \"dataset/dataset_nomorurut_content_textblobvader_sentilex.csv\", index=False, encoding='utf-8-sig')"
   ]
  }
 ],
 "metadata": {
  "kernelspec": {
   "display_name": "Python 3",
   "language": "python",
   "name": "python3"
  },
  "language_info": {
   "codemirror_mode": {
    "name": "ipython",
    "version": 3
   },
   "file_extension": ".py",
   "mimetype": "text/x-python",
   "name": "python",
   "nbconvert_exporter": "python",
   "pygments_lexer": "ipython3",
   "version": "3.10.6"
  }
 },
 "nbformat": 4,
 "nbformat_minor": 2
}
