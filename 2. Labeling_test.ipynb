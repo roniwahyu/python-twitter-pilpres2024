{
 "cells": [
  {
   "cell_type": "code",
   "execution_count": 40,
   "metadata": {},
   "outputs": [
    {
     "name": "stderr",
     "output_type": "stream",
     "text": [
      "[nltk_data] Downloading package punkt to /home/gitpod/nltk_data...\n",
      "[nltk_data]   Unzipping tokenizers/punkt.zip.\n",
      "[nltk_data] Downloading package stopwords to /home/gitpod/nltk_data...\n",
      "[nltk_data]   Unzipping corpora/stopwords.zip.\n",
      "[nltk_data] Downloading package words to /home/gitpod/nltk_data...\n",
      "[nltk_data]   Unzipping corpora/words.zip.\n",
      "[nltk_data] Downloading package wordnet to /home/gitpod/nltk_data...\n"
     ]
    }
   ],
   "source": [
    "import pandas as pd\n",
    "import numpy as np\n",
    "import nltk\n",
    "# Apply text pre-processing to DataFrame\n",
    "from tqdm._tqdm_notebook import tqdm_notebook\n",
    "tqdm_notebook.pandas()\n",
    "\n",
    "nltk.download('punkt')\n",
    "nltk.download('stopwords')\n",
    "nltk.download('words')\n",
    "nltk.download('wordnet')\n",
    "from nltk.tokenize import word_tokenize\n",
    "from textblob import TextBlob, Word"
   ]
  },
  {
   "cell_type": "code",
   "execution_count": 11,
   "metadata": {},
   "outputs": [],
   "source": [
    "samples= pd.read_csv('hasil/samples_clean_content.csv', encoding='ISO-8859-1')\n",
    "samples=samples[['likes','replies','quotes','retweets','searchQuery','clean_content']]"
   ]
  },
  {
   "cell_type": "code",
   "execution_count": 14,
   "metadata": {},
   "outputs": [
    {
     "data": {
      "text/plain": [
       "<bound method DataFrame.info of       likes  replies  quotes  retweets     searchQuery  \\\n",
       "0         0        0       0         0         #gibran   \n",
       "1         0        0       0         0         #gibran   \n",
       "2         0        0       0         0         #gibran   \n",
       "3         0        0       0         0         #gibran   \n",
       "4         0        0       0         0        #cakimin   \n",
       "...     ...      ...     ...       ...             ...   \n",
       "5825      0        0       0         0  prabowo gibran   \n",
       "5826      0        0       0         0  prabowo gibran   \n",
       "5827      0        0       0         0  prabowo gibran   \n",
       "5828      0        0       0         0  prabowo gibran   \n",
       "5829    403      265     200        84  prabowo gibran   \n",
       "\n",
       "                                          clean_content  \n",
       "0     result togel november jogjatoto palembang pool...  \n",
       "1     result togel november jogjatoto sunda pools co...  \n",
       "2     result togel november jogjatoto belarusia pool...  \n",
       "3     result togel november jogjatoto toto macau sea...  \n",
       "4     politik muhaiminiskandar cakimin mahasiswaunis...  \n",
       "...                                                 ...  \n",
       "5825  jakarta timur pilih prabowo gibran informasi s...  \n",
       "5826  abu janda sosok getar koalisi prabowo gibran f...  \n",
       "5827                konflik prabowo gibran kerja sslrrn  \n",
       "5828  prabowo gibran indonesia sejahtera program swa...  \n",
       "5829  titiek suharto jabat nasihat tkn prabowo gibra...  \n",
       "\n",
       "[5830 rows x 6 columns]>"
      ]
     },
     "execution_count": 14,
     "metadata": {},
     "output_type": "execute_result"
    }
   ],
   "source": [
    "samples.info"
   ]
  },
  {
   "cell_type": "markdown",
   "metadata": {},
   "source": [
    "## TEXTBLOB LABELING"
   ]
  },
  {
   "cell_type": "code",
   "execution_count": null,
   "metadata": {},
   "outputs": [],
   "source": [
    "# TextBlob\n",
    "# https://www.analyticsvidhya.com/blog/2021/10/sentiment-analysis-with-textblob-and-vader/\n",
    "# !pip install textblob"
   ]
  },
  {
   "cell_type": "code",
   "execution_count": 42,
   "metadata": {},
   "outputs": [],
   "source": [
    "from textblob import TextBlob"
   ]
  },
  {
   "cell_type": "code",
   "execution_count": 43,
   "metadata": {},
   "outputs": [],
   "source": [
    "def sentiment_calc(text):\n",
    "    try:\n",
    "        return TextBlob(text).sentiment\n",
    "    except:\n",
    "        return None"
   ]
  },
  {
   "cell_type": "code",
   "execution_count": 44,
   "metadata": {},
   "outputs": [],
   "source": [
    "def textblob_polarity(text):\n",
    "    try:\n",
    "        return TextBlob(text).polarity\n",
    "    except:\n",
    "        return None"
   ]
  },
  {
   "cell_type": "code",
   "execution_count": 45,
   "metadata": {},
   "outputs": [],
   "source": [
    "def textblob_subject(text):\n",
    "    try:\n",
    "        return TextBlob(text).subjectivity\n",
    "    except:\n",
    "        return None"
   ]
  },
  {
   "cell_type": "code",
   "execution_count": 46,
   "metadata": {},
   "outputs": [
    {
     "name": "stdout",
     "output_type": "stream",
     "text": [
      "tpn ganjar mahfud mkmk pecat ketua mk anwar usman bukti langgar etik pamangibrancurang\n",
      "0.0\n",
      "0.0\n"
     ]
    }
   ],
   "source": [
    "sentence = samples.clean_content[1600]\n",
    "print(sentence)\n",
    "res = TextBlob(sentence)\n",
    "print(res.sentiment.polarity)\n",
    "print(res.sentiment.subjectivity)"
   ]
  },
  {
   "cell_type": "code",
   "execution_count": 60,
   "metadata": {},
   "outputs": [
    {
     "data": {
      "application/vnd.jupyter.widget-view+json": {
       "model_id": "0a3c6d98d9434d83a2df655ab8268a28",
       "version_major": 2,
       "version_minor": 0
      },
      "text/plain": [
       "  0%|          | 0/5830 [00:00<?, ?it/s]"
      ]
     },
     "metadata": {},
     "output_type": "display_data"
    },
    {
     "data": {
      "application/vnd.jupyter.widget-view+json": {
       "model_id": "83e11f6d50c243a6a643103313aa0ada",
       "version_major": 2,
       "version_minor": 0
      },
      "text/plain": [
       "  0%|          | 0/5830 [00:00<?, ?it/s]"
      ]
     },
     "metadata": {},
     "output_type": "display_data"
    },
    {
     "data": {
      "application/vnd.jupyter.widget-view+json": {
       "model_id": "6c679a04ee05467c96a8db00e42bac25",
       "version_major": 2,
       "version_minor": 0
      },
      "text/plain": [
       "  0%|          | 0/5830 [00:00<?, ?it/s]"
      ]
     },
     "metadata": {},
     "output_type": "display_data"
    },
    {
     "data": {
      "application/vnd.jupyter.widget-view+json": {
       "model_id": "02f25d53715b4c88914491efed15f711",
       "version_major": 2,
       "version_minor": 0
      },
      "text/plain": [
       "  0%|          | 0/5830 [00:00<?, ?it/s]"
      ]
     },
     "metadata": {},
     "output_type": "display_data"
    }
   ],
   "source": [
    "# samples['norm_content'] = samples['text_lower'].progress_apply(lambda x: normalisasi(x))\n",
    "# samples['textblob_sentiment'] = samples['clean_content'].progress_apply(lambda x: sentiment_calc(x))\n",
    "# samples['textblob_polarity'] = samples['clean_content'].progress_apply(lambda x: textblob_polarity(x))\n",
    "# samples['textblob_subject'] = samples['clean_content'].progress_apply(lambda x: textblob_subject(x))\n",
    "samples['textblob_sentiment'] = samples['clean_content'].progress_apply(lambda x: TextBlob(x).sentiment)\n",
    "samples['textblob_sentiment_assessment'] = samples['clean_content'].progress_apply(lambda x: TextBlob(x).sentiment_assessments)\n",
    "samples['textblob_polarity'] = samples['clean_content'].progress_apply(lambda x: TextBlob(x).polarity)\n",
    "samples['textblob_subject'] = samples['clean_content'].progress_apply(lambda x: TextBlob(x).subjectivity)"
   ]
  },
  {
   "cell_type": "code",
   "execution_count": 61,
   "metadata": {},
   "outputs": [
    {
     "data": {
      "text/html": [
       "<div>\n",
       "<style scoped>\n",
       "    .dataframe tbody tr th:only-of-type {\n",
       "        vertical-align: middle;\n",
       "    }\n",
       "\n",
       "    .dataframe tbody tr th {\n",
       "        vertical-align: top;\n",
       "    }\n",
       "\n",
       "    .dataframe thead th {\n",
       "        text-align: right;\n",
       "    }\n",
       "</style>\n",
       "<table border=\"1\" class=\"dataframe\">\n",
       "  <thead>\n",
       "    <tr style=\"text-align: right;\">\n",
       "      <th></th>\n",
       "      <th>likes</th>\n",
       "      <th>replies</th>\n",
       "      <th>quotes</th>\n",
       "      <th>retweets</th>\n",
       "      <th>searchQuery</th>\n",
       "      <th>clean_content</th>\n",
       "      <th>textblob_sentiment</th>\n",
       "      <th>textblob_polarity</th>\n",
       "      <th>textblob_subject</th>\n",
       "      <th>vader_compound</th>\n",
       "      <th>vader_neg</th>\n",
       "      <th>vader_neu</th>\n",
       "      <th>vader_pos</th>\n",
       "      <th>textblob_sentiment_assessment</th>\n",
       "    </tr>\n",
       "  </thead>\n",
       "  <tbody>\n",
       "    <tr>\n",
       "      <th>0</th>\n",
       "      <td>0</td>\n",
       "      <td>0</td>\n",
       "      <td>0</td>\n",
       "      <td>0</td>\n",
       "      <td>#gibran</td>\n",
       "      <td>result togel november jogjatoto palembang pool...</td>\n",
       "      <td>(0.0, 0.0)</td>\n",
       "      <td>0.0</td>\n",
       "      <td>0.0</td>\n",
       "      <td>0.0</td>\n",
       "      <td>0.0</td>\n",
       "      <td>1.0</td>\n",
       "      <td>0.0</td>\n",
       "      <td>(0.0, 0.0, [])</td>\n",
       "    </tr>\n",
       "    <tr>\n",
       "      <th>1</th>\n",
       "      <td>0</td>\n",
       "      <td>0</td>\n",
       "      <td>0</td>\n",
       "      <td>0</td>\n",
       "      <td>#gibran</td>\n",
       "      <td>result togel november jogjatoto sunda pools co...</td>\n",
       "      <td>(0.0, 0.0)</td>\n",
       "      <td>0.0</td>\n",
       "      <td>0.0</td>\n",
       "      <td>0.0</td>\n",
       "      <td>0.0</td>\n",
       "      <td>1.0</td>\n",
       "      <td>0.0</td>\n",
       "      <td>(0.0, 0.0, [])</td>\n",
       "    </tr>\n",
       "    <tr>\n",
       "      <th>2</th>\n",
       "      <td>0</td>\n",
       "      <td>0</td>\n",
       "      <td>0</td>\n",
       "      <td>0</td>\n",
       "      <td>#gibran</td>\n",
       "      <td>result togel november jogjatoto belarusia pool...</td>\n",
       "      <td>(0.0, 0.0)</td>\n",
       "      <td>0.0</td>\n",
       "      <td>0.0</td>\n",
       "      <td>0.0</td>\n",
       "      <td>0.0</td>\n",
       "      <td>1.0</td>\n",
       "      <td>0.0</td>\n",
       "      <td>(0.0, 0.0, [])</td>\n",
       "    </tr>\n",
       "    <tr>\n",
       "      <th>3</th>\n",
       "      <td>0</td>\n",
       "      <td>0</td>\n",
       "      <td>0</td>\n",
       "      <td>0</td>\n",
       "      <td>#gibran</td>\n",
       "      <td>result togel november jogjatoto toto macau sea...</td>\n",
       "      <td>(0.0, 0.0)</td>\n",
       "      <td>0.0</td>\n",
       "      <td>0.0</td>\n",
       "      <td>0.0</td>\n",
       "      <td>0.0</td>\n",
       "      <td>1.0</td>\n",
       "      <td>0.0</td>\n",
       "      <td>(0.0, 0.0, [])</td>\n",
       "    </tr>\n",
       "    <tr>\n",
       "      <th>4</th>\n",
       "      <td>0</td>\n",
       "      <td>0</td>\n",
       "      <td>0</td>\n",
       "      <td>0</td>\n",
       "      <td>#cakimin</td>\n",
       "      <td>politik muhaiminiskandar cakimin mahasiswaunis...</td>\n",
       "      <td>(0.0, 0.0)</td>\n",
       "      <td>0.0</td>\n",
       "      <td>0.0</td>\n",
       "      <td>0.0</td>\n",
       "      <td>0.0</td>\n",
       "      <td>1.0</td>\n",
       "      <td>0.0</td>\n",
       "      <td>(0.0, 0.0, [])</td>\n",
       "    </tr>\n",
       "    <tr>\n",
       "      <th>5</th>\n",
       "      <td>0</td>\n",
       "      <td>0</td>\n",
       "      <td>0</td>\n",
       "      <td>0</td>\n",
       "      <td>#gibran</td>\n",
       "      <td>result togel november jogjatoto japan pools co...</td>\n",
       "      <td>(0.0, 0.0)</td>\n",
       "      <td>0.0</td>\n",
       "      <td>0.0</td>\n",
       "      <td>0.0</td>\n",
       "      <td>0.0</td>\n",
       "      <td>1.0</td>\n",
       "      <td>0.0</td>\n",
       "      <td>(0.0, 0.0, [])</td>\n",
       "    </tr>\n",
       "    <tr>\n",
       "      <th>6</th>\n",
       "      <td>9</td>\n",
       "      <td>1</td>\n",
       "      <td>0</td>\n",
       "      <td>1</td>\n",
       "      <td>#cakimin</td>\n",
       "      <td>bacapres anies baswedan ketua tpn anies muhaim...</td>\n",
       "      <td>(0.0, 0.0)</td>\n",
       "      <td>0.0</td>\n",
       "      <td>0.0</td>\n",
       "      <td>0.0</td>\n",
       "      <td>0.0</td>\n",
       "      <td>1.0</td>\n",
       "      <td>0.0</td>\n",
       "      <td>(0.0, 0.0, [])</td>\n",
       "    </tr>\n",
       "    <tr>\n",
       "      <th>7</th>\n",
       "      <td>0</td>\n",
       "      <td>0</td>\n",
       "      <td>0</td>\n",
       "      <td>0</td>\n",
       "      <td>#cakimin</td>\n",
       "      <td>ganjar konsisten tolak israel indonesia ganjar...</td>\n",
       "      <td>(0.0, 0.0)</td>\n",
       "      <td>0.0</td>\n",
       "      <td>0.0</td>\n",
       "      <td>0.0</td>\n",
       "      <td>0.0</td>\n",
       "      <td>1.0</td>\n",
       "      <td>0.0</td>\n",
       "      <td>(0.0, 0.0, [])</td>\n",
       "    </tr>\n",
       "    <tr>\n",
       "      <th>8</th>\n",
       "      <td>0</td>\n",
       "      <td>0</td>\n",
       "      <td>0</td>\n",
       "      <td>0</td>\n",
       "      <td>#cakimin</td>\n",
       "      <td>nakama matten da jama su na buah utas nakama n...</td>\n",
       "      <td>(0.0, 0.0)</td>\n",
       "      <td>0.0</td>\n",
       "      <td>0.0</td>\n",
       "      <td>0.0</td>\n",
       "      <td>0.0</td>\n",
       "      <td>1.0</td>\n",
       "      <td>0.0</td>\n",
       "      <td>(0.0, 0.0, [])</td>\n",
       "    </tr>\n",
       "    <tr>\n",
       "      <th>9</th>\n",
       "      <td>0</td>\n",
       "      <td>0</td>\n",
       "      <td>0</td>\n",
       "      <td>0</td>\n",
       "      <td>#cakimin</td>\n",
       "      <td>temu din syamsuddin cak imin klaim menang puta...</td>\n",
       "      <td>(0.0, 0.0)</td>\n",
       "      <td>0.0</td>\n",
       "      <td>0.0</td>\n",
       "      <td>0.0</td>\n",
       "      <td>0.0</td>\n",
       "      <td>1.0</td>\n",
       "      <td>0.0</td>\n",
       "      <td>(0.0, 0.0, [])</td>\n",
       "    </tr>\n",
       "  </tbody>\n",
       "</table>\n",
       "</div>"
      ],
      "text/plain": [
       "   likes  replies  quotes  retweets searchQuery  \\\n",
       "0      0        0       0         0     #gibran   \n",
       "1      0        0       0         0     #gibran   \n",
       "2      0        0       0         0     #gibran   \n",
       "3      0        0       0         0     #gibran   \n",
       "4      0        0       0         0    #cakimin   \n",
       "5      0        0       0         0     #gibran   \n",
       "6      9        1       0         1    #cakimin   \n",
       "7      0        0       0         0    #cakimin   \n",
       "8      0        0       0         0    #cakimin   \n",
       "9      0        0       0         0    #cakimin   \n",
       "\n",
       "                                       clean_content textblob_sentiment  \\\n",
       "0  result togel november jogjatoto palembang pool...         (0.0, 0.0)   \n",
       "1  result togel november jogjatoto sunda pools co...         (0.0, 0.0)   \n",
       "2  result togel november jogjatoto belarusia pool...         (0.0, 0.0)   \n",
       "3  result togel november jogjatoto toto macau sea...         (0.0, 0.0)   \n",
       "4  politik muhaiminiskandar cakimin mahasiswaunis...         (0.0, 0.0)   \n",
       "5  result togel november jogjatoto japan pools co...         (0.0, 0.0)   \n",
       "6  bacapres anies baswedan ketua tpn anies muhaim...         (0.0, 0.0)   \n",
       "7  ganjar konsisten tolak israel indonesia ganjar...         (0.0, 0.0)   \n",
       "8  nakama matten da jama su na buah utas nakama n...         (0.0, 0.0)   \n",
       "9  temu din syamsuddin cak imin klaim menang puta...         (0.0, 0.0)   \n",
       "\n",
       "   textblob_polarity  textblob_subject  vader_compound  vader_neg  vader_neu  \\\n",
       "0                0.0               0.0             0.0        0.0        1.0   \n",
       "1                0.0               0.0             0.0        0.0        1.0   \n",
       "2                0.0               0.0             0.0        0.0        1.0   \n",
       "3                0.0               0.0             0.0        0.0        1.0   \n",
       "4                0.0               0.0             0.0        0.0        1.0   \n",
       "5                0.0               0.0             0.0        0.0        1.0   \n",
       "6                0.0               0.0             0.0        0.0        1.0   \n",
       "7                0.0               0.0             0.0        0.0        1.0   \n",
       "8                0.0               0.0             0.0        0.0        1.0   \n",
       "9                0.0               0.0             0.0        0.0        1.0   \n",
       "\n",
       "   vader_pos textblob_sentiment_assessment  \n",
       "0        0.0                (0.0, 0.0, [])  \n",
       "1        0.0                (0.0, 0.0, [])  \n",
       "2        0.0                (0.0, 0.0, [])  \n",
       "3        0.0                (0.0, 0.0, [])  \n",
       "4        0.0                (0.0, 0.0, [])  \n",
       "5        0.0                (0.0, 0.0, [])  \n",
       "6        0.0                (0.0, 0.0, [])  \n",
       "7        0.0                (0.0, 0.0, [])  \n",
       "8        0.0                (0.0, 0.0, [])  \n",
       "9        0.0                (0.0, 0.0, [])  "
      ]
     },
     "execution_count": 61,
     "metadata": {},
     "output_type": "execute_result"
    }
   ],
   "source": [
    "samples.head(10)"
   ]
  },
  {
   "cell_type": "markdown",
   "metadata": {},
   "source": [
    "## Vader Labelling"
   ]
  },
  {
   "cell_type": "code",
   "execution_count": 55,
   "metadata": {},
   "outputs": [
    {
     "name": "stdout",
     "output_type": "stream",
     "text": [
      "Defaulting to user installation because normal site-packages is not writeable\n",
      "Collecting vaderSentiment\n",
      "  Downloading vaderSentiment-3.3.2-py2.py3-none-any.whl (125 kB)\n",
      "\u001b[2K     \u001b[90m━━━━━━━━━━━━━━━━━━━━━━━━━━━━━━━━━━━━━━━\u001b[0m \u001b[32m126.0/126.0 kB\u001b[0m \u001b[31m5.1 MB/s\u001b[0m eta \u001b[36m0:00:00\u001b[0m\n",
      "\u001b[?25hRequirement already satisfied: requests in /workspace/.pyenv_mirror/user/current/lib/python3.10/site-packages (from vaderSentiment) (2.31.0)\n",
      "Requirement already satisfied: charset-normalizer<4,>=2 in /workspace/.pyenv_mirror/user/current/lib/python3.10/site-packages (from requests->vaderSentiment) (3.3.2)\n",
      "Requirement already satisfied: idna<4,>=2.5 in /workspace/.pyenv_mirror/user/current/lib/python3.10/site-packages (from requests->vaderSentiment) (3.4)\n",
      "Requirement already satisfied: urllib3<3,>=1.21.1 in /workspace/.pyenv_mirror/user/current/lib/python3.10/site-packages (from requests->vaderSentiment) (2.0.7)\n",
      "Requirement already satisfied: certifi>=2017.4.17 in /workspace/.pyenv_mirror/user/current/lib/python3.10/site-packages (from requests->vaderSentiment) (2023.7.22)\n"
     ]
    },
    {
     "name": "stdout",
     "output_type": "stream",
     "text": [
      "Installing collected packages: vaderSentiment\n",
      "Successfully installed vaderSentiment-3.3.2\n"
     ]
    }
   ],
   "source": [
    "# !pip install vaderSentiment\n",
    "from vaderSentiment.vaderSentiment import SentimentIntensityAnalyzer\n",
    "vader=SentimentIntensityAnalyzer()"
   ]
  },
  {
   "cell_type": "code",
   "execution_count": 56,
   "metadata": {},
   "outputs": [],
   "source": [
    "samples['vader_compound'] = [vader.polarity_scores(x)['compound'] for x in samples['clean_content']]\n",
    "samples['vader_neg'] = [vader.polarity_scores(x)['neg'] for x in samples['clean_content']]\n",
    "samples['vader_neu'] = [vader.polarity_scores(x)['neu'] for x in samples['clean_content']]\n",
    "samples['vader_pos'] = [vader.polarity_scores(x)['pos'] for x in samples['clean_content']]"
   ]
  },
  {
   "cell_type": "code",
   "execution_count": 69,
   "metadata": {},
   "outputs": [],
   "source": [
    "# decide sentiment as positive, negative and neutral\n",
    "def sentivader(x):\n",
    "    if x >=0.05:\n",
    "        return 'Positive'\n",
    "    elif x <=-0.05:\n",
    "        return 'Negative'\n",
    "    else:\n",
    "        return 'Neutral'\n",
    "    # return xx"
   ]
  },
  {
   "cell_type": "code",
   "execution_count": 74,
   "metadata": {},
   "outputs": [],
   "source": [
    "def sentitextblob(score):\n",
    "    if score < 0:\n",
    "        return 'Negative'\n",
    "    elif score == 0:\n",
    "        return 'Neutral'\n",
    "    else:\n",
    "        return 'Positive'\n",
    "        "
   ]
  },
  {
   "cell_type": "code",
   "execution_count": 75,
   "metadata": {},
   "outputs": [
    {
     "data": {
      "application/vnd.jupyter.widget-view+json": {
       "model_id": "33ab9b21fd0441719086d70ebd72df11",
       "version_major": 2,
       "version_minor": 0
      },
      "text/plain": [
       "  0%|          | 0/5830 [00:00<?, ?it/s]"
      ]
     },
     "metadata": {},
     "output_type": "display_data"
    },
    {
     "data": {
      "application/vnd.jupyter.widget-view+json": {
       "model_id": "53bc852183ff482fb6040d314ba992dc",
       "version_major": 2,
       "version_minor": 0
      },
      "text/plain": [
       "  0%|          | 0/5830 [00:00<?, ?it/s]"
      ]
     },
     "metadata": {},
     "output_type": "display_data"
    }
   ],
   "source": [
    "samples['vader_sentiment'] = samples['vader_compound'].progress_apply(lambda x: sentivader(x))\n",
    "samples['textblob_sentiment'] = samples['textblob_polarity'].progress_apply(lambda x: sentitextblob(x))\n"
   ]
  },
  {
   "cell_type": "code",
   "execution_count": 78,
   "metadata": {},
   "outputs": [
    {
     "data": {
      "text/html": [
       "<div>\n",
       "<style scoped>\n",
       "    .dataframe tbody tr th:only-of-type {\n",
       "        vertical-align: middle;\n",
       "    }\n",
       "\n",
       "    .dataframe tbody tr th {\n",
       "        vertical-align: top;\n",
       "    }\n",
       "\n",
       "    .dataframe thead th {\n",
       "        text-align: right;\n",
       "    }\n",
       "</style>\n",
       "<table border=\"1\" class=\"dataframe\">\n",
       "  <thead>\n",
       "    <tr style=\"text-align: right;\">\n",
       "      <th></th>\n",
       "      <th>likes</th>\n",
       "      <th>replies</th>\n",
       "      <th>quotes</th>\n",
       "      <th>retweets</th>\n",
       "      <th>searchQuery</th>\n",
       "      <th>clean_content</th>\n",
       "      <th>textblob_sentiment</th>\n",
       "      <th>textblob_polarity</th>\n",
       "      <th>textblob_subject</th>\n",
       "      <th>vader_compound</th>\n",
       "      <th>vader_neg</th>\n",
       "      <th>vader_neu</th>\n",
       "      <th>vader_pos</th>\n",
       "      <th>textblob_sentiment_assessment</th>\n",
       "      <th>vader_sentiment</th>\n",
       "    </tr>\n",
       "  </thead>\n",
       "  <tbody>\n",
       "    <tr>\n",
       "      <th>0</th>\n",
       "      <td>0</td>\n",
       "      <td>0</td>\n",
       "      <td>0</td>\n",
       "      <td>0</td>\n",
       "      <td>#gibran</td>\n",
       "      <td>result togel november jogjatoto palembang pool...</td>\n",
       "      <td>Neutral</td>\n",
       "      <td>0.0</td>\n",
       "      <td>0.0</td>\n",
       "      <td>0.0</td>\n",
       "      <td>0.0</td>\n",
       "      <td>1.0</td>\n",
       "      <td>0.0</td>\n",
       "      <td>(0.0, 0.0, [])</td>\n",
       "      <td>Neutral</td>\n",
       "    </tr>\n",
       "    <tr>\n",
       "      <th>1</th>\n",
       "      <td>0</td>\n",
       "      <td>0</td>\n",
       "      <td>0</td>\n",
       "      <td>0</td>\n",
       "      <td>#gibran</td>\n",
       "      <td>result togel november jogjatoto sunda pools co...</td>\n",
       "      <td>Neutral</td>\n",
       "      <td>0.0</td>\n",
       "      <td>0.0</td>\n",
       "      <td>0.0</td>\n",
       "      <td>0.0</td>\n",
       "      <td>1.0</td>\n",
       "      <td>0.0</td>\n",
       "      <td>(0.0, 0.0, [])</td>\n",
       "      <td>Neutral</td>\n",
       "    </tr>\n",
       "    <tr>\n",
       "      <th>2</th>\n",
       "      <td>0</td>\n",
       "      <td>0</td>\n",
       "      <td>0</td>\n",
       "      <td>0</td>\n",
       "      <td>#gibran</td>\n",
       "      <td>result togel november jogjatoto belarusia pool...</td>\n",
       "      <td>Neutral</td>\n",
       "      <td>0.0</td>\n",
       "      <td>0.0</td>\n",
       "      <td>0.0</td>\n",
       "      <td>0.0</td>\n",
       "      <td>1.0</td>\n",
       "      <td>0.0</td>\n",
       "      <td>(0.0, 0.0, [])</td>\n",
       "      <td>Neutral</td>\n",
       "    </tr>\n",
       "    <tr>\n",
       "      <th>3</th>\n",
       "      <td>0</td>\n",
       "      <td>0</td>\n",
       "      <td>0</td>\n",
       "      <td>0</td>\n",
       "      <td>#gibran</td>\n",
       "      <td>result togel november jogjatoto toto macau sea...</td>\n",
       "      <td>Neutral</td>\n",
       "      <td>0.0</td>\n",
       "      <td>0.0</td>\n",
       "      <td>0.0</td>\n",
       "      <td>0.0</td>\n",
       "      <td>1.0</td>\n",
       "      <td>0.0</td>\n",
       "      <td>(0.0, 0.0, [])</td>\n",
       "      <td>Neutral</td>\n",
       "    </tr>\n",
       "    <tr>\n",
       "      <th>4</th>\n",
       "      <td>0</td>\n",
       "      <td>0</td>\n",
       "      <td>0</td>\n",
       "      <td>0</td>\n",
       "      <td>#cakimin</td>\n",
       "      <td>politik muhaiminiskandar cakimin mahasiswaunis...</td>\n",
       "      <td>Neutral</td>\n",
       "      <td>0.0</td>\n",
       "      <td>0.0</td>\n",
       "      <td>0.0</td>\n",
       "      <td>0.0</td>\n",
       "      <td>1.0</td>\n",
       "      <td>0.0</td>\n",
       "      <td>(0.0, 0.0, [])</td>\n",
       "      <td>Neutral</td>\n",
       "    </tr>\n",
       "    <tr>\n",
       "      <th>5</th>\n",
       "      <td>0</td>\n",
       "      <td>0</td>\n",
       "      <td>0</td>\n",
       "      <td>0</td>\n",
       "      <td>#gibran</td>\n",
       "      <td>result togel november jogjatoto japan pools co...</td>\n",
       "      <td>Neutral</td>\n",
       "      <td>0.0</td>\n",
       "      <td>0.0</td>\n",
       "      <td>0.0</td>\n",
       "      <td>0.0</td>\n",
       "      <td>1.0</td>\n",
       "      <td>0.0</td>\n",
       "      <td>(0.0, 0.0, [])</td>\n",
       "      <td>Neutral</td>\n",
       "    </tr>\n",
       "    <tr>\n",
       "      <th>6</th>\n",
       "      <td>9</td>\n",
       "      <td>1</td>\n",
       "      <td>0</td>\n",
       "      <td>1</td>\n",
       "      <td>#cakimin</td>\n",
       "      <td>bacapres anies baswedan ketua tpn anies muhaim...</td>\n",
       "      <td>Neutral</td>\n",
       "      <td>0.0</td>\n",
       "      <td>0.0</td>\n",
       "      <td>0.0</td>\n",
       "      <td>0.0</td>\n",
       "      <td>1.0</td>\n",
       "      <td>0.0</td>\n",
       "      <td>(0.0, 0.0, [])</td>\n",
       "      <td>Neutral</td>\n",
       "    </tr>\n",
       "    <tr>\n",
       "      <th>7</th>\n",
       "      <td>0</td>\n",
       "      <td>0</td>\n",
       "      <td>0</td>\n",
       "      <td>0</td>\n",
       "      <td>#cakimin</td>\n",
       "      <td>ganjar konsisten tolak israel indonesia ganjar...</td>\n",
       "      <td>Neutral</td>\n",
       "      <td>0.0</td>\n",
       "      <td>0.0</td>\n",
       "      <td>0.0</td>\n",
       "      <td>0.0</td>\n",
       "      <td>1.0</td>\n",
       "      <td>0.0</td>\n",
       "      <td>(0.0, 0.0, [])</td>\n",
       "      <td>Neutral</td>\n",
       "    </tr>\n",
       "    <tr>\n",
       "      <th>8</th>\n",
       "      <td>0</td>\n",
       "      <td>0</td>\n",
       "      <td>0</td>\n",
       "      <td>0</td>\n",
       "      <td>#cakimin</td>\n",
       "      <td>nakama matten da jama su na buah utas nakama n...</td>\n",
       "      <td>Neutral</td>\n",
       "      <td>0.0</td>\n",
       "      <td>0.0</td>\n",
       "      <td>0.0</td>\n",
       "      <td>0.0</td>\n",
       "      <td>1.0</td>\n",
       "      <td>0.0</td>\n",
       "      <td>(0.0, 0.0, [])</td>\n",
       "      <td>Neutral</td>\n",
       "    </tr>\n",
       "    <tr>\n",
       "      <th>9</th>\n",
       "      <td>0</td>\n",
       "      <td>0</td>\n",
       "      <td>0</td>\n",
       "      <td>0</td>\n",
       "      <td>#cakimin</td>\n",
       "      <td>temu din syamsuddin cak imin klaim menang puta...</td>\n",
       "      <td>Neutral</td>\n",
       "      <td>0.0</td>\n",
       "      <td>0.0</td>\n",
       "      <td>0.0</td>\n",
       "      <td>0.0</td>\n",
       "      <td>1.0</td>\n",
       "      <td>0.0</td>\n",
       "      <td>(0.0, 0.0, [])</td>\n",
       "      <td>Neutral</td>\n",
       "    </tr>\n",
       "  </tbody>\n",
       "</table>\n",
       "</div>"
      ],
      "text/plain": [
       "   likes  replies  quotes  retweets searchQuery  \\\n",
       "0      0        0       0         0     #gibran   \n",
       "1      0        0       0         0     #gibran   \n",
       "2      0        0       0         0     #gibran   \n",
       "3      0        0       0         0     #gibran   \n",
       "4      0        0       0         0    #cakimin   \n",
       "5      0        0       0         0     #gibran   \n",
       "6      9        1       0         1    #cakimin   \n",
       "7      0        0       0         0    #cakimin   \n",
       "8      0        0       0         0    #cakimin   \n",
       "9      0        0       0         0    #cakimin   \n",
       "\n",
       "                                       clean_content textblob_sentiment  \\\n",
       "0  result togel november jogjatoto palembang pool...            Neutral   \n",
       "1  result togel november jogjatoto sunda pools co...            Neutral   \n",
       "2  result togel november jogjatoto belarusia pool...            Neutral   \n",
       "3  result togel november jogjatoto toto macau sea...            Neutral   \n",
       "4  politik muhaiminiskandar cakimin mahasiswaunis...            Neutral   \n",
       "5  result togel november jogjatoto japan pools co...            Neutral   \n",
       "6  bacapres anies baswedan ketua tpn anies muhaim...            Neutral   \n",
       "7  ganjar konsisten tolak israel indonesia ganjar...            Neutral   \n",
       "8  nakama matten da jama su na buah utas nakama n...            Neutral   \n",
       "9  temu din syamsuddin cak imin klaim menang puta...            Neutral   \n",
       "\n",
       "   textblob_polarity  textblob_subject  vader_compound  vader_neg  vader_neu  \\\n",
       "0                0.0               0.0             0.0        0.0        1.0   \n",
       "1                0.0               0.0             0.0        0.0        1.0   \n",
       "2                0.0               0.0             0.0        0.0        1.0   \n",
       "3                0.0               0.0             0.0        0.0        1.0   \n",
       "4                0.0               0.0             0.0        0.0        1.0   \n",
       "5                0.0               0.0             0.0        0.0        1.0   \n",
       "6                0.0               0.0             0.0        0.0        1.0   \n",
       "7                0.0               0.0             0.0        0.0        1.0   \n",
       "8                0.0               0.0             0.0        0.0        1.0   \n",
       "9                0.0               0.0             0.0        0.0        1.0   \n",
       "\n",
       "   vader_pos textblob_sentiment_assessment vader_sentiment  \n",
       "0        0.0                (0.0, 0.0, [])         Neutral  \n",
       "1        0.0                (0.0, 0.0, [])         Neutral  \n",
       "2        0.0                (0.0, 0.0, [])         Neutral  \n",
       "3        0.0                (0.0, 0.0, [])         Neutral  \n",
       "4        0.0                (0.0, 0.0, [])         Neutral  \n",
       "5        0.0                (0.0, 0.0, [])         Neutral  \n",
       "6        0.0                (0.0, 0.0, [])         Neutral  \n",
       "7        0.0                (0.0, 0.0, [])         Neutral  \n",
       "8        0.0                (0.0, 0.0, [])         Neutral  \n",
       "9        0.0                (0.0, 0.0, [])         Neutral  "
      ]
     },
     "execution_count": 78,
     "metadata": {},
     "output_type": "execute_result"
    }
   ],
   "source": [
    "samples.head(10)"
   ]
  },
  {
   "cell_type": "code",
   "execution_count": 77,
   "metadata": {},
   "outputs": [],
   "source": [
    "samples.to_csv( \"hasil/samples_clean_content_textblob_vader.csv\", index=False, encoding='utf-8-sig')"
   ]
  }
 ],
 "metadata": {
  "kernelspec": {
   "display_name": "Python 3",
   "language": "python",
   "name": "python3"
  },
  "language_info": {
   "codemirror_mode": {
    "name": "ipython",
    "version": 3
   },
   "file_extension": ".py",
   "mimetype": "text/x-python",
   "name": "python",
   "nbconvert_exporter": "python",
   "pygments_lexer": "ipython3",
   "version": "3.10.12"
  }
 },
 "nbformat": 4,
 "nbformat_minor": 2
}
