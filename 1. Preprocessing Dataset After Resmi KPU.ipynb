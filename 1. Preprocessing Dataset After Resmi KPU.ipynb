{
 "cells": [
  {
   "cell_type": "code",
   "execution_count": 2,
   "metadata": {},
   "outputs": [
    {
     "name": "stderr",
     "output_type": "stream",
     "text": [
      "[nltk_data] Downloading package punkt to\n",
      "[nltk_data]     C:\\Users\\LENOVO\\AppData\\Roaming\\nltk_data...\n",
      "[nltk_data]   Package punkt is already up-to-date!\n",
      "[nltk_data] Downloading package stopwords to\n",
      "[nltk_data]     C:\\Users\\LENOVO\\AppData\\Roaming\\nltk_data...\n",
      "[nltk_data]   Package stopwords is already up-to-date!\n",
      "[nltk_data] Downloading package words to\n",
      "[nltk_data]     C:\\Users\\LENOVO\\AppData\\Roaming\\nltk_data...\n",
      "[nltk_data]   Package words is already up-to-date!\n",
      "[nltk_data] Downloading package wordnet to\n",
      "[nltk_data]     C:\\Users\\LENOVO\\AppData\\Roaming\\nltk_data...\n",
      "[nltk_data]   Package wordnet is already up-to-date!\n"
     ]
    }
   ],
   "source": [
    "# Load necessary library and module\n",
    "import warnings\n",
    "warnings.filterwarnings('ignore')\n",
    "\n",
    "import sys\n",
    "import pandas as pd\n",
    "import seaborn as sns\n",
    "import numpy as np\n",
    "import re\n",
    "import string\n",
    "import unicodedata\n",
    "import nltk\n",
    "\n",
    "nltk.download('punkt')\n",
    "nltk.download('stopwords')\n",
    "nltk.download('words')\n",
    "nltk.download('wordnet')\n",
    "from nltk.tokenize import word_tokenize\n",
    "from textblob import TextBlob, Word"
   ]
  },
  {
   "cell_type": "code",
   "execution_count": 3,
   "metadata": {},
   "outputs": [],
   "source": [
    "# Apply text pre-processing to DataFrame\n",
    "from tqdm._tqdm_notebook import tqdm_notebook\n",
    "tqdm_notebook.pandas()\n",
    "\n",
    "from nltk.corpus import stopwords\n",
    "from nltk.stem.porter import PorterStemmer\n",
    "snowball = nltk.stem.SnowballStemmer('english')\n",
    "porter_stemmer = PorterStemmer()\n",
    "\n",
    "from textblob import TextBlob, Word"
   ]
  },
  {
   "cell_type": "code",
   "execution_count": 4,
   "metadata": {},
   "outputs": [],
   "source": [
    "# import StemmerFactory class\n",
    "from Sastrawi.Stemmer.StemmerFactory import StemmerFactory\n",
    "factory = StemmerFactory()\n",
    "stemmer = factory.create_stemmer()\n",
    "# stemming process\n",
    "sentence = 'Perekonomian Indonesia sedang dalam pertumbuhan yang membanggakan'\n",
    "output   = stemmer.stem(sentence)"
   ]
  },
  {
   "cell_type": "code",
   "execution_count": 5,
   "metadata": {},
   "outputs": [
    {
     "name": "stdout",
     "output_type": "stream",
     "text": [
      "ekonomi indonesia sedang dalam tumbuh yang bangga\n"
     ]
    }
   ],
   "source": [
    "# stemming(sentence)\n",
    "print(output)"
   ]
  },
  {
   "cell_type": "markdown",
   "metadata": {},
   "source": []
  },
  {
   "cell_type": "markdown",
   "metadata": {},
   "source": [
    "## LOAD DATASET"
   ]
  },
  {
   "cell_type": "code",
   "execution_count": 18,
   "metadata": {},
   "outputs": [],
   "source": [
    "dataset= pd.read_csv('dataset/dataset_after_resmikpu_13112023_allquery.csv', encoding='ISO-8859-1')#'UTF-8') #'ISO-8859-1')\n",
    "# samples= pd.read_csv('hasil/samples.csv', encoding='ISO-8859-1')"
   ]
  },
  {
   "cell_type": "code",
   "execution_count": 19,
   "metadata": {},
   "outputs": [
    {
     "name": "stdout",
     "output_type": "stream",
     "text": [
      "<class 'pandas.core.frame.DataFrame'>\n",
      "RangeIndex: 2324 entries, 0 to 2323\n",
      "Data columns (total 24 columns):\n",
      " #   Column             Non-Null Count  Dtype  \n",
      "---  ------             --------------  -----  \n",
      " 0   id                 2324 non-null   float64\n",
      " 1   likes              2324 non-null   int64  \n",
      " 2   quotes             2324 non-null   int64  \n",
      " 3   replies            2324 non-null   int64  \n",
      " 4   retweets           2324 non-null   int64  \n",
      " 5   searchQuery        2324 non-null   object \n",
      " 6   text               2324 non-null   object \n",
      " 7   timestamp          2324 non-null   object \n",
      " 8   tanggal            2324 non-null   object \n",
      " 9   url                2324 non-null   object \n",
      " 10  user_description   1726 non-null   object \n",
      " 11  user_join          2324 non-null   object \n",
      " 12  user_location      1223 non-null   object \n",
      " 13  user_totalfollwer  2324 non-null   int64  \n",
      " 14  user_following     2324 non-null   int64  \n",
      " 15  user_totalikes     2324 non-null   int64  \n",
      " 16  user_tweets        2324 non-null   int64  \n",
      " 17  user_url           2324 non-null   object \n",
      " 18  user_firstname     2270 non-null   object \n",
      " 19  user_username      2324 non-null   object \n",
      " 20  user_verified      2324 non-null   bool   \n",
      " 21  user_website       657 non-null    object \n",
      " 22  username           1187 non-null   object \n",
      " 23  verified           2324 non-null   bool   \n",
      "dtypes: bool(2), float64(1), int64(8), object(13)\n",
      "memory usage: 404.1+ KB\n"
     ]
    }
   ],
   "source": [
    "dataset.info()"
   ]
  },
  {
   "cell_type": "code",
   "execution_count": 12,
   "metadata": {},
   "outputs": [],
   "source": [
    "from datetime import datetime"
   ]
  },
  {
   "cell_type": "code",
   "execution_count": 16,
   "metadata": {},
   "outputs": [],
   "source": [
    "# datetime_object = datetime.strptime(dataset['tanggal'], '%Y/%m/%d')"
   ]
  },
  {
   "cell_type": "code",
   "execution_count": 20,
   "metadata": {},
   "outputs": [],
   "source": [
    "# bank = bank[['content', 'score']]\n",
    "# samples=dataset[['tanggal','text']].iloc[1:10]\n",
    "samples=dataset[['tanggal','text','likes','replies','quotes','retweets','searchQuery','timestamp','user_location']]"
   ]
  },
  {
   "cell_type": "code",
   "execution_count": 21,
   "metadata": {},
   "outputs": [
    {
     "name": "stdout",
     "output_type": "stream",
     "text": [
      "<class 'pandas.core.frame.DataFrame'>\n",
      "RangeIndex: 2324 entries, 0 to 2323\n",
      "Data columns (total 9 columns):\n",
      " #   Column         Non-Null Count  Dtype \n",
      "---  ------         --------------  ----- \n",
      " 0   tanggal        2324 non-null   object\n",
      " 1   text           2324 non-null   object\n",
      " 2   likes          2324 non-null   int64 \n",
      " 3   replies        2324 non-null   int64 \n",
      " 4   quotes         2324 non-null   int64 \n",
      " 5   retweets       2324 non-null   int64 \n",
      " 6   searchQuery    2324 non-null   object\n",
      " 7   timestamp      2324 non-null   object\n",
      " 8   user_location  1223 non-null   object\n",
      "dtypes: int64(4), object(5)\n",
      "memory usage: 163.5+ KB\n"
     ]
    }
   ],
   "source": [
    "samples.info()"
   ]
  },
  {
   "cell_type": "code",
   "execution_count": 22,
   "metadata": {},
   "outputs": [],
   "source": [
    "#lowercase all text\n",
    "samples['text_lower']=(dataset['text'].str.lower())"
   ]
  },
  {
   "cell_type": "code",
   "execution_count": 24,
   "metadata": {},
   "outputs": [
    {
     "name": "stdout",
     "output_type": "stream",
     "text": [
      "tanggal                                                 11/22/2023\n",
      "text             Buat yang bertanya-tanya, kenapa sih Prabowo-G...\n",
      "likes                                                           13\n",
      "replies                                                          4\n",
      "quotes                                                           1\n",
      "retweets                                                         9\n",
      "searchQuery                                               #prabowo\n",
      "timestamp                                 2023-11-22T04:38:00.000Z\n",
      "user_location                               DKI Jakarta, Indonesia\n",
      "text_lower       buat yang bertanya-tanya, kenapa sih prabowo-g...\n",
      "Name: 10, dtype: object\n"
     ]
    }
   ],
   "source": [
    "print(samples.iloc[10])"
   ]
  },
  {
   "cell_type": "code",
   "execution_count": 25,
   "metadata": {},
   "outputs": [
    {
     "name": "stdout",
     "output_type": "stream",
     "text": [
      "<class 'pandas.core.frame.DataFrame'>\n",
      "RangeIndex: 2324 entries, 0 to 2323\n",
      "Data columns (total 10 columns):\n",
      " #   Column         Non-Null Count  Dtype \n",
      "---  ------         --------------  ----- \n",
      " 0   tanggal        2324 non-null   object\n",
      " 1   text           2324 non-null   object\n",
      " 2   likes          2324 non-null   int64 \n",
      " 3   replies        2324 non-null   int64 \n",
      " 4   quotes         2324 non-null   int64 \n",
      " 5   retweets       2324 non-null   int64 \n",
      " 6   searchQuery    2324 non-null   object\n",
      " 7   timestamp      2324 non-null   object\n",
      " 8   user_location  1223 non-null   object\n",
      " 9   text_lower     2324 non-null   object\n",
      "dtypes: int64(4), object(6)\n",
      "memory usage: 181.7+ KB\n"
     ]
    }
   ],
   "source": [
    "samples.info()"
   ]
  },
  {
   "cell_type": "code",
   "execution_count": null,
   "metadata": {},
   "outputs": [],
   "source": [
    "# print(stemming(samples.text[1]))"
   ]
  },
  {
   "cell_type": "code",
   "execution_count": 26,
   "metadata": {},
   "outputs": [
    {
     "data": {
      "text/html": [
       "<div>\n",
       "<style scoped>\n",
       "    .dataframe tbody tr th:only-of-type {\n",
       "        vertical-align: middle;\n",
       "    }\n",
       "\n",
       "    .dataframe tbody tr th {\n",
       "        vertical-align: top;\n",
       "    }\n",
       "\n",
       "    .dataframe thead th {\n",
       "        text-align: right;\n",
       "    }\n",
       "</style>\n",
       "<table border=\"1\" class=\"dataframe\">\n",
       "  <thead>\n",
       "    <tr style=\"text-align: right;\">\n",
       "      <th></th>\n",
       "      <th>tanggal</th>\n",
       "      <th>text</th>\n",
       "      <th>likes</th>\n",
       "      <th>replies</th>\n",
       "      <th>quotes</th>\n",
       "      <th>retweets</th>\n",
       "      <th>searchQuery</th>\n",
       "      <th>timestamp</th>\n",
       "      <th>user_location</th>\n",
       "      <th>text_lower</th>\n",
       "    </tr>\n",
       "  </thead>\n",
       "  <tbody>\n",
       "    <tr>\n",
       "      <th>0</th>\n",
       "      <td>11/21/2023</td>\n",
       "      <td>Analisis yang keren banget dari Bang Hasan Nas...</td>\n",
       "      <td>135</td>\n",
       "      <td>32</td>\n",
       "      <td>5</td>\n",
       "      <td>84</td>\n",
       "      <td>#indonesiamaju</td>\n",
       "      <td>2023-11-21T17:31:00.000Z</td>\n",
       "      <td>DKI Jakarta, Indonesia</td>\n",
       "      <td>analisis yang keren banget dari bang hasan nas...</td>\n",
       "    </tr>\n",
       "    <tr>\n",
       "      <th>1</th>\n",
       "      <td>11/21/2023</td>\n",
       "      <td>Mari kita bersatu, kita fokus melihat ke depan...</td>\n",
       "      <td>256</td>\n",
       "      <td>69</td>\n",
       "      <td>5</td>\n",
       "      <td>103</td>\n",
       "      <td>#indonesiamaju</td>\n",
       "      <td>2023-11-21T09:06:00.000Z</td>\n",
       "      <td>Indonesia Raya</td>\n",
       "      <td>mari kita bersatu, kita fokus melihat ke depan...</td>\n",
       "    </tr>\n",
       "    <tr>\n",
       "      <th>2</th>\n",
       "      <td>11/22/2023</td>\n",
       "      <td>Gubernur BI : Pertumbuhan Ekonomi Indonesia Te...</td>\n",
       "      <td>1</td>\n",
       "      <td>0</td>\n",
       "      <td>0</td>\n",
       "      <td>0</td>\n",
       "      <td>#indonesiamaju</td>\n",
       "      <td>2023-11-22T06:40:00.000Z</td>\n",
       "      <td>Bangka Belitung, Indonesia</td>\n",
       "      <td>gubernur bi : pertumbuhan ekonomi indonesia te...</td>\n",
       "    </tr>\n",
       "    <tr>\n",
       "      <th>3</th>\n",
       "      <td>11/22/2023</td>\n",
       "      <td>Gubernur BI : Pertumbuhan Ekonomi Indonesia Te...</td>\n",
       "      <td>1</td>\n",
       "      <td>0</td>\n",
       "      <td>0</td>\n",
       "      <td>0</td>\n",
       "      <td>#indonesiamaju</td>\n",
       "      <td>2023-11-22T06:39:00.000Z</td>\n",
       "      <td>Bangka Belitung, Indonesia</td>\n",
       "      <td>gubernur bi : pertumbuhan ekonomi indonesia te...</td>\n",
       "    </tr>\n",
       "    <tr>\n",
       "      <th>4</th>\n",
       "      <td>11/22/2023</td>\n",
       "      <td>Stabilitas Pertumbuhan Ekonomi Indonesia \\n\\n#...</td>\n",
       "      <td>1</td>\n",
       "      <td>0</td>\n",
       "      <td>0</td>\n",
       "      <td>0</td>\n",
       "      <td>#indonesiamaju</td>\n",
       "      <td>2023-11-22T06:39:00.000Z</td>\n",
       "      <td>Bangka Belitung, Indonesia</td>\n",
       "      <td>stabilitas pertumbuhan ekonomi indonesia \\n\\n#...</td>\n",
       "    </tr>\n",
       "  </tbody>\n",
       "</table>\n",
       "</div>"
      ],
      "text/plain": [
       "      tanggal                                               text  likes  \\\n",
       "0  11/21/2023  Analisis yang keren banget dari Bang Hasan Nas...    135   \n",
       "1  11/21/2023  Mari kita bersatu, kita fokus melihat ke depan...    256   \n",
       "2  11/22/2023  Gubernur BI : Pertumbuhan Ekonomi Indonesia Te...      1   \n",
       "3  11/22/2023  Gubernur BI : Pertumbuhan Ekonomi Indonesia Te...      1   \n",
       "4  11/22/2023  Stabilitas Pertumbuhan Ekonomi Indonesia \\n\\n#...      1   \n",
       "\n",
       "   replies  quotes  retweets     searchQuery                 timestamp  \\\n",
       "0       32       5        84  #indonesiamaju  2023-11-21T17:31:00.000Z   \n",
       "1       69       5       103  #indonesiamaju  2023-11-21T09:06:00.000Z   \n",
       "2        0       0         0  #indonesiamaju  2023-11-22T06:40:00.000Z   \n",
       "3        0       0         0  #indonesiamaju  2023-11-22T06:39:00.000Z   \n",
       "4        0       0         0  #indonesiamaju  2023-11-22T06:39:00.000Z   \n",
       "\n",
       "                user_location  \\\n",
       "0      DKI Jakarta, Indonesia   \n",
       "1              Indonesia Raya   \n",
       "2  Bangka Belitung, Indonesia   \n",
       "3  Bangka Belitung, Indonesia   \n",
       "4  Bangka Belitung, Indonesia   \n",
       "\n",
       "                                          text_lower  \n",
       "0  analisis yang keren banget dari bang hasan nas...  \n",
       "1  mari kita bersatu, kita fokus melihat ke depan...  \n",
       "2  gubernur bi : pertumbuhan ekonomi indonesia te...  \n",
       "3  gubernur bi : pertumbuhan ekonomi indonesia te...  \n",
       "4  stabilitas pertumbuhan ekonomi indonesia \\n\\n#...  "
      ]
     },
     "execution_count": 26,
     "metadata": {},
     "output_type": "execute_result"
    }
   ],
   "source": [
    "samples.head()"
   ]
  },
  {
   "cell_type": "code",
   "execution_count": null,
   "metadata": {},
   "outputs": [],
   "source": []
  },
  {
   "cell_type": "markdown",
   "metadata": {},
   "source": [
    "## STOPWORD REMOVAL"
   ]
  },
  {
   "cell_type": "code",
   "execution_count": 11,
   "metadata": {},
   "outputs": [],
   "source": [
    "# samplex= pd.read_csv('hasil/samples.csv', encoding='ISO-8859-1')"
   ]
  },
  {
   "cell_type": "code",
   "execution_count": 27,
   "metadata": {},
   "outputs": [
    {
     "data": {
      "text/plain": [
       "758"
      ]
     },
     "execution_count": 27,
     "metadata": {},
     "output_type": "execute_result"
    }
   ],
   "source": [
    "from nltk.corpus import stopwords\n",
    "\n",
    "stopwords_id = stopwords.words('indonesian')\n",
    "len(stopwords_id)"
   ]
  },
  {
   "cell_type": "code",
   "execution_count": 29,
   "metadata": {},
   "outputs": [
    {
     "name": "stdout",
     "output_type": "stream",
     "text": [
      "['ada', 'adalah', 'adanya', 'adapun', 'agak', 'agaknya', 'agar', 'akan', 'akankah', 'akhir', 'akhiri', 'akhirnya', 'aku', 'akulah', 'amat', 'amatlah', 'anda', 'andalah', 'antar', 'antara', 'antaranya', 'apa', 'apaan', 'apabila', 'apakah', 'apalagi', 'apatah', 'artinya', 'asal', 'asalkan', 'atas', 'atau', 'ataukah', 'ataupun', 'awal', 'awalnya', 'bagai', 'bagaikan', 'bagaimana', 'bagaimanakah', 'bagaimanapun', 'bagi', 'bagian', 'bahkan', 'bahwa', 'bahwasanya', 'baik', 'bakal', 'bakalan', 'balik', 'banyak', 'bapak', 'baru', 'bawah', 'beberapa', 'begini', 'beginian', 'beginikah', 'beginilah', 'begitu', 'begitukah', 'begitulah', 'begitupun', 'bekerja', 'belakang', 'belakangan', 'belum', 'belumlah', 'benar', 'benarkah', 'benarlah', 'berada', 'berakhir', 'berakhirlah', 'berakhirnya', 'berapa', 'berapakah', 'berapalah', 'berapapun', 'berarti', 'berawal', 'berbagai', 'berdatangan', 'beri', 'berikan', 'berikut', 'berikutnya', 'berjumlah', 'berkali-kali', 'berkata', 'berkehendak', 'berkeinginan', 'berkenaan', 'berlainan', 'berlalu', 'berlangsung', 'berlebihan', 'bermacam', 'bermacam-macam', 'bermaksud', 'bermula', 'bersama', 'bersama-sama', 'bersiap', 'bersiap-siap', 'bertanya', 'bertanya-tanya', 'berturut', 'berturut-turut', 'bertutur', 'berujar', 'berupa', 'besar', 'betul', 'betulkah', 'biasa', 'biasanya', 'bila', 'bilakah', 'bisa', 'bisakah', 'boleh', 'bolehkah', 'bolehlah', 'buat', 'bukan', 'bukankah', 'bukanlah', 'bukannya', 'bulan', 'bung', 'cara', 'caranya', 'cukup', 'cukupkah', 'cukuplah', 'cuma', 'dahulu', 'dalam', 'dan', 'dapat', 'dari', 'daripada', 'datang', 'dekat', 'demi', 'demikian', 'demikianlah', 'dengan', 'depan', 'di', 'dia', 'diakhiri', 'diakhirinya', 'dialah', 'diantara', 'diantaranya', 'diberi', 'diberikan', 'diberikannya', 'dibuat', 'dibuatnya', 'didapat', 'didatangkan', 'digunakan', 'diibaratkan', 'diibaratkannya', 'diingat', 'diingatkan', 'diinginkan', 'dijawab', 'dijelaskan', 'dijelaskannya', 'dikarenakan', 'dikatakan', 'dikatakannya', 'dikerjakan', 'diketahui', 'diketahuinya', 'dikira', 'dilakukan', 'dilalui', 'dilihat', 'dimaksud', 'dimaksudkan', 'dimaksudkannya', 'dimaksudnya', 'diminta', 'dimintai', 'dimisalkan', 'dimulai', 'dimulailah', 'dimulainya', 'dimungkinkan', 'dini', 'dipastikan', 'diperbuat', 'diperbuatnya', 'dipergunakan', 'diperkirakan', 'diperlihatkan', 'diperlukan', 'diperlukannya', 'dipersoalkan', 'dipertanyakan', 'dipunyai', 'diri', 'dirinya', 'disampaikan', 'disebut', 'disebutkan', 'disebutkannya', 'disini', 'disinilah', 'ditambahkan', 'ditandaskan', 'ditanya', 'ditanyai', 'ditanyakan', 'ditegaskan', 'ditujukan', 'ditunjuk', 'ditunjuki', 'ditunjukkan', 'ditunjukkannya', 'ditunjuknya', 'dituturkan', 'dituturkannya', 'diucapkan', 'diucapkannya', 'diungkapkan', 'dong', 'dua', 'dulu', 'empat', 'enggak', 'enggaknya', 'entah', 'entahlah', 'guna', 'gunakan', 'hal', 'hampir', 'hanya', 'hanyalah', 'hari', 'harus', 'haruslah', 'harusnya', 'hendak', 'hendaklah', 'hendaknya', 'hingga', 'ia', 'ialah', 'ibarat', 'ibaratkan', 'ibaratnya', 'ibu', 'ikut', 'ingat', 'ingat-ingat', 'ingin', 'inginkah', 'inginkan', 'ini', 'inikah', 'inilah', 'itu', 'itukah', 'itulah', 'jadi', 'jadilah', 'jadinya', 'jangan', 'jangankan', 'janganlah', 'jauh', 'jawab', 'jawaban', 'jawabnya', 'jelas', 'jelaskan', 'jelaslah', 'jelasnya', 'jika', 'jikalau', 'juga', 'jumlah', 'jumlahnya', 'justru', 'kala', 'kalau', 'kalaulah', 'kalaupun', 'kalian', 'kami', 'kamilah', 'kamu', 'kamulah', 'kan', 'kapan', 'kapankah', 'kapanpun', 'karena', 'karenanya', 'kasus', 'kata', 'katakan', 'katakanlah', 'katanya', 'ke', 'keadaan', 'kebetulan', 'kecil', 'kedua', 'keduanya', 'keinginan', 'kelamaan', 'kelihatan', 'kelihatannya', 'kelima', 'keluar', 'kembali', 'kemudian', 'kemungkinan', 'kemungkinannya', 'kenapa', 'kepada', 'kepadanya', 'kesampaian', 'keseluruhan', 'keseluruhannya', 'keterlaluan', 'ketika', 'khususnya', 'kini', 'kinilah', 'kira', 'kira-kira', 'kiranya', 'kita', 'kitalah', 'kok', 'kurang', 'lagi', 'lagian', 'lah', 'lain', 'lainnya', 'lalu', 'lama', 'lamanya', 'lanjut', 'lanjutnya', 'lebih', 'lewat', 'lima', 'luar', 'macam', 'maka', 'makanya', 'makin', 'malah', 'malahan', 'mampu', 'mampukah', 'mana', 'manakala', 'manalagi', 'masa', 'masalah', 'masalahnya', 'masih', 'masihkah', 'masing', 'masing-masing', 'mau', 'maupun', 'melainkan', 'melakukan', 'melalui', 'melihat', 'melihatnya', 'memang', 'memastikan', 'memberi', 'memberikan', 'membuat', 'memerlukan', 'memihak', 'meminta', 'memintakan', 'memisalkan', 'memperbuat', 'mempergunakan', 'memperkirakan', 'memperlihatkan', 'mempersiapkan', 'mempersoalkan', 'mempertanyakan', 'mempunyai', 'memulai', 'memungkinkan', 'menaiki', 'menambahkan', 'menandaskan', 'menanti', 'menanti-nanti', 'menantikan', 'menanya', 'menanyai', 'menanyakan', 'mendapat', 'mendapatkan', 'mendatang', 'mendatangi', 'mendatangkan', 'menegaskan', 'mengakhiri', 'mengapa', 'mengatakan', 'mengatakannya', 'mengenai', 'mengerjakan', 'mengetahui', 'menggunakan', 'menghendaki', 'mengibaratkan', 'mengibaratkannya', 'mengingat', 'mengingatkan', 'menginginkan', 'mengira', 'mengucapkan', 'mengucapkannya', 'mengungkapkan', 'menjadi', 'menjawab', 'menjelaskan', 'menuju', 'menunjuk', 'menunjuki', 'menunjukkan', 'menunjuknya', 'menurut', 'menuturkan', 'menyampaikan', 'menyangkut', 'menyatakan', 'menyebutkan', 'menyeluruh', 'menyiapkan', 'merasa', 'mereka', 'merekalah', 'merupakan', 'meski', 'meskipun', 'meyakini', 'meyakinkan', 'minta', 'mirip', 'misal', 'misalkan', 'misalnya', 'mula', 'mulai', 'mulailah', 'mulanya', 'mungkin', 'mungkinkah', 'nah', 'naik', 'namun', 'nanti', 'nantinya', 'nyaris', 'nyatanya', 'oleh', 'olehnya', 'pada', 'padahal', 'padanya', 'pak', 'paling', 'panjang', 'pantas', 'para', 'pasti', 'pastilah', 'penting', 'pentingnya', 'per', 'percuma', 'perlu', 'perlukah', 'perlunya', 'pernah', 'persoalan', 'pertama', 'pertama-tama', 'pertanyaan', 'pertanyakan', 'pihak', 'pihaknya', 'pukul', 'pula', 'pun', 'punya', 'rasa', 'rasanya', 'rata', 'rupanya', 'saat', 'saatnya', 'saja', 'sajalah', 'saling', 'sama', 'sama-sama', 'sambil', 'sampai', 'sampai-sampai', 'sampaikan', 'sana', 'sangat', 'sangatlah', 'satu', 'saya', 'sayalah', 'se', 'sebab', 'sebabnya', 'sebagai', 'sebagaimana', 'sebagainya', 'sebagian', 'sebaik', 'sebaik-baiknya', 'sebaiknya', 'sebaliknya', 'sebanyak', 'sebegini', 'sebegitu', 'sebelum', 'sebelumnya', 'sebenarnya', 'seberapa', 'sebesar', 'sebetulnya', 'sebisanya', 'sebuah', 'sebut', 'sebutlah', 'sebutnya', 'secara', 'secukupnya', 'sedang', 'sedangkan', 'sedemikian', 'sedikit', 'sedikitnya', 'seenaknya', 'segala', 'segalanya', 'segera', 'seharusnya', 'sehingga', 'seingat', 'sejak', 'sejauh', 'sejenak', 'sejumlah', 'sekadar', 'sekadarnya', 'sekali', 'sekali-kali', 'sekalian', 'sekaligus', 'sekalipun', 'sekarang', 'sekarang', 'sekecil', 'seketika', 'sekiranya', 'sekitar', 'sekitarnya', 'sekurang-kurangnya', 'sekurangnya', 'sela', 'selain', 'selaku', 'selalu', 'selama', 'selama-lamanya', 'selamanya', 'selanjutnya', 'seluruh', 'seluruhnya', 'semacam', 'semakin', 'semampu', 'semampunya', 'semasa', 'semasih', 'semata', 'semata-mata', 'semaunya', 'sementara', 'semisal', 'semisalnya', 'sempat', 'semua', 'semuanya', 'semula', 'sendiri', 'sendirian', 'sendirinya', 'seolah', 'seolah-olah', 'seorang', 'sepanjang', 'sepantasnya', 'sepantasnyalah', 'seperlunya', 'seperti', 'sepertinya', 'sepihak', 'sering', 'seringnya', 'serta', 'serupa', 'sesaat', 'sesama', 'sesampai', 'sesegera', 'sesekali', 'seseorang', 'sesuatu', 'sesuatunya', 'sesudah', 'sesudahnya', 'setelah', 'setempat', 'setengah', 'seterusnya', 'setiap', 'setiba', 'setibanya', 'setidak-tidaknya', 'setidaknya', 'setinggi', 'seusai', 'sewaktu', 'siap', 'siapa', 'siapakah', 'siapapun', 'sini', 'sinilah', 'soal', 'soalnya', 'suatu', 'sudah', 'sudahkah', 'sudahlah', 'supaya', 'tadi', 'tadinya', 'tahu', 'tahun', 'tak', 'tambah', 'tambahnya', 'tampak', 'tampaknya', 'tandas', 'tandasnya', 'tanpa', 'tanya', 'tanyakan', 'tanyanya', 'tapi', 'tegas', 'tegasnya', 'telah', 'tempat', 'tengah', 'tentang', 'tentu', 'tentulah', 'tentunya', 'tepat', 'terakhir', 'terasa', 'terbanyak', 'terdahulu', 'terdapat', 'terdiri', 'terhadap', 'terhadapnya', 'teringat', 'teringat-ingat', 'terjadi', 'terjadilah', 'terjadinya', 'terkira', 'terlalu', 'terlebih', 'terlihat', 'termasuk', 'ternyata', 'tersampaikan', 'tersebut', 'tersebutlah', 'tertentu', 'tertuju', 'terus', 'terutama', 'tetap', 'tetapi', 'tiap', 'tiba', 'tiba-tiba', 'tidak', 'tidakkah', 'tidaklah', 'tiga', 'tinggi', 'toh', 'tunjuk', 'turut', 'tutur', 'tuturnya', 'ucap', 'ucapnya', 'ujar', 'ujarnya', 'umum', 'umumnya', 'ungkap', 'ungkapnya', 'untuk', 'usah', 'usai', 'waduh', 'wah', 'wahai', 'waktu', 'waktunya', 'walau', 'walaupun', 'wong', 'yaitu', 'yakin', 'yakni', 'yang']\n"
     ]
    }
   ],
   "source": [
    "# print(stopwords_id)"
   ]
  },
  {
   "cell_type": "code",
   "execution_count": 28,
   "metadata": {},
   "outputs": [],
   "source": [
    "# Buat fungsi untuk langkah stopwords removal\n",
    "\n",
    "def remove_stopwords(text):\n",
    "  clean_word = []\n",
    "  all_text = text.split()\n",
    "  for word in all_text:\n",
    "    if word not in stopwords_id:\n",
    "      clean_word.append(word)\n",
    "  return ' '.join(clean_word)"
   ]
  },
  {
   "cell_type": "code",
   "execution_count": 33,
   "metadata": {},
   "outputs": [
    {
     "data": {
      "application/vnd.jupyter.widget-view+json": {
       "model_id": "f4846d393c1d4825826e52e85be9ba52",
       "version_major": 2,
       "version_minor": 0
      },
      "text/plain": [
       "  0%|          | 0/2324 [00:00<?, ?it/s]"
      ]
     },
     "metadata": {},
     "output_type": "display_data"
    }
   ],
   "source": [
    "samples['stopwords'] = samples['text_lower'].progress_apply(lambda x: remove_stopwords(x))"
   ]
  },
  {
   "cell_type": "markdown",
   "metadata": {},
   "source": [
    "## Normalisasi Kata"
   ]
  },
  {
   "cell_type": "code",
   "execution_count": 31,
   "metadata": {},
   "outputs": [
    {
     "name": "stdout",
     "output_type": "stream",
     "text": [
      "Collecting wget\n",
      "  Downloading wget-3.2.zip (10 kB)\n",
      "  Installing build dependencies: started\n",
      "  Installing build dependencies: finished with status 'done'\n",
      "  Getting requirements to build wheel: started\n",
      "  Getting requirements to build wheel: finished with status 'done'\n",
      "  Preparing metadata (pyproject.toml): started\n",
      "  Preparing metadata (pyproject.toml): finished with status 'done'\n",
      "Building wheels for collected packages: wget\n",
      "  Building wheel for wget (pyproject.toml): started\n",
      "  Building wheel for wget (pyproject.toml): finished with status 'done'\n",
      "  Created wheel for wget: filename=wget-3.2-py3-none-any.whl size=9681 sha256=9ff960d39acc32eabd596f6f50854a71dcc4832292680502b2140b25c4ca4ad4\n",
      "  Stored in directory: c:\\users\\lenovo\\appdata\\local\\pip\\cache\\wheels\\8b\\f1\\7f\\5c94f0a7a505ca1c81cd1d9208ae2064675d97582078e6c769\n",
      "Successfully built wget\n",
      "Installing collected packages: wget\n",
      "Successfully installed wget-3.2\n"
     ]
    },
    {
     "data": {
      "text/plain": [
       "'dataset/normalisasi (1).csv'"
      ]
     },
     "execution_count": 31,
     "metadata": {},
     "output_type": "execute_result"
    }
   ],
   "source": [
    "# Download corpus singkatan\n",
    "# !pip install wget\n",
    "# import wget\n",
    "# wget.download('https://raw.githubusercontent.com/ksnugroho/klasifikasi-spam-sms/master/data/key_norm.csv','dataset/normalisasi.csv')"
   ]
  },
  {
   "cell_type": "code",
   "execution_count": 34,
   "metadata": {},
   "outputs": [],
   "source": [
    "key_norm = pd.read_csv('dataset/normalisasi.csv')\n",
    "\n",
    "# Buat fungsi untuk melakukan word normalization\n",
    "def normalisasi(text):\n",
    "  text = ' '.join([key_norm[key_norm['singkat'] == word]['hasil'].values[0] if (key_norm['singkat'] == word).any() else word for word in text.split()])\n",
    "  text = str.lower(text)\n",
    "  return text"
   ]
  },
  {
   "cell_type": "code",
   "execution_count": 35,
   "metadata": {},
   "outputs": [
    {
     "data": {
      "application/vnd.jupyter.widget-view+json": {
       "model_id": "d37897c346074449bd1b19b435e5749e",
       "version_major": 2,
       "version_minor": 0
      },
      "text/plain": [
       "  0%|          | 0/2324 [00:00<?, ?it/s]"
      ]
     },
     "metadata": {},
     "output_type": "display_data"
    }
   ],
   "source": [
    "samples['norm_content'] = samples['stopwords'].progress_apply(lambda x: normalisasi(x))"
   ]
  },
  {
   "cell_type": "code",
   "execution_count": 36,
   "metadata": {},
   "outputs": [],
   "source": [
    "def stemming(text):\n",
    "    text = stemmer.stem(text)\n",
    "    return text"
   ]
  },
  {
   "cell_type": "code",
   "execution_count": 37,
   "metadata": {},
   "outputs": [
    {
     "data": {
      "application/vnd.jupyter.widget-view+json": {
       "model_id": "5645e9e26e6b4a088d49f0f3400f5e52",
       "version_major": 2,
       "version_minor": 0
      },
      "text/plain": [
       "  0%|          | 0/2324 [00:00<?, ?it/s]"
      ]
     },
     "metadata": {},
     "output_type": "display_data"
    }
   ],
   "source": [
    "samples['stem_content'] = samples['norm_content'].progress_apply(lambda x: stemming(x))"
   ]
  },
  {
   "cell_type": "code",
   "execution_count": 38,
   "metadata": {},
   "outputs": [
    {
     "data": {
      "text/html": [
       "<div>\n",
       "<style scoped>\n",
       "    .dataframe tbody tr th:only-of-type {\n",
       "        vertical-align: middle;\n",
       "    }\n",
       "\n",
       "    .dataframe tbody tr th {\n",
       "        vertical-align: top;\n",
       "    }\n",
       "\n",
       "    .dataframe thead th {\n",
       "        text-align: right;\n",
       "    }\n",
       "</style>\n",
       "<table border=\"1\" class=\"dataframe\">\n",
       "  <thead>\n",
       "    <tr style=\"text-align: right;\">\n",
       "      <th></th>\n",
       "      <th>tanggal</th>\n",
       "      <th>text</th>\n",
       "      <th>likes</th>\n",
       "      <th>replies</th>\n",
       "      <th>quotes</th>\n",
       "      <th>retweets</th>\n",
       "      <th>searchQuery</th>\n",
       "      <th>timestamp</th>\n",
       "      <th>user_location</th>\n",
       "      <th>text_lower</th>\n",
       "      <th>stopwords</th>\n",
       "      <th>norm_content</th>\n",
       "      <th>stem_content</th>\n",
       "    </tr>\n",
       "  </thead>\n",
       "  <tbody>\n",
       "    <tr>\n",
       "      <th>0</th>\n",
       "      <td>11/21/2023</td>\n",
       "      <td>Analisis yang keren banget dari Bang Hasan Nas...</td>\n",
       "      <td>135</td>\n",
       "      <td>32</td>\n",
       "      <td>5</td>\n",
       "      <td>84</td>\n",
       "      <td>#indonesiamaju</td>\n",
       "      <td>2023-11-21T17:31:00.000Z</td>\n",
       "      <td>DKI Jakarta, Indonesia</td>\n",
       "      <td>analisis yang keren banget dari bang hasan nas...</td>\n",
       "      <td>analisis keren banget bang hasan nasbi nih!!! ...</td>\n",
       "      <td>analisis keren banget bang hasan nasbi nih!!! ...</td>\n",
       "      <td>analisis keren banget bang hasan nasbi nih men...</td>\n",
       "    </tr>\n",
       "    <tr>\n",
       "      <th>1</th>\n",
       "      <td>11/21/2023</td>\n",
       "      <td>Mari kita bersatu, kita fokus melihat ke depan...</td>\n",
       "      <td>256</td>\n",
       "      <td>69</td>\n",
       "      <td>5</td>\n",
       "      <td>103</td>\n",
       "      <td>#indonesiamaju</td>\n",
       "      <td>2023-11-21T09:06:00.000Z</td>\n",
       "      <td>Indonesia Raya</td>\n",
       "      <td>mari kita bersatu, kita fokus melihat ke depan...</td>\n",
       "      <td>mari bersatu, fokus fokus mencari putra putri ...</td>\n",
       "      <td>mari bersatu, fokus fokus mencari putra putri ...</td>\n",
       "      <td>mari satu fokus fokus cari putra putri baik ba...</td>\n",
       "    </tr>\n",
       "    <tr>\n",
       "      <th>2</th>\n",
       "      <td>11/22/2023</td>\n",
       "      <td>Gubernur BI : Pertumbuhan Ekonomi Indonesia Te...</td>\n",
       "      <td>1</td>\n",
       "      <td>0</td>\n",
       "      <td>0</td>\n",
       "      <td>0</td>\n",
       "      <td>#indonesiamaju</td>\n",
       "      <td>2023-11-22T06:40:00.000Z</td>\n",
       "      <td>Bangka Belitung, Indonesia</td>\n",
       "      <td>gubernur bi : pertumbuhan ekonomi indonesia te...</td>\n",
       "      <td>gubernur bi : pertumbuhan ekonomi indonesia te...</td>\n",
       "      <td>gubernur bi : pertumbuhan ekonomi indonesia te...</td>\n",
       "      <td>gubernur bi tumbuh ekonomi indonesia baik indo...</td>\n",
       "    </tr>\n",
       "    <tr>\n",
       "      <th>3</th>\n",
       "      <td>11/22/2023</td>\n",
       "      <td>Gubernur BI : Pertumbuhan Ekonomi Indonesia Te...</td>\n",
       "      <td>1</td>\n",
       "      <td>0</td>\n",
       "      <td>0</td>\n",
       "      <td>0</td>\n",
       "      <td>#indonesiamaju</td>\n",
       "      <td>2023-11-22T06:39:00.000Z</td>\n",
       "      <td>Bangka Belitung, Indonesia</td>\n",
       "      <td>gubernur bi : pertumbuhan ekonomi indonesia te...</td>\n",
       "      <td>gubernur bi : pertumbuhan ekonomi indonesia te...</td>\n",
       "      <td>gubernur bi : pertumbuhan ekonomi indonesia te...</td>\n",
       "      <td>gubernur bi tumbuh ekonomi indonesia baik indo...</td>\n",
       "    </tr>\n",
       "    <tr>\n",
       "      <th>4</th>\n",
       "      <td>11/22/2023</td>\n",
       "      <td>Stabilitas Pertumbuhan Ekonomi Indonesia \\n\\n#...</td>\n",
       "      <td>1</td>\n",
       "      <td>0</td>\n",
       "      <td>0</td>\n",
       "      <td>0</td>\n",
       "      <td>#indonesiamaju</td>\n",
       "      <td>2023-11-22T06:39:00.000Z</td>\n",
       "      <td>Bangka Belitung, Indonesia</td>\n",
       "      <td>stabilitas pertumbuhan ekonomi indonesia \\n\\n#...</td>\n",
       "      <td>stabilitas pertumbuhan ekonomi indonesia #ekon...</td>\n",
       "      <td>stabilitas pertumbuhan ekonomi indonesia #ekon...</td>\n",
       "      <td>stabilitas tumbuh ekonomi indonesia ekonomi in...</td>\n",
       "    </tr>\n",
       "  </tbody>\n",
       "</table>\n",
       "</div>"
      ],
      "text/plain": [
       "      tanggal                                               text  likes  \\\n",
       "0  11/21/2023  Analisis yang keren banget dari Bang Hasan Nas...    135   \n",
       "1  11/21/2023  Mari kita bersatu, kita fokus melihat ke depan...    256   \n",
       "2  11/22/2023  Gubernur BI : Pertumbuhan Ekonomi Indonesia Te...      1   \n",
       "3  11/22/2023  Gubernur BI : Pertumbuhan Ekonomi Indonesia Te...      1   \n",
       "4  11/22/2023  Stabilitas Pertumbuhan Ekonomi Indonesia \\n\\n#...      1   \n",
       "\n",
       "   replies  quotes  retweets     searchQuery                 timestamp  \\\n",
       "0       32       5        84  #indonesiamaju  2023-11-21T17:31:00.000Z   \n",
       "1       69       5       103  #indonesiamaju  2023-11-21T09:06:00.000Z   \n",
       "2        0       0         0  #indonesiamaju  2023-11-22T06:40:00.000Z   \n",
       "3        0       0         0  #indonesiamaju  2023-11-22T06:39:00.000Z   \n",
       "4        0       0         0  #indonesiamaju  2023-11-22T06:39:00.000Z   \n",
       "\n",
       "                user_location  \\\n",
       "0      DKI Jakarta, Indonesia   \n",
       "1              Indonesia Raya   \n",
       "2  Bangka Belitung, Indonesia   \n",
       "3  Bangka Belitung, Indonesia   \n",
       "4  Bangka Belitung, Indonesia   \n",
       "\n",
       "                                          text_lower  \\\n",
       "0  analisis yang keren banget dari bang hasan nas...   \n",
       "1  mari kita bersatu, kita fokus melihat ke depan...   \n",
       "2  gubernur bi : pertumbuhan ekonomi indonesia te...   \n",
       "3  gubernur bi : pertumbuhan ekonomi indonesia te...   \n",
       "4  stabilitas pertumbuhan ekonomi indonesia \\n\\n#...   \n",
       "\n",
       "                                           stopwords  \\\n",
       "0  analisis keren banget bang hasan nasbi nih!!! ...   \n",
       "1  mari bersatu, fokus fokus mencari putra putri ...   \n",
       "2  gubernur bi : pertumbuhan ekonomi indonesia te...   \n",
       "3  gubernur bi : pertumbuhan ekonomi indonesia te...   \n",
       "4  stabilitas pertumbuhan ekonomi indonesia #ekon...   \n",
       "\n",
       "                                        norm_content  \\\n",
       "0  analisis keren banget bang hasan nasbi nih!!! ...   \n",
       "1  mari bersatu, fokus fokus mencari putra putri ...   \n",
       "2  gubernur bi : pertumbuhan ekonomi indonesia te...   \n",
       "3  gubernur bi : pertumbuhan ekonomi indonesia te...   \n",
       "4  stabilitas pertumbuhan ekonomi indonesia #ekon...   \n",
       "\n",
       "                                        stem_content  \n",
       "0  analisis keren banget bang hasan nasbi nih men...  \n",
       "1  mari satu fokus fokus cari putra putri baik ba...  \n",
       "2  gubernur bi tumbuh ekonomi indonesia baik indo...  \n",
       "3  gubernur bi tumbuh ekonomi indonesia baik indo...  \n",
       "4  stabilitas tumbuh ekonomi indonesia ekonomi in...  "
      ]
     },
     "execution_count": 38,
     "metadata": {},
     "output_type": "execute_result"
    }
   ],
   "source": [
    "samples.head()"
   ]
  },
  {
   "cell_type": "code",
   "execution_count": 39,
   "metadata": {},
   "outputs": [
    {
     "data": {
      "text/html": [
       "<div>\n",
       "<style scoped>\n",
       "    .dataframe tbody tr th:only-of-type {\n",
       "        vertical-align: middle;\n",
       "    }\n",
       "\n",
       "    .dataframe tbody tr th {\n",
       "        vertical-align: top;\n",
       "    }\n",
       "\n",
       "    .dataframe thead th {\n",
       "        text-align: right;\n",
       "    }\n",
       "</style>\n",
       "<table border=\"1\" class=\"dataframe\">\n",
       "  <thead>\n",
       "    <tr style=\"text-align: right;\">\n",
       "      <th></th>\n",
       "      <th>likes</th>\n",
       "      <th>replies</th>\n",
       "      <th>quotes</th>\n",
       "      <th>retweets</th>\n",
       "    </tr>\n",
       "  </thead>\n",
       "  <tbody>\n",
       "    <tr>\n",
       "      <th>count</th>\n",
       "      <td>2324.000000</td>\n",
       "      <td>2324.000000</td>\n",
       "      <td>2324.000000</td>\n",
       "      <td>2324.000000</td>\n",
       "    </tr>\n",
       "    <tr>\n",
       "      <th>mean</th>\n",
       "      <td>17.766351</td>\n",
       "      <td>2.959122</td>\n",
       "      <td>0.523236</td>\n",
       "      <td>6.558520</td>\n",
       "    </tr>\n",
       "    <tr>\n",
       "      <th>std</th>\n",
       "      <td>109.387089</td>\n",
       "      <td>15.704535</td>\n",
       "      <td>4.550938</td>\n",
       "      <td>35.016625</td>\n",
       "    </tr>\n",
       "    <tr>\n",
       "      <th>min</th>\n",
       "      <td>0.000000</td>\n",
       "      <td>0.000000</td>\n",
       "      <td>0.000000</td>\n",
       "      <td>0.000000</td>\n",
       "    </tr>\n",
       "    <tr>\n",
       "      <th>25%</th>\n",
       "      <td>0.000000</td>\n",
       "      <td>0.000000</td>\n",
       "      <td>0.000000</td>\n",
       "      <td>0.000000</td>\n",
       "    </tr>\n",
       "    <tr>\n",
       "      <th>50%</th>\n",
       "      <td>0.000000</td>\n",
       "      <td>0.000000</td>\n",
       "      <td>0.000000</td>\n",
       "      <td>0.000000</td>\n",
       "    </tr>\n",
       "    <tr>\n",
       "      <th>75%</th>\n",
       "      <td>2.000000</td>\n",
       "      <td>0.000000</td>\n",
       "      <td>0.000000</td>\n",
       "      <td>1.000000</td>\n",
       "    </tr>\n",
       "    <tr>\n",
       "      <th>max</th>\n",
       "      <td>3398.000000</td>\n",
       "      <td>364.000000</td>\n",
       "      <td>130.000000</td>\n",
       "      <td>745.000000</td>\n",
       "    </tr>\n",
       "  </tbody>\n",
       "</table>\n",
       "</div>"
      ],
      "text/plain": [
       "             likes      replies       quotes     retweets\n",
       "count  2324.000000  2324.000000  2324.000000  2324.000000\n",
       "mean     17.766351     2.959122     0.523236     6.558520\n",
       "std     109.387089    15.704535     4.550938    35.016625\n",
       "min       0.000000     0.000000     0.000000     0.000000\n",
       "25%       0.000000     0.000000     0.000000     0.000000\n",
       "50%       0.000000     0.000000     0.000000     0.000000\n",
       "75%       2.000000     0.000000     0.000000     1.000000\n",
       "max    3398.000000   364.000000   130.000000   745.000000"
      ]
     },
     "execution_count": 39,
     "metadata": {},
     "output_type": "execute_result"
    }
   ],
   "source": [
    "samples.describe()"
   ]
  },
  {
   "cell_type": "code",
   "execution_count": 40,
   "metadata": {},
   "outputs": [
    {
     "name": "stdout",
     "output_type": "stream",
     "text": [
      "         tanggal                                               text  likes  \\\n",
      "0     11/21/2023  Analisis yang keren banget dari Bang Hasan Nas...    135   \n",
      "1     11/21/2023  Mari kita bersatu, kita fokus melihat ke depan...    256   \n",
      "2     11/22/2023  Gubernur BI : Pertumbuhan Ekonomi Indonesia Te...      1   \n",
      "3     11/22/2023  Gubernur BI : Pertumbuhan Ekonomi Indonesia Te...      1   \n",
      "4     11/22/2023  Stabilitas Pertumbuhan Ekonomi Indonesia \\n\\n#...      1   \n",
      "...          ...                                                ...    ...   \n",
      "2319  11/18/2023  Wkwkw emank boleh sereceh ini \\n\\n #amin #Anie...    594   \n",
      "2320  11/21/2023  #?????? #???? #??? #trending #viral #amin #maj...      1   \n",
      "2321  11/21/2023  Makna salam demokrasi Ganjar Mahfud MD\\n\\n.\\n\\...      4   \n",
      "2322  11/21/2023  Semua akan #anies pada waktunya.... InsyaAllah...      0   \n",
      "2323  11/21/2023  ... maka kritik itulah sebenarnya yang membuat...     67   \n",
      "\n",
      "      replies  quotes  retweets     searchQuery                 timestamp  \\\n",
      "0          32       5        84  #indonesiamaju  2023-11-21T17:31:00.000Z   \n",
      "1          69       5       103  #indonesiamaju  2023-11-21T09:06:00.000Z   \n",
      "2           0       0         0  #indonesiamaju  2023-11-22T06:40:00.000Z   \n",
      "3           0       0         0  #indonesiamaju  2023-11-22T06:39:00.000Z   \n",
      "4           0       0         0  #indonesiamaju  2023-11-22T06:39:00.000Z   \n",
      "...       ...     ...       ...             ...                       ...   \n",
      "2319       16       6       225           #AMIN  2023-11-18T11:18:00.000Z   \n",
      "2320        0       0         1           #AMIN  2023-11-21T19:58:00.000Z   \n",
      "2321        1       0         1          #anies  2023-11-21T00:28:00.000Z   \n",
      "2322        0       0         0          #anies  2023-11-21T02:52:00.000Z   \n",
      "2323        4       3        23           #AMIN  2023-11-21T02:24:00.000Z   \n",
      "\n",
      "                   user_location  \\\n",
      "0         DKI Jakarta, Indonesia   \n",
      "1                 Indonesia Raya   \n",
      "2     Bangka Belitung, Indonesia   \n",
      "3     Bangka Belitung, Indonesia   \n",
      "4     Bangka Belitung, Indonesia   \n",
      "...                          ...   \n",
      "2319                         NaN   \n",
      "2320                         NaN   \n",
      "2321                   Indonesia   \n",
      "2322           Banten, Indonesia   \n",
      "2323          Laren, Netherlands   \n",
      "\n",
      "                                             text_lower  \\\n",
      "0     analisis yang keren banget dari bang hasan nas...   \n",
      "1     mari kita bersatu, kita fokus melihat ke depan...   \n",
      "2     gubernur bi : pertumbuhan ekonomi indonesia te...   \n",
      "3     gubernur bi : pertumbuhan ekonomi indonesia te...   \n",
      "4     stabilitas pertumbuhan ekonomi indonesia \\n\\n#...   \n",
      "...                                                 ...   \n",
      "2319  wkwkw emank boleh sereceh ini \\n\\n #amin #anie...   \n",
      "2320  #?????? #???? #??? #trending #viral #amin #maj...   \n",
      "2321  makna salam demokrasi ganjar mahfud md\\n\\n.\\n\\...   \n",
      "2322  semua akan #anies pada waktunya.... insyaallah...   \n",
      "2323  ... maka kritik itulah sebenarnya yang membuat...   \n",
      "\n",
      "                                              stopwords  \\\n",
      "0     analisis keren banget bang hasan nasbi nih!!! ...   \n",
      "1     mari bersatu, fokus fokus mencari putra putri ...   \n",
      "2     gubernur bi : pertumbuhan ekonomi indonesia te...   \n",
      "3     gubernur bi : pertumbuhan ekonomi indonesia te...   \n",
      "4     stabilitas pertumbuhan ekonomi indonesia #ekon...   \n",
      "...                                                 ...   \n",
      "2319  wkwkw emank sereceh #amin #aniesmuhaimin2024 #...   \n",
      "2320  #?????? #???? #??? #trending #viral #amin #maj...   \n",
      "2321  makna salam demokrasi ganjar mahfud md . #gibr...   \n",
      "2322               #anies waktunya.... insyaallah #amin   \n",
      "2323  ... kritik rencana, kebijakan solid #amin butu...   \n",
      "\n",
      "                                           norm_content  \\\n",
      "0     analisis keren banget bang hasan nasbi nih!!! ...   \n",
      "1     mari bersatu, fokus fokus mencari putra putri ...   \n",
      "2     gubernur bi : pertumbuhan ekonomi indonesia te...   \n",
      "3     gubernur bi : pertumbuhan ekonomi indonesia te...   \n",
      "4     stabilitas pertumbuhan ekonomi indonesia #ekon...   \n",
      "...                                                 ...   \n",
      "2319  wkwkw emank sereceh #amin #aniesmuhaimin2024 #...   \n",
      "2320  #?????? #???? #??? #trending #viral #amin #maj...   \n",
      "2321  makna salam demokrasi ganjar mahfud md . #gibr...   \n",
      "2322               #anies waktunya.... insyaallah #amin   \n",
      "2323  ... kritik rencana, kebijakan solid #amin butu...   \n",
      "\n",
      "                                           stem_content  \n",
      "0     analisis keren banget bang hasan nasbi nih men...  \n",
      "1     mari satu fokus fokus cari putra putri baik ba...  \n",
      "2     gubernur bi tumbuh ekonomi indonesia baik indo...  \n",
      "3     gubernur bi tumbuh ekonomi indonesia baik indo...  \n",
      "4     stabilitas tumbuh ekonomi indonesia ekonomi in...  \n",
      "...                                                 ...  \n",
      "2319  wkwkw emank receh amin aniesmuhaimin2024 no1am...  \n",
      "2320  trending viral amin majnoun reels youtubeshort...  \n",
      "2321  makna salam demokrasi ganjar mahfud md gibran ...  \n",
      "2322                        anies waktu insyaallah amin  \n",
      "2323  kritik rencana bijak solid amin butuh pimpin y...  \n",
      "\n",
      "[2324 rows x 13 columns]\n"
     ]
    }
   ],
   "source": [
    "print(samples)"
   ]
  },
  {
   "cell_type": "markdown",
   "metadata": {},
   "source": [
    "## FILTERING"
   ]
  },
  {
   "cell_type": "code",
   "execution_count": 41,
   "metadata": {},
   "outputs": [],
   "source": [
    "def filtering(text):\n",
    "  text = text.lower()                                   # Lowercase all sentences\n",
    "      #   text = text.strip()                                   # Remove whitespace\n",
    "  text = re.sub('[-+]?[0-9]+', ' ', text)               # Remove numbers \n",
    "  text = re.sub(r'https?://\\S+|www\\.\\S+', ' ', text)    # Remove URLs\n",
    "  text = re.sub(r\"pic.twitter.com\\S+\", ' ', text)       # Remove custom URLs for twitter\n",
    "  text = re.sub(r'\\@([\\w]+)',' ', text)                 # Remove Mention @\n",
    "  text = re.sub(r'\\#([\\w]+)',' ', text)                 # Remove #TAGAR\n",
    "  text = re.sub('\\S*@\\S*\\s?', ' ', text)                # Remove email\n",
    "  text = re.sub(r'[^\\w\\s]', ' ', text)                  # Remove punctuation\n",
    "      #   text = re.sub(r'\\b\\w{1,3}\\b','',text)                 #Remove n-chars,Remove less than 3 chars, minimum 4 character allowed \"\\b[a-zA-Z0-9]{3}\\b\"\n",
    "  text = re.sub(r'[!$%^&*@#()_+|~=`{}\\[\\]%\\-:\";\\'<>?,.\\/]', ' ', text)  # Tahap-5: simbol\n",
    "      #   text = re.sub(r'[0-9]+','', text)                     # Tahap-6: angka\n",
    "  text = re.sub(r'([a-zA-Z])\\1\\1','\\\\1', text)          # Tahap-7: koreksi duplikasi tiga karakter beruntun atau lebih (contoh. yukkk)\n",
    "  text = re.sub(' +',' ', text)                         #remove multiple whitespace\n",
    "  text = re.sub(r'^[ ]|[ ]$','', text)                  # Tahap-9: spasi di awal dan akhir kalimat\n",
    "\n",
    "  # text = re.sub('\\b[a-zA-Z0-9]{3}\\b','',text)\n",
    "  text = unicodedata.normalize('NFKD', text).encode('ascii', 'ignore').decode('utf-8', 'ignore') # Remove non-ascii character\n",
    "  return text"
   ]
  },
  {
   "cell_type": "code",
   "execution_count": 42,
   "metadata": {},
   "outputs": [
    {
     "data": {
      "application/vnd.jupyter.widget-view+json": {
       "model_id": "12641d2d71784e85a8d43c0b316e073a",
       "version_major": 2,
       "version_minor": 0
      },
      "text/plain": [
       "  0%|          | 0/2324 [00:00<?, ?it/s]"
      ]
     },
     "metadata": {},
     "output_type": "display_data"
    }
   ],
   "source": [
    "samples['filtering'] = samples['stem_content'].progress_apply(lambda x: filtering(x))\n"
   ]
  },
  {
   "cell_type": "code",
   "execution_count": 64,
   "metadata": {},
   "outputs": [
    {
     "data": {
      "application/vnd.jupyter.widget-view+json": {
       "model_id": "e90ca33445604f86a5c525222de5a2a7",
       "version_major": 2,
       "version_minor": 0
      },
      "text/plain": [
       "  0%|          | 0/9 [00:00<?, ?it/s]"
      ]
     },
     "metadata": {},
     "output_type": "display_data"
    }
   ],
   "source": [
    "# samples['clean_stemming'] = samples['filtering'].progress_apply(lambda x: stemming(x))"
   ]
  },
  {
   "cell_type": "code",
   "execution_count": 43,
   "metadata": {},
   "outputs": [],
   "source": [
    "samples.to_csv( \"hasil/dataset_after_resmikpu_clean_content.csv\", index=False, encoding='utf-8-sig')\n"
   ]
  },
  {
   "cell_type": "code",
   "execution_count": null,
   "metadata": {},
   "outputs": [],
   "source": [
    "samples.to_csv( \"hasil/samples.csv\", index=False, encoding='utf-8-sig')"
   ]
  },
  {
   "cell_type": "code",
   "execution_count": null,
   "metadata": {},
   "outputs": [],
   "source": [
    "def text_preprocessing(text):\n",
    "  text = text.lower()                                   # Lowercase all sentences\n",
    "      #   text = text.strip()                                   # Remove whitespace\n",
    "  text = re.sub('[-+]?[0-9]+', ' ', text)               # Remove numbers \n",
    "  text = re.sub(r'https?://\\S+|www\\.\\S+', ' ', text)    # Remove URLs\n",
    "  text = re.sub(r\"pic.twitter.com\\S+\", ' ', text)       # Remove custom URLs for twitter\n",
    "  text = re.sub(r'\\@([\\w]+)',' ', text)                 # Remove Mention @\n",
    "  text = re.sub(r'\\#([\\w]+)',' ', text)                 # Remove #TAGAR\n",
    "  text = re.sub('\\S*@\\S*\\s?', ' ', text)                # Remove email\n",
    "  text = re.sub(r'[^\\w\\s]', ' ', text)                  # Remove punctuation\n",
    "      #   text = re.sub(r'\\b\\w{1,3}\\b','',text)                 #Remove n-chars,Remove less than 3 chars, minimum 4 character allowed \"\\b[a-zA-Z0-9]{3}\\b\"\n",
    "  text = re.sub(r'[!$%^&*@#()_+|~=`{}\\[\\]%\\-:\";\\'<>?,.\\/]', ' ', text)  # Tahap-5: simbol\n",
    "      #   text = re.sub(r'[0-9]+','', text)                     # Tahap-6: angka\n",
    "  text = re.sub(r'([a-zA-Z])\\1\\1','\\\\1', text)          # Tahap-7: koreksi duplikasi tiga karakter beruntun atau lebih (contoh. yukkk)\n",
    "  text = re.sub(' +',' ', text)                         #remove multiple whitespace\n",
    "  text = re.sub(r'^[ ]|[ ]$','', text)                  # Tahap-9: spasi di awal dan akhir kalimat\n",
    "\n",
    "  # text = re.sub('\\b[a-zA-Z0-9]{3}\\b','',text)\n",
    "  text = unicodedata.normalize('NFKD', text).encode('ascii', 'ignore').decode('utf-8', 'ignore') # Remove non-ascii character\n",
    "  word_tokens = word_tokenize(text) # Word tokenize\n",
    "  \n",
    "\n",
    "  # Define Indonesian stopwords removal\n",
    "  stop_words = stopwords.words('indonesian')  # NLTK Indonesian stopwords\n",
    "  clean_words = [word for word in word_tokens if word not in stop_words] # stopwords removal\n",
    "  clean_words = ' '.join(clean_words)\n",
    "\n",
    "  words = set(nltk.corpus.words.words())\n",
    "  word_cleaner = word_tokenize(clean_words)\n",
    "  cleaner_words = [w for w in word_cleaner if w.lower() in words or not w.isalpha()] #remove non english\n",
    "  cleaner = ' '.join(cleaner_words)\n",
    "\n",
    "  #stemming with snowball update 07072022 stemmer terakhir\n",
    "#   stem_token=word_tokenize(cleaner)\n",
    "#   stem_words = [snowball.stem(w) for w in stem_token]\n",
    "#   stem_clean= ' '.join(stem_words)\n",
    "\n",
    "  #update13072022 pake lemmatization TextBlob\n",
    "  tblob=TextBlob(clean_words)\n",
    "  lemma= [Word(word).lemmatize(\"v\") for word in tblob.words]\n",
    "  lemma_clean= ' '.join(lemma)\n",
    "\n",
    "  #   cleaner = \" \".join(w for w in nltk.wordpunct_tokenize(clean_words) \\\n",
    "        #   if w.lower() in words or not w.isalpha())\n",
    "\n",
    "  return lemma_clean"
   ]
  }
 ],
 "metadata": {
  "kernelspec": {
   "display_name": "Python 3",
   "language": "python",
   "name": "python3"
  },
  "language_info": {
   "codemirror_mode": {
    "name": "ipython",
    "version": 3
   },
   "file_extension": ".py",
   "mimetype": "text/x-python",
   "name": "python",
   "nbconvert_exporter": "python",
   "pygments_lexer": "ipython3",
   "version": "3.10.6"
  }
 },
 "nbformat": 4,
 "nbformat_minor": 2
}
