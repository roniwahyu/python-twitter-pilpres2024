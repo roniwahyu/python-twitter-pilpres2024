{
 "cells": [
  {
   "cell_type": "code",
   "execution_count": 1,
   "metadata": {},
   "outputs": [],
   "source": [
    "import sklearn\n"
   ]
  },
  {
   "cell_type": "code",
   "execution_count": 2,
   "metadata": {},
   "outputs": [],
   "source": [
    "from sklearn.model_selection import train_test_split\n",
    "from sklearn.feature_extraction.text import TfidfVectorizer,CountVectorizer,TfidfTransformer\n",
    "import pandas as pd\n"
   ]
  },
  {
   "cell_type": "code",
   "execution_count": 3,
   "metadata": {},
   "outputs": [
    {
     "data": {
      "text/plain": [
       "(7306, 20)"
      ]
     },
     "execution_count": 3,
     "metadata": {},
     "output_type": "execute_result"
    }
   ],
   "source": [
    "samples= pd.read_csv('dataset/2.DatasetLabeling_NomorUrut_clean_content_textblobvader.csv', encoding='UTF-8')\n",
    "# samples=samples[['likes','replies','quotes','retweets','searchQuery','clean_content']]\n",
    "samples.shape"
   ]
  },
  {
   "cell_type": "code",
   "execution_count": 4,
   "metadata": {},
   "outputs": [
    {
     "name": "stdout",
     "output_type": "stream",
     "text": [
      "Jumlah Konten unik: 3307\n"
     ]
    }
   ],
   "source": [
    "print(\"Jumlah Konten unik:\",int(len(samples['clean_content'].unique())))\n",
    "# samples['clean_content'].unique()"
   ]
  },
  {
   "cell_type": "code",
   "execution_count": 5,
   "metadata": {},
   "outputs": [
    {
     "name": "stdout",
     "output_type": "stream",
     "text": [
      "<class 'pandas.core.frame.DataFrame'>\n",
      "RangeIndex: 7306 entries, 0 to 7305\n",
      "Data columns (total 20 columns):\n",
      " #   Column                         Non-Null Count  Dtype  \n",
      "---  ------                         --------------  -----  \n",
      " 0   text                           7306 non-null   object \n",
      " 1   clean_content                  7306 non-null   object \n",
      " 2   likes                          7306 non-null   int64  \n",
      " 3   replies                        7306 non-null   int64  \n",
      " 4   quotes                         7306 non-null   int64  \n",
      " 5   retweets                       7306 non-null   int64  \n",
      " 6   searchQuery                    7306 non-null   object \n",
      " 7   user_location                  3472 non-null   object \n",
      " 8   tanggal                        7306 non-null   object \n",
      " 9   dataset                        7306 non-null   object \n",
      " 10  date                           7306 non-null   object \n",
      " 11  textblob_sentiment             7306 non-null   object \n",
      " 12  textblob_sentiment_assessment  7306 non-null   object \n",
      " 13  textblob_polarity              7306 non-null   float64\n",
      " 14  textblob_subject               7306 non-null   float64\n",
      " 15  vader_compound                 7306 non-null   float64\n",
      " 16  vader_neg                      7306 non-null   float64\n",
      " 17  vader_neu                      7306 non-null   float64\n",
      " 18  vader_pos                      7306 non-null   float64\n",
      " 19  vader_sentiment                7306 non-null   object \n",
      "dtypes: float64(6), int64(4), object(10)\n",
      "memory usage: 1.1+ MB\n"
     ]
    }
   ],
   "source": [
    "samples.info()"
   ]
  },
  {
   "cell_type": "code",
   "execution_count": 6,
   "metadata": {},
   "outputs": [],
   "source": [
    "samples.drop_duplicates(subset=['clean_content'], inplace=True)\n",
    "# print(samples)"
   ]
  },
  {
   "cell_type": "code",
   "execution_count": 7,
   "metadata": {},
   "outputs": [
    {
     "data": {
      "text/plain": [
       "(3307, 20)"
      ]
     },
     "execution_count": 7,
     "metadata": {},
     "output_type": "execute_result"
    }
   ],
   "source": [
    "# print(\"Jumlah Konten unik:\",int(len(samples['clean_content'])))\n",
    "samples.shape"
   ]
  },
  {
   "cell_type": "code",
   "execution_count": 8,
   "metadata": {},
   "outputs": [
    {
     "name": "stdout",
     "output_type": "stream",
     "text": [
      "Jumlah Query unik: 28\n"
     ]
    },
    {
     "data": {
      "text/plain": [
       "array(['#nomor', '#KIM', '#gibran', '#prabowo', '#indonesiamaju',\n",
       "       'paslon', 'nomor urut', '#koalisiindonesiamaju', '#prabowo2024',\n",
       "       '#prabowogibran', '#aniesmuhaimin', '#aniespresiden',\n",
       "       '#aniesbaswedan', '#anies2024', '#muhaimin', '#AMIN',\n",
       "       '#aniescakimin', '#anies', '#koalisiperubahan', '#cakimin',\n",
       "       '#ganjarpresiden', '#ganjar', '#ganjarpranowo', '#GAMA',\n",
       "       '#ganjar2024', '#mahfud', '#ganjarmahfud', '#mahfudmd'],\n",
       "      dtype=object)"
      ]
     },
     "execution_count": 8,
     "metadata": {},
     "output_type": "execute_result"
    }
   ],
   "source": [
    "# len(samples['clean_content'].unique())\n",
    "print(\"Jumlah Query unik:\",int(len(samples['searchQuery'].unique())))\n",
    "samples['searchQuery'].unique()"
   ]
  },
  {
   "cell_type": "markdown",
   "metadata": {},
   "source": [
    "## Define Date Timestamp"
   ]
  },
  {
   "cell_type": "code",
   "execution_count": 9,
   "metadata": {},
   "outputs": [
    {
     "name": "stdout",
     "output_type": "stream",
     "text": [
      "23112023 2023-11-23 20:17:46.855489 Asia/Jakarta\n"
     ]
    }
   ],
   "source": [
    "from datetime import datetime\n",
    "import pytz\n",
    "\n",
    "\n",
    "now = datetime.now() # current date and time\n",
    "\n",
    "tz = pytz.timezone('Asia/Jakarta')\n",
    "aware_obj = tz.localize(now)\n",
    "d = aware_obj.strftime(\"%d%m%Y\")\n",
    "print(d,now,aware_obj.tzinfo)"
   ]
  },
  {
   "cell_type": "markdown",
   "metadata": {},
   "source": [
    "## Setup Data Sampling"
   ]
  },
  {
   "cell_type": "code",
   "execution_count": 10,
   "metadata": {},
   "outputs": [
    {
     "name": "stdout",
     "output_type": "stream",
     "text": [
      "dataset\n",
      "prabowogibran    1528\n",
      "aniesmuhaimin    1030\n",
      "ganjarmahfud      749\n",
      "Name: count, dtype: int64\n"
     ]
    }
   ],
   "source": [
    "print(samples['dataset'].value_counts().reindex(['prabowogibran','aniesmuhaimin','ganjarmahfud'], fill_value=0))"
   ]
  },
  {
   "cell_type": "code",
   "execution_count": 11,
   "metadata": {},
   "outputs": [
    {
     "data": {
      "text/plain": [
       "<seaborn.axisgrid.FacetGrid at 0x27ee56572e0>"
      ]
     },
     "execution_count": 11,
     "metadata": {},
     "output_type": "execute_result"
    },
    {
     "data": {
      "image/png": "[encoded data removed]",
      "text/plain": [
       "<Figure size 563.861x500 with 1 Axes>"
      ]
     },
     "metadata": {},
     "output_type": "display_data"
    }
   ],
   "source": [
    "import seaborn as sns\n",
    "sns.catplot(data=samples, x=\"dataset\", kind=\"count\",hue=\"dataset\",palette=\"pastel\")"
   ]
  },
  {
   "cell_type": "code",
   "execution_count": 12,
   "metadata": {},
   "outputs": [
    {
     "data": {
      "text/plain": [
       "[Text(0, 0, '1528'), Text(0, 0, '1030'), Text(0, 0, '749')]"
      ]
     },
     "execution_count": 12,
     "metadata": {},
     "output_type": "execute_result"
    },
    {
     "data": {
      "image/png": "[encoded data removed]",
      "text/plain": [
       "<Figure size 500x500 with 1 Axes>"
      ]
     },
     "metadata": {},
     "output_type": "display_data"
    }
   ],
   "source": [
    "grid = sns.catplot(x='dataset', kind='count', data=samples)\n",
    "ax = grid.axes[0, 0]\n",
    "ax.bar_label(ax.containers[0])"
   ]
  },
  {
   "cell_type": "code",
   "execution_count": 13,
   "metadata": {},
   "outputs": [],
   "source": [
    "# dataset1=samples.query(\"dataset=='prabowogibran' and vader_sentiment=='Negative'\").sample(10)\n",
    "dataset1=samples.query(\"dataset=='prabowogibran'\")#.sample(10)\n",
    "dataset2=samples.query(\"dataset=='aniesmuhaimin'\")#.sample(10)\n",
    "dataset3=samples.query(\"dataset=='ganjarmahfud'\")#.sample(10)"
   ]
  },
  {
   "cell_type": "code",
   "execution_count": 14,
   "metadata": {},
   "outputs": [
    {
     "data": {
      "text/html": [
       "<div>\n",
       "<style scoped>\n",
       "    .dataframe tbody tr th:only-of-type {\n",
       "        vertical-align: middle;\n",
       "    }\n",
       "\n",
       "    .dataframe tbody tr th {\n",
       "        vertical-align: top;\n",
       "    }\n",
       "\n",
       "    .dataframe thead th {\n",
       "        text-align: right;\n",
       "    }\n",
       "</style>\n",
       "<table border=\"1\" class=\"dataframe\">\n",
       "  <thead>\n",
       "    <tr style=\"text-align: right;\">\n",
       "      <th></th>\n",
       "      <th>text</th>\n",
       "      <th>clean_content</th>\n",
       "      <th>likes</th>\n",
       "      <th>replies</th>\n",
       "      <th>quotes</th>\n",
       "      <th>retweets</th>\n",
       "      <th>searchQuery</th>\n",
       "      <th>user_location</th>\n",
       "      <th>tanggal</th>\n",
       "      <th>dataset</th>\n",
       "      <th>date</th>\n",
       "      <th>textblob_sentiment</th>\n",
       "      <th>textblob_sentiment_assessment</th>\n",
       "      <th>textblob_polarity</th>\n",
       "      <th>textblob_subject</th>\n",
       "      <th>vader_compound</th>\n",
       "      <th>vader_neg</th>\n",
       "      <th>vader_neu</th>\n",
       "      <th>vader_pos</th>\n",
       "      <th>vader_sentiment</th>\n",
       "    </tr>\n",
       "  </thead>\n",
       "  <tbody>\n",
       "    <tr>\n",
       "      <th>0</th>\n",
       "      <td>Sah, Pasangan Prabowo-Gibran dapat Nomor Urut ...</td>\n",
       "      <td>sah pasang prabowo gibran nomor urut tetap kpu...</td>\n",
       "      <td>0</td>\n",
       "      <td>0</td>\n",
       "      <td>0</td>\n",
       "      <td>0</td>\n",
       "      <td>#nomor</td>\n",
       "      <td>NaN</td>\n",
       "      <td>11/14/2023</td>\n",
       "      <td>prabowogibran</td>\n",
       "      <td>2023-11-14</td>\n",
       "      <td>Neutral</td>\n",
       "      <td>Sentiment(polarity=0.0, subjectivity=0.0, asse...</td>\n",
       "      <td>0.0</td>\n",
       "      <td>0.0</td>\n",
       "      <td>0.0</td>\n",
       "      <td>0.0</td>\n",
       "      <td>1.0</td>\n",
       "      <td>0.0</td>\n",
       "      <td>Neutral</td>\n",
       "    </tr>\n",
       "    <tr>\n",
       "      <th>1</th>\n",
       "      <td>#nomor 1 Amin menang</td>\n",
       "      <td>nomor amin menang</td>\n",
       "      <td>0</td>\n",
       "      <td>0</td>\n",
       "      <td>0</td>\n",
       "      <td>0</td>\n",
       "      <td>#nomor</td>\n",
       "      <td>NaN</td>\n",
       "      <td>11/15/2023</td>\n",
       "      <td>prabowogibran</td>\n",
       "      <td>2023-11-15</td>\n",
       "      <td>Neutral</td>\n",
       "      <td>Sentiment(polarity=0.0, subjectivity=0.0, asse...</td>\n",
       "      <td>0.0</td>\n",
       "      <td>0.0</td>\n",
       "      <td>0.0</td>\n",
       "      <td>0.0</td>\n",
       "      <td>1.0</td>\n",
       "      <td>0.0</td>\n",
       "      <td>Neutral</td>\n",
       "    </tr>\n",
       "    <tr>\n",
       "      <th>2</th>\n",
       "      <td>Pak Prabowo mengangkat anak penerbang tucano y...</td>\n",
       "      <td>prabowo angkat anak terbang tucano gugur anak ...</td>\n",
       "      <td>0</td>\n",
       "      <td>0</td>\n",
       "      <td>0</td>\n",
       "      <td>0</td>\n",
       "      <td>#KIM</td>\n",
       "      <td>NaN</td>\n",
       "      <td>11/20/2023</td>\n",
       "      <td>prabowogibran</td>\n",
       "      <td>2023-11-20</td>\n",
       "      <td>Neutral</td>\n",
       "      <td>Sentiment(polarity=0.0, subjectivity=0.0, asse...</td>\n",
       "      <td>0.0</td>\n",
       "      <td>0.0</td>\n",
       "      <td>0.0</td>\n",
       "      <td>0.0</td>\n",
       "      <td>1.0</td>\n",
       "      <td>0.0</td>\n",
       "      <td>Neutral</td>\n",
       "    </tr>\n",
       "    <tr>\n",
       "      <th>3</th>\n",
       "      <td>Unboxing Prabowo; Cerita sejarah, deklarasi bu...</td>\n",
       "      <td>unboxing prabowo cerita sejarah deklarasi budi...</td>\n",
       "      <td>1</td>\n",
       "      <td>0</td>\n",
       "      <td>0</td>\n",
       "      <td>0</td>\n",
       "      <td>#KIM</td>\n",
       "      <td>NaN</td>\n",
       "      <td>11/20/2023</td>\n",
       "      <td>prabowogibran</td>\n",
       "      <td>2023-11-20</td>\n",
       "      <td>Neutral</td>\n",
       "      <td>Sentiment(polarity=0.0, subjectivity=0.0, asse...</td>\n",
       "      <td>0.0</td>\n",
       "      <td>0.0</td>\n",
       "      <td>0.0</td>\n",
       "      <td>0.0</td>\n",
       "      <td>1.0</td>\n",
       "      <td>0.0</td>\n",
       "      <td>Neutral</td>\n",
       "    </tr>\n",
       "    <tr>\n",
       "      <th>4</th>\n",
       "      <td>#Nomor 1\\n\\nIndonesia beradab</td>\n",
       "      <td>nomor indonesia adab</td>\n",
       "      <td>0</td>\n",
       "      <td>0</td>\n",
       "      <td>0</td>\n",
       "      <td>0</td>\n",
       "      <td>#nomor</td>\n",
       "      <td>NaN</td>\n",
       "      <td>11/14/2023</td>\n",
       "      <td>prabowogibran</td>\n",
       "      <td>2023-11-14</td>\n",
       "      <td>Neutral</td>\n",
       "      <td>Sentiment(polarity=0.0, subjectivity=0.0, asse...</td>\n",
       "      <td>0.0</td>\n",
       "      <td>0.0</td>\n",
       "      <td>0.0</td>\n",
       "      <td>0.0</td>\n",
       "      <td>1.0</td>\n",
       "      <td>0.0</td>\n",
       "      <td>Neutral</td>\n",
       "    </tr>\n",
       "  </tbody>\n",
       "</table>\n",
       "</div>"
      ],
      "text/plain": [
       "                                                text  \\\n",
       "0  Sah, Pasangan Prabowo-Gibran dapat Nomor Urut ...   \n",
       "1                               #nomor 1 Amin menang   \n",
       "2  Pak Prabowo mengangkat anak penerbang tucano y...   \n",
       "3  Unboxing Prabowo; Cerita sejarah, deklarasi bu...   \n",
       "4                      #Nomor 1\\n\\nIndonesia beradab   \n",
       "\n",
       "                                       clean_content  likes  replies  quotes  \\\n",
       "0  sah pasang prabowo gibran nomor urut tetap kpu...      0        0       0   \n",
       "1                                  nomor amin menang      0        0       0   \n",
       "2  prabowo angkat anak terbang tucano gugur anak ...      0        0       0   \n",
       "3  unboxing prabowo cerita sejarah deklarasi budi...      1        0       0   \n",
       "4                               nomor indonesia adab      0        0       0   \n",
       "\n",
       "   retweets searchQuery user_location     tanggal        dataset        date  \\\n",
       "0         0      #nomor           NaN  11/14/2023  prabowogibran  2023-11-14   \n",
       "1         0      #nomor           NaN  11/15/2023  prabowogibran  2023-11-15   \n",
       "2         0        #KIM           NaN  11/20/2023  prabowogibran  2023-11-20   \n",
       "3         0        #KIM           NaN  11/20/2023  prabowogibran  2023-11-20   \n",
       "4         0      #nomor           NaN  11/14/2023  prabowogibran  2023-11-14   \n",
       "\n",
       "  textblob_sentiment                      textblob_sentiment_assessment  \\\n",
       "0            Neutral  Sentiment(polarity=0.0, subjectivity=0.0, asse...   \n",
       "1            Neutral  Sentiment(polarity=0.0, subjectivity=0.0, asse...   \n",
       "2            Neutral  Sentiment(polarity=0.0, subjectivity=0.0, asse...   \n",
       "3            Neutral  Sentiment(polarity=0.0, subjectivity=0.0, asse...   \n",
       "4            Neutral  Sentiment(polarity=0.0, subjectivity=0.0, asse...   \n",
       "\n",
       "   textblob_polarity  textblob_subject  vader_compound  vader_neg  vader_neu  \\\n",
       "0                0.0               0.0             0.0        0.0        1.0   \n",
       "1                0.0               0.0             0.0        0.0        1.0   \n",
       "2                0.0               0.0             0.0        0.0        1.0   \n",
       "3                0.0               0.0             0.0        0.0        1.0   \n",
       "4                0.0               0.0             0.0        0.0        1.0   \n",
       "\n",
       "   vader_pos vader_sentiment  \n",
       "0        0.0         Neutral  \n",
       "1        0.0         Neutral  \n",
       "2        0.0         Neutral  \n",
       "3        0.0         Neutral  \n",
       "4        0.0         Neutral  "
      ]
     },
     "execution_count": 14,
     "metadata": {},
     "output_type": "execute_result"
    }
   ],
   "source": [
    "dataset1.head()"
   ]
  },
  {
   "cell_type": "code",
   "execution_count": 15,
   "metadata": {},
   "outputs": [
    {
     "name": "stdout",
     "output_type": "stream",
     "text": [
      "<class 'pandas.core.frame.DataFrame'>\n",
      "Index: 1528 entries, 0 to 1825\n",
      "Data columns (total 20 columns):\n",
      " #   Column                         Non-Null Count  Dtype  \n",
      "---  ------                         --------------  -----  \n",
      " 0   text                           1528 non-null   object \n",
      " 1   clean_content                  1528 non-null   object \n",
      " 2   likes                          1528 non-null   int64  \n",
      " 3   replies                        1528 non-null   int64  \n",
      " 4   quotes                         1528 non-null   int64  \n",
      " 5   retweets                       1528 non-null   int64  \n",
      " 6   searchQuery                    1528 non-null   object \n",
      " 7   user_location                  752 non-null    object \n",
      " 8   tanggal                        1528 non-null   object \n",
      " 9   dataset                        1528 non-null   object \n",
      " 10  date                           1528 non-null   object \n",
      " 11  textblob_sentiment             1528 non-null   object \n",
      " 12  textblob_sentiment_assessment  1528 non-null   object \n",
      " 13  textblob_polarity              1528 non-null   float64\n",
      " 14  textblob_subject               1528 non-null   float64\n",
      " 15  vader_compound                 1528 non-null   float64\n",
      " 16  vader_neg                      1528 non-null   float64\n",
      " 17  vader_neu                      1528 non-null   float64\n",
      " 18  vader_pos                      1528 non-null   float64\n",
      " 19  vader_sentiment                1528 non-null   object \n",
      "dtypes: float64(6), int64(4), object(10)\n",
      "memory usage: 250.7+ KB\n"
     ]
    }
   ],
   "source": [
    "dataset1.info()"
   ]
  },
  {
   "cell_type": "code",
   "execution_count": 16,
   "metadata": {},
   "outputs": [
    {
     "data": {
      "text/plain": [
       "[Text(0, 0, '669'), Text(0, 0, '26'), Text(0, 0, '54')]"
      ]
     },
     "execution_count": 16,
     "metadata": {},
     "output_type": "execute_result"
    },
    {
     "data": {
      "image/png": "[encoded data removed]",
      "text/plain": [
       "<Figure size 500x500 with 1 Axes>"
      ]
     },
     "metadata": {},
     "output_type": "display_data"
    },
    {
     "data": {
      "image/png": "[encoded data removed]",
      "text/plain": [
       "<Figure size 500x500 with 1 Axes>"
      ]
     },
     "metadata": {},
     "output_type": "display_data"
    },
    {
     "data": {
      "image/png": "[encoded data removed]",
      "text/plain": [
       "<Figure size 500x500 with 1 Axes>"
      ]
     },
     "metadata": {},
     "output_type": "display_data"
    }
   ],
   "source": [
    "# grid = sns.catplot(x='vader_sentiment', kind='count', data=dataset1)\n",
    "prabowo1=sns.catplot(data=dataset1, x=\"vader_sentiment\", kind=\"count\")#,hue=\"vader_sentiment\",palette=\"pastel\")\n",
    "ax = prabowo1.axes[0, 0]\n",
    "ax.bar_label(ax.containers[0])\n",
    "\n",
    "anies1=sns.catplot(data=dataset2, x=\"vader_sentiment\", kind=\"count\")#,hue=\"vader_sentiment\",palette=\"pastel\")\n",
    "ax1 = anies1.axes[0, 0]\n",
    "ax1.bar_label(ax1.containers[0])\n",
    "\n",
    "ganjar1=sns.catplot(data=dataset3, x=\"vader_sentiment\", kind=\"count\")#,hue=\"vader_sentiment\",palette=\"pastel\")\n",
    "ax2 = ganjar1.axes[0, 0]\n",
    "ax2.bar_label(ax2.containers[0])"
   ]
  },
  {
   "cell_type": "markdown",
   "metadata": {},
   "source": [
    "## Balanced Sampling"
   ]
  },
  {
   "cell_type": "code",
   "execution_count": 17,
   "metadata": {},
   "outputs": [],
   "source": [
    "#get sampling data random\n",
    "# jsampling=25  \n",
    "# sample=samples.sample(n=jsampling,replace=True,random_state=42)\n",
    "#get sampling random 50% of data random \n",
    "# df = df.sample(n=3,replace=True,frac=0.5,random_state=42)"
   ]
  },
  {
   "cell_type": "code",
   "execution_count": 18,
   "metadata": {},
   "outputs": [],
   "source": [
    "# column = 'vader_sentiment'\n",
    "jsampling=700  \n",
    "# datax1=samples[['dataset','vader_sentiment','clean_content']]\n",
    "# balanceddf = samples.groupby(column).sample(n=samples[column].value_counts().min(), random_state=42)\n",
    "balanceddf = samples.groupby(['dataset']).sample(n=jsampling,replace=True, random_state=42)"
   ]
  },
  {
   "cell_type": "code",
   "execution_count": 19,
   "metadata": {},
   "outputs": [],
   "source": [
    "# balanceddf.head(10)"
   ]
  },
  {
   "cell_type": "code",
   "execution_count": 20,
   "metadata": {},
   "outputs": [],
   "source": [
    "# balanced_df=samples.groupby('vader_sentiment',as_index = False,group_keys=False).apply(lambda s: s.sample(3,replace=True))"
   ]
  },
  {
   "cell_type": "code",
   "execution_count": 21,
   "metadata": {},
   "outputs": [],
   "source": [
    "# balanceddf.head(10)"
   ]
  },
  {
   "cell_type": "code",
   "execution_count": 22,
   "metadata": {},
   "outputs": [
    {
     "data": {
      "text/plain": [
       "[Text(0, 0, '700'), Text(0, 0, '700'), Text(0, 0, '700')]"
      ]
     },
     "execution_count": 22,
     "metadata": {},
     "output_type": "execute_result"
    },
    {
     "data": {
      "image/png": "[encoded data removed]",
      "text/plain": [
       "<Figure size 500x500 with 1 Axes>"
      ]
     },
     "metadata": {},
     "output_type": "display_data"
    }
   ],
   "source": [
    "balanced=sns.catplot(data=balanceddf, x=\"dataset\", kind=\"count\")#,hue=\"vader_sentiment\",palette=\"pastel\")\n",
    "axx = balanced.axes[0, 0]\n",
    "axx.bar_label(axx.containers[0])"
   ]
  },
  {
   "cell_type": "code",
   "execution_count": 23,
   "metadata": {},
   "outputs": [
    {
     "data": {
      "text/plain": [
       "[Text(0, 0, '1835'), Text(0, 0, '115'), Text(0, 0, '150')]"
      ]
     },
     "execution_count": 23,
     "metadata": {},
     "output_type": "execute_result"
    },
    {
     "data": {
      "image/png": "[encoded data removed]",
      "text/plain": [
       "<Figure size 500x500 with 1 Axes>"
      ]
     },
     "metadata": {},
     "output_type": "display_data"
    }
   ],
   "source": [
    "balanced1=sns.catplot(data=balanceddf, x=\"vader_sentiment\", kind=\"count\")#,hue=\"vader_sentiment\",palette=\"pastel\")\n",
    "axx = balanced1.axes[0, 0]\n",
    "axx.bar_label(axx.containers[0])"
   ]
  },
  {
   "cell_type": "code",
   "execution_count": 24,
   "metadata": {},
   "outputs": [
    {
     "name": "stdout",
     "output_type": "stream",
     "text": [
      "dataset\n",
      "prabowogibran    700\n",
      "aniesmuhaimin    700\n",
      "ganjarmahfud     700\n",
      "Name: count, dtype: int64\n",
      "vader_sentiment\n",
      "Positive     150\n",
      "Neutral     1835\n",
      "Negative     115\n",
      "Name: count, dtype: int64\n"
     ]
    }
   ],
   "source": [
    "print(balanceddf['dataset'].value_counts().reindex(['prabowogibran','aniesmuhaimin','ganjarmahfud'], fill_value=0))\n",
    "print(balanceddf['vader_sentiment'].value_counts().reindex(['Positive','Neutral','Negative'], fill_value=0))"
   ]
  },
  {
   "cell_type": "code",
   "execution_count": 25,
   "metadata": {},
   "outputs": [],
   "source": [
    "import numpy as np\n",
    "# Code Snippet for Character Length Histogram\n",
    "def plot_character_length_histogram(text):\n",
    "    text.str.len().\\\n",
    "        hist()\n",
    "\n",
    "# Code Snippet for Word Number Histogram\n",
    "def plot_word_number_histogram(text):\n",
    "    text.str.split().\\\n",
    "        map(lambda x: len(x)).\\\n",
    "        hist()\n",
    "\n",
    "# Code Snippet for Word Length Histogram\n",
    "def plot_word_length_histogram(text):\n",
    "    text.str.split().\\\n",
    "        apply(lambda x: [len(i) for i in x]). \\\n",
    "        map(lambda x: np.mean(x)).\\\n",
    "        hist()"
   ]
  },
  {
   "cell_type": "code",
   "execution_count": 26,
   "metadata": {},
   "outputs": [
    {
     "data": {
      "image/png": "[encoded data removed]",
      "text/plain": [
       "<Figure size 640x480 with 1 Axes>"
      ]
     },
     "metadata": {},
     "output_type": "display_data"
    }
   ],
   "source": [
    "# plot_character_length_histogram(sample['clean_content'])\n",
    "plot_character_length_histogram(balanceddf['clean_content'])"
   ]
  },
  {
   "cell_type": "code",
   "execution_count": 27,
   "metadata": {},
   "outputs": [
    {
     "data": {
      "image/png": "[encoded data removed]",
      "text/plain": [
       "<Figure size 640x480 with 1 Axes>"
      ]
     },
     "metadata": {},
     "output_type": "display_data"
    }
   ],
   "source": [
    "# plot_word_number_histogram(sample['clean_content'])\n",
    "plot_word_number_histogram(balanceddf['clean_content'])"
   ]
  },
  {
   "cell_type": "code",
   "execution_count": 28,
   "metadata": {},
   "outputs": [
    {
     "data": {
      "image/png": "[encoded data removed]",
      "text/plain": [
       "<Figure size 640x480 with 1 Axes>"
      ]
     },
     "metadata": {},
     "output_type": "display_data"
    }
   ],
   "source": [
    "# plot_word_length_histogram(sample['clean_content'])\n",
    "plot_word_length_histogram(balanceddf['clean_content'])"
   ]
  },
  {
   "cell_type": "markdown",
   "metadata": {},
   "source": [
    "## Split Dataset"
   ]
  },
  {
   "cell_type": "code",
   "execution_count": 29,
   "metadata": {},
   "outputs": [],
   "source": [
    "# sample.head()"
   ]
  },
  {
   "cell_type": "code",
   "execution_count": 30,
   "metadata": {},
   "outputs": [
    {
     "name": "stdout",
     "output_type": "stream",
     "text": [
      "Dataset shopee 75.0:25.0 \n",
      " [INFO] Sebaran kelas pada training  set: \n",
      " Negative: \t 86 \n",
      " Neutral: \t1376 \n",
      " Positive:\t113 \n",
      " [INFO] Sebaran kelas pada testing set:\n",
      " Negative: \t29\n",
      " Neutral: \t459\n",
      " Positive:\t37 \n",
      " [INFO] Shape Data: \n",
      " X_train: \t (1575,) \n",
      " X_test: \t (525,) \n",
      " y_train: \t (1575,) \n",
      " y_test: \t (525,) \n",
      "\n"
     ]
    }
   ],
   "source": [
    "# dataset=sample\n",
    "dataset=balanceddf\n",
    "X = dataset['clean_content']     # Define feature matriX\n",
    "y = dataset['vader_sentiment']         # Define target feature matriX\n",
    "target_label=['Positive','Neutral','Negative']\n",
    "jumlahdatauji=0.25\n",
    "X_train, X_test, y_train, y_test = train_test_split(X, y, test_size=jumlahdatauji, random_state=42, stratify=y)\n",
    "\n",
    "datalatih=('Dataset shopee {}:{} \\n [INFO] Sebaran kelas pada training  set: \\n Negative: \\t {} \\n Neutral: \\t{} \\n Positive:\\t{} \\n'.format((1-jumlahdatauji)*100,jumlahdatauji*100,sum(y_train=='Negative'), sum(y_train=='Neutral'), sum(y_train=='Positive')))\n",
    "datauji=('[INFO] Sebaran kelas pada testing set:\\n Negative: \\t{}\\n Neutral: \\t{}\\n Positive:\\t{} \\n'.format(sum(y_test=='Negative'), sum(y_test=='Neutral'), sum(y_test=='Positive')))\n",
    "\n",
    "dimensi_data=('[INFO] Shape Data: \\n X_train: \\t {} \\n X_test: \\t {} \\n y_train: \\t {} \\n y_test: \\t {} \\n'.format(X_train.shape, X_test.shape, y_train.shape, y_test.shape))\n",
    "\n",
    "with open('hasil/datauji-pilpres2024_sample_'+str(jsampling)+'.txt', 'a', encoding='utf-8') as f:\n",
    "    f.writelines(''.join(datalatih))\n",
    "    f.writelines(''.join(datauji))\n",
    "    f.writelines(''.join(dimensi_data))\n",
    "\n",
    "print(datalatih, datauji, dimensi_data)\n",
    "dtuji=int(jumlahdatauji*100)\n",
    "dtlatih=(100-(dtuji))"
   ]
  },
  {
   "cell_type": "markdown",
   "metadata": {},
   "source": [
    "## Save Splitted Dataset"
   ]
  },
  {
   "cell_type": "code",
   "execution_count": 31,
   "metadata": {},
   "outputs": [],
   "source": [
    "# print(dataset)"
   ]
  },
  {
   "cell_type": "code",
   "execution_count": 32,
   "metadata": {},
   "outputs": [],
   "source": [
    "# dataset.to_csv( \"hasil/5_dataset__\"+d+\".csv\", index=False, encoding='utf-8-sig')\n",
    "X_train.to_csv( \"hasil/5_train_data_\"+str(jsampling)+\"_\"+str(dtlatih)+\"_\"+d+\".csv\", index=False, encoding='utf-8-sig')\n",
    "X_test.to_csv( \"hasil/5_test_data_\"+str(jsampling)+\"_\"+str(dtuji)+\"_\"+d+\".csv\", index=False, encoding='utf-8-sig')"
   ]
  },
  {
   "cell_type": "markdown",
   "metadata": {},
   "source": [
    "# Term Weighting TFIDF X Training and Y Testing"
   ]
  },
  {
   "cell_type": "code",
   "execution_count": 33,
   "metadata": {},
   "outputs": [],
   "source": [
    "from sklearn.model_selection import train_test_split\n",
    "from sklearn.feature_extraction.text import TfidfVectorizer,CountVectorizer,TfidfTransformer"
   ]
  },
  {
   "cell_type": "code",
   "execution_count": 34,
   "metadata": {},
   "outputs": [],
   "source": [
    "# ngram_range = (1,2) #bigram\n",
    "ngram_range = (1,3) #trigram\n",
    "\n",
    "min_df = 5\n",
    "\n",
    "tfidf = TfidfVectorizer(ngram_range=ngram_range, min_df=min_df)\n",
    "# tfidf = TfidfVectorizer(max_features=1000)\n",
    "# vectors = tfidf.fit_transform(dataset.clean_content).toarray()\n",
    "# vectors = tfidf.fit_transform(X_train).toarray()\n",
    "# words_df = pd.DataFrame(vectors, columns=tfidf.get_feature_names_out())\n",
    "# words_df.head(10)\n"
   ]
  },
  {
   "cell_type": "code",
   "execution_count": 35,
   "metadata": {},
   "outputs": [
    {
     "name": "stdout",
     "output_type": "stream",
     "text": [
      "[[0. 0. 0. ... 0. 0. 0.]\n",
      " [0. 0. 0. ... 0. 0. 0.]\n",
      " [0. 0. 0. ... 0. 0. 0.]\n",
      " ...\n",
      " [0. 0. 0. ... 0. 0. 0.]\n",
      " [0. 0. 0. ... 0. 0. 0.]\n",
      " [0. 0. 0. ... 0. 0. 0.]]\n"
     ]
    },
    {
     "data": {
      "text/html": [
       "<div>\n",
       "<style scoped>\n",
       "    .dataframe tbody tr th:only-of-type {\n",
       "        vertical-align: middle;\n",
       "    }\n",
       "\n",
       "    .dataframe tbody tr th {\n",
       "        vertical-align: top;\n",
       "    }\n",
       "\n",
       "    .dataframe thead th {\n",
       "        text-align: right;\n",
       "    }\n",
       "</style>\n",
       "<table border=\"1\" class=\"dataframe\">\n",
       "  <thead>\n",
       "    <tr style=\"text-align: right;\">\n",
       "      <th></th>\n",
       "      <th>aamiin</th>\n",
       "      <th>absen</th>\n",
       "      <th>acara</th>\n",
       "      <th>acara musyawarah</th>\n",
       "      <th>acara musyawarah ikat</th>\n",
       "      <th>acara puncak</th>\n",
       "      <th>acara puncak hut</th>\n",
       "      <th>ada</th>\n",
       "      <th>adat</th>\n",
       "      <th>adem</th>\n",
       "      <th>...</th>\n",
       "      <th>ya allah</th>\n",
       "      <th>yaa</th>\n",
       "      <th>yah</th>\n",
       "      <th>yang</th>\n",
       "      <th>yang suka</th>\n",
       "      <th>yewang</th>\n",
       "      <th>yewang jeff</th>\n",
       "      <th>youtube</th>\n",
       "      <th>yuk</th>\n",
       "      <th>zaman</th>\n",
       "    </tr>\n",
       "  </thead>\n",
       "  <tbody>\n",
       "    <tr>\n",
       "      <th>0</th>\n",
       "      <td>0.0</td>\n",
       "      <td>0.0</td>\n",
       "      <td>0.0</td>\n",
       "      <td>0.0</td>\n",
       "      <td>0.0</td>\n",
       "      <td>0.0</td>\n",
       "      <td>0.0</td>\n",
       "      <td>0.0</td>\n",
       "      <td>0.0</td>\n",
       "      <td>0.0</td>\n",
       "      <td>...</td>\n",
       "      <td>0.0</td>\n",
       "      <td>0.0</td>\n",
       "      <td>0.0</td>\n",
       "      <td>0.0</td>\n",
       "      <td>0.0</td>\n",
       "      <td>0.0</td>\n",
       "      <td>0.0</td>\n",
       "      <td>0.0</td>\n",
       "      <td>0.0</td>\n",
       "      <td>0.0</td>\n",
       "    </tr>\n",
       "    <tr>\n",
       "      <th>1</th>\n",
       "      <td>0.0</td>\n",
       "      <td>0.0</td>\n",
       "      <td>0.0</td>\n",
       "      <td>0.0</td>\n",
       "      <td>0.0</td>\n",
       "      <td>0.0</td>\n",
       "      <td>0.0</td>\n",
       "      <td>0.0</td>\n",
       "      <td>0.0</td>\n",
       "      <td>0.0</td>\n",
       "      <td>...</td>\n",
       "      <td>0.0</td>\n",
       "      <td>0.0</td>\n",
       "      <td>0.0</td>\n",
       "      <td>0.0</td>\n",
       "      <td>0.0</td>\n",
       "      <td>0.0</td>\n",
       "      <td>0.0</td>\n",
       "      <td>0.0</td>\n",
       "      <td>0.0</td>\n",
       "      <td>0.0</td>\n",
       "    </tr>\n",
       "    <tr>\n",
       "      <th>2</th>\n",
       "      <td>0.0</td>\n",
       "      <td>0.0</td>\n",
       "      <td>0.0</td>\n",
       "      <td>0.0</td>\n",
       "      <td>0.0</td>\n",
       "      <td>0.0</td>\n",
       "      <td>0.0</td>\n",
       "      <td>0.0</td>\n",
       "      <td>0.0</td>\n",
       "      <td>0.0</td>\n",
       "      <td>...</td>\n",
       "      <td>0.0</td>\n",
       "      <td>0.0</td>\n",
       "      <td>0.0</td>\n",
       "      <td>0.0</td>\n",
       "      <td>0.0</td>\n",
       "      <td>0.0</td>\n",
       "      <td>0.0</td>\n",
       "      <td>0.0</td>\n",
       "      <td>0.0</td>\n",
       "      <td>0.0</td>\n",
       "    </tr>\n",
       "    <tr>\n",
       "      <th>3</th>\n",
       "      <td>0.0</td>\n",
       "      <td>0.0</td>\n",
       "      <td>0.0</td>\n",
       "      <td>0.0</td>\n",
       "      <td>0.0</td>\n",
       "      <td>0.0</td>\n",
       "      <td>0.0</td>\n",
       "      <td>0.0</td>\n",
       "      <td>0.0</td>\n",
       "      <td>0.0</td>\n",
       "      <td>...</td>\n",
       "      <td>0.0</td>\n",
       "      <td>0.0</td>\n",
       "      <td>0.0</td>\n",
       "      <td>0.0</td>\n",
       "      <td>0.0</td>\n",
       "      <td>0.0</td>\n",
       "      <td>0.0</td>\n",
       "      <td>0.0</td>\n",
       "      <td>0.0</td>\n",
       "      <td>0.0</td>\n",
       "    </tr>\n",
       "    <tr>\n",
       "      <th>4</th>\n",
       "      <td>0.0</td>\n",
       "      <td>0.0</td>\n",
       "      <td>0.0</td>\n",
       "      <td>0.0</td>\n",
       "      <td>0.0</td>\n",
       "      <td>0.0</td>\n",
       "      <td>0.0</td>\n",
       "      <td>0.0</td>\n",
       "      <td>0.0</td>\n",
       "      <td>0.0</td>\n",
       "      <td>...</td>\n",
       "      <td>0.0</td>\n",
       "      <td>0.0</td>\n",
       "      <td>0.0</td>\n",
       "      <td>0.0</td>\n",
       "      <td>0.0</td>\n",
       "      <td>0.0</td>\n",
       "      <td>0.0</td>\n",
       "      <td>0.0</td>\n",
       "      <td>0.0</td>\n",
       "      <td>0.0</td>\n",
       "    </tr>\n",
       "    <tr>\n",
       "      <th>5</th>\n",
       "      <td>0.0</td>\n",
       "      <td>0.0</td>\n",
       "      <td>0.0</td>\n",
       "      <td>0.0</td>\n",
       "      <td>0.0</td>\n",
       "      <td>0.0</td>\n",
       "      <td>0.0</td>\n",
       "      <td>0.0</td>\n",
       "      <td>0.0</td>\n",
       "      <td>0.0</td>\n",
       "      <td>...</td>\n",
       "      <td>0.0</td>\n",
       "      <td>0.0</td>\n",
       "      <td>0.0</td>\n",
       "      <td>0.0</td>\n",
       "      <td>0.0</td>\n",
       "      <td>0.0</td>\n",
       "      <td>0.0</td>\n",
       "      <td>0.0</td>\n",
       "      <td>0.0</td>\n",
       "      <td>0.0</td>\n",
       "    </tr>\n",
       "    <tr>\n",
       "      <th>6</th>\n",
       "      <td>0.0</td>\n",
       "      <td>0.0</td>\n",
       "      <td>0.0</td>\n",
       "      <td>0.0</td>\n",
       "      <td>0.0</td>\n",
       "      <td>0.0</td>\n",
       "      <td>0.0</td>\n",
       "      <td>0.0</td>\n",
       "      <td>0.0</td>\n",
       "      <td>0.0</td>\n",
       "      <td>...</td>\n",
       "      <td>0.0</td>\n",
       "      <td>0.0</td>\n",
       "      <td>0.0</td>\n",
       "      <td>0.0</td>\n",
       "      <td>0.0</td>\n",
       "      <td>0.0</td>\n",
       "      <td>0.0</td>\n",
       "      <td>0.0</td>\n",
       "      <td>0.0</td>\n",
       "      <td>0.0</td>\n",
       "    </tr>\n",
       "    <tr>\n",
       "      <th>7</th>\n",
       "      <td>0.0</td>\n",
       "      <td>0.0</td>\n",
       "      <td>0.0</td>\n",
       "      <td>0.0</td>\n",
       "      <td>0.0</td>\n",
       "      <td>0.0</td>\n",
       "      <td>0.0</td>\n",
       "      <td>0.0</td>\n",
       "      <td>0.0</td>\n",
       "      <td>0.0</td>\n",
       "      <td>...</td>\n",
       "      <td>0.0</td>\n",
       "      <td>0.0</td>\n",
       "      <td>0.0</td>\n",
       "      <td>0.0</td>\n",
       "      <td>0.0</td>\n",
       "      <td>0.0</td>\n",
       "      <td>0.0</td>\n",
       "      <td>0.0</td>\n",
       "      <td>0.0</td>\n",
       "      <td>0.0</td>\n",
       "    </tr>\n",
       "    <tr>\n",
       "      <th>8</th>\n",
       "      <td>0.0</td>\n",
       "      <td>0.0</td>\n",
       "      <td>0.0</td>\n",
       "      <td>0.0</td>\n",
       "      <td>0.0</td>\n",
       "      <td>0.0</td>\n",
       "      <td>0.0</td>\n",
       "      <td>0.0</td>\n",
       "      <td>0.0</td>\n",
       "      <td>0.0</td>\n",
       "      <td>...</td>\n",
       "      <td>0.0</td>\n",
       "      <td>0.0</td>\n",
       "      <td>0.0</td>\n",
       "      <td>0.0</td>\n",
       "      <td>0.0</td>\n",
       "      <td>0.0</td>\n",
       "      <td>0.0</td>\n",
       "      <td>0.0</td>\n",
       "      <td>0.0</td>\n",
       "      <td>0.0</td>\n",
       "    </tr>\n",
       "    <tr>\n",
       "      <th>9</th>\n",
       "      <td>0.0</td>\n",
       "      <td>0.0</td>\n",
       "      <td>0.0</td>\n",
       "      <td>0.0</td>\n",
       "      <td>0.0</td>\n",
       "      <td>0.0</td>\n",
       "      <td>0.0</td>\n",
       "      <td>0.0</td>\n",
       "      <td>0.0</td>\n",
       "      <td>0.0</td>\n",
       "      <td>...</td>\n",
       "      <td>0.0</td>\n",
       "      <td>0.0</td>\n",
       "      <td>0.0</td>\n",
       "      <td>0.0</td>\n",
       "      <td>0.0</td>\n",
       "      <td>0.0</td>\n",
       "      <td>0.0</td>\n",
       "      <td>0.0</td>\n",
       "      <td>0.0</td>\n",
       "      <td>0.0</td>\n",
       "    </tr>\n",
       "  </tbody>\n",
       "</table>\n",
       "<p>10 rows × 2003 columns</p>\n",
       "</div>"
      ],
      "text/plain": [
       "   aamiin  absen  acara  acara musyawarah  acara musyawarah ikat  \\\n",
       "0     0.0    0.0    0.0               0.0                    0.0   \n",
       "1     0.0    0.0    0.0               0.0                    0.0   \n",
       "2     0.0    0.0    0.0               0.0                    0.0   \n",
       "3     0.0    0.0    0.0               0.0                    0.0   \n",
       "4     0.0    0.0    0.0               0.0                    0.0   \n",
       "5     0.0    0.0    0.0               0.0                    0.0   \n",
       "6     0.0    0.0    0.0               0.0                    0.0   \n",
       "7     0.0    0.0    0.0               0.0                    0.0   \n",
       "8     0.0    0.0    0.0               0.0                    0.0   \n",
       "9     0.0    0.0    0.0               0.0                    0.0   \n",
       "\n",
       "   acara puncak  acara puncak hut  ada  adat  adem  ...  ya allah  yaa  yah  \\\n",
       "0           0.0               0.0  0.0   0.0   0.0  ...       0.0  0.0  0.0   \n",
       "1           0.0               0.0  0.0   0.0   0.0  ...       0.0  0.0  0.0   \n",
       "2           0.0               0.0  0.0   0.0   0.0  ...       0.0  0.0  0.0   \n",
       "3           0.0               0.0  0.0   0.0   0.0  ...       0.0  0.0  0.0   \n",
       "4           0.0               0.0  0.0   0.0   0.0  ...       0.0  0.0  0.0   \n",
       "5           0.0               0.0  0.0   0.0   0.0  ...       0.0  0.0  0.0   \n",
       "6           0.0               0.0  0.0   0.0   0.0  ...       0.0  0.0  0.0   \n",
       "7           0.0               0.0  0.0   0.0   0.0  ...       0.0  0.0  0.0   \n",
       "8           0.0               0.0  0.0   0.0   0.0  ...       0.0  0.0  0.0   \n",
       "9           0.0               0.0  0.0   0.0   0.0  ...       0.0  0.0  0.0   \n",
       "\n",
       "   yang  yang suka  yewang  yewang jeff  youtube  yuk  zaman  \n",
       "0   0.0        0.0     0.0          0.0      0.0  0.0    0.0  \n",
       "1   0.0        0.0     0.0          0.0      0.0  0.0    0.0  \n",
       "2   0.0        0.0     0.0          0.0      0.0  0.0    0.0  \n",
       "3   0.0        0.0     0.0          0.0      0.0  0.0    0.0  \n",
       "4   0.0        0.0     0.0          0.0      0.0  0.0    0.0  \n",
       "5   0.0        0.0     0.0          0.0      0.0  0.0    0.0  \n",
       "6   0.0        0.0     0.0          0.0      0.0  0.0    0.0  \n",
       "7   0.0        0.0     0.0          0.0      0.0  0.0    0.0  \n",
       "8   0.0        0.0     0.0          0.0      0.0  0.0    0.0  \n",
       "9   0.0        0.0     0.0          0.0      0.0  0.0    0.0  \n",
       "\n",
       "[10 rows x 2003 columns]"
      ]
     },
     "execution_count": 35,
     "metadata": {},
     "output_type": "execute_result"
    }
   ],
   "source": [
    "\n",
    "X_train = tfidf.fit_transform(X_train).toarray()\n",
    "print(X_train)\n",
    "columns=tfidf.get_feature_names_out()\n",
    "# print(columns)\n",
    "x_train_df = pd.DataFrame(X_train, columns=tfidf.get_feature_names_out())\n",
    "x_train_df.head(10)"
   ]
  },
  {
   "cell_type": "code",
   "execution_count": 36,
   "metadata": {},
   "outputs": [
    {
     "name": "stdout",
     "output_type": "stream",
     "text": [
      "Number of samples: 1575\n",
      "Number of features: 2003\n"
     ]
    }
   ],
   "source": [
    "n_samples, n_features = X_train.shape\n",
    "\n",
    "print('Number of samples:', n_samples)\n",
    "print('Number of features:', n_features)"
   ]
  },
  {
   "cell_type": "code",
   "execution_count": 37,
   "metadata": {},
   "outputs": [
    {
     "name": "stdout",
     "output_type": "stream",
     "text": [
      "[[0. 0. 0. ... 0. 0. 0.]\n",
      " [0. 0. 0. ... 0. 0. 0.]\n",
      " [0. 0. 0. ... 0. 0. 0.]\n",
      " ...\n",
      " [0. 0. 0. ... 0. 0. 0.]\n",
      " [0. 0. 0. ... 0. 0. 0.]\n",
      " [0. 0. 0. ... 0. 0. 0.]]\n"
     ]
    }
   ],
   "source": [
    "print(X_train)"
   ]
  },
  {
   "cell_type": "code",
   "execution_count": 38,
   "metadata": {},
   "outputs": [],
   "source": [
    "x_train_df.to_csv( \"hasil/xtrain_tfidf_trigram_\"+str(jsampling)+\"_\"+str(dtlatih)+\"_\"+str(d)+\".csv\", index=False, encoding='utf-8-sig')"
   ]
  },
  {
   "cell_type": "markdown",
   "metadata": {},
   "source": [
    "## TFIDF YTEST"
   ]
  },
  {
   "cell_type": "code",
   "execution_count": 39,
   "metadata": {},
   "outputs": [
    {
     "name": "stdout",
     "output_type": "stream",
     "text": [
      "[[0. 0. 0. ... 0. 0. 0.]\n",
      " [0. 0. 0. ... 0. 0. 0.]\n",
      " [0. 0. 0. ... 0. 0. 0.]\n",
      " ...\n",
      " [0. 0. 0. ... 0. 0. 0.]\n",
      " [0. 0. 0. ... 0. 0. 0.]\n",
      " [0. 0. 0. ... 0. 0. 0.]]\n"
     ]
    },
    {
     "data": {
      "text/html": [
       "<div>\n",
       "<style scoped>\n",
       "    .dataframe tbody tr th:only-of-type {\n",
       "        vertical-align: middle;\n",
       "    }\n",
       "\n",
       "    .dataframe tbody tr th {\n",
       "        vertical-align: top;\n",
       "    }\n",
       "\n",
       "    .dataframe thead th {\n",
       "        text-align: right;\n",
       "    }\n",
       "</style>\n",
       "<table border=\"1\" class=\"dataframe\">\n",
       "  <thead>\n",
       "    <tr style=\"text-align: right;\">\n",
       "      <th></th>\n",
       "      <th>aamiin</th>\n",
       "      <th>absen</th>\n",
       "      <th>acara</th>\n",
       "      <th>acara musyawarah</th>\n",
       "      <th>acara musyawarah ikat</th>\n",
       "      <th>acara puncak</th>\n",
       "      <th>acara puncak hut</th>\n",
       "      <th>ada</th>\n",
       "      <th>adat</th>\n",
       "      <th>adem</th>\n",
       "      <th>...</th>\n",
       "      <th>ya allah</th>\n",
       "      <th>yaa</th>\n",
       "      <th>yah</th>\n",
       "      <th>yang</th>\n",
       "      <th>yang suka</th>\n",
       "      <th>yewang</th>\n",
       "      <th>yewang jeff</th>\n",
       "      <th>youtube</th>\n",
       "      <th>yuk</th>\n",
       "      <th>zaman</th>\n",
       "    </tr>\n",
       "  </thead>\n",
       "  <tbody>\n",
       "    <tr>\n",
       "      <th>0</th>\n",
       "      <td>0.0</td>\n",
       "      <td>0.0</td>\n",
       "      <td>0.0</td>\n",
       "      <td>0.0</td>\n",
       "      <td>0.0</td>\n",
       "      <td>0.0</td>\n",
       "      <td>0.0</td>\n",
       "      <td>0.0</td>\n",
       "      <td>0.0</td>\n",
       "      <td>0.0</td>\n",
       "      <td>...</td>\n",
       "      <td>0.0</td>\n",
       "      <td>0.0</td>\n",
       "      <td>0.0</td>\n",
       "      <td>0.0</td>\n",
       "      <td>0.0</td>\n",
       "      <td>0.0</td>\n",
       "      <td>0.0</td>\n",
       "      <td>0.0</td>\n",
       "      <td>0.0</td>\n",
       "      <td>0.0</td>\n",
       "    </tr>\n",
       "    <tr>\n",
       "      <th>1</th>\n",
       "      <td>0.0</td>\n",
       "      <td>0.0</td>\n",
       "      <td>0.0</td>\n",
       "      <td>0.0</td>\n",
       "      <td>0.0</td>\n",
       "      <td>0.0</td>\n",
       "      <td>0.0</td>\n",
       "      <td>0.0</td>\n",
       "      <td>0.0</td>\n",
       "      <td>0.0</td>\n",
       "      <td>...</td>\n",
       "      <td>0.0</td>\n",
       "      <td>0.0</td>\n",
       "      <td>0.0</td>\n",
       "      <td>0.0</td>\n",
       "      <td>0.0</td>\n",
       "      <td>0.0</td>\n",
       "      <td>0.0</td>\n",
       "      <td>0.0</td>\n",
       "      <td>0.0</td>\n",
       "      <td>0.0</td>\n",
       "    </tr>\n",
       "    <tr>\n",
       "      <th>2</th>\n",
       "      <td>0.0</td>\n",
       "      <td>0.0</td>\n",
       "      <td>0.0</td>\n",
       "      <td>0.0</td>\n",
       "      <td>0.0</td>\n",
       "      <td>0.0</td>\n",
       "      <td>0.0</td>\n",
       "      <td>0.0</td>\n",
       "      <td>0.0</td>\n",
       "      <td>0.0</td>\n",
       "      <td>...</td>\n",
       "      <td>0.0</td>\n",
       "      <td>0.0</td>\n",
       "      <td>0.0</td>\n",
       "      <td>0.0</td>\n",
       "      <td>0.0</td>\n",
       "      <td>0.0</td>\n",
       "      <td>0.0</td>\n",
       "      <td>0.0</td>\n",
       "      <td>0.0</td>\n",
       "      <td>0.0</td>\n",
       "    </tr>\n",
       "    <tr>\n",
       "      <th>3</th>\n",
       "      <td>0.0</td>\n",
       "      <td>0.0</td>\n",
       "      <td>0.0</td>\n",
       "      <td>0.0</td>\n",
       "      <td>0.0</td>\n",
       "      <td>0.0</td>\n",
       "      <td>0.0</td>\n",
       "      <td>0.0</td>\n",
       "      <td>0.0</td>\n",
       "      <td>0.0</td>\n",
       "      <td>...</td>\n",
       "      <td>0.0</td>\n",
       "      <td>0.0</td>\n",
       "      <td>0.0</td>\n",
       "      <td>0.0</td>\n",
       "      <td>0.0</td>\n",
       "      <td>0.0</td>\n",
       "      <td>0.0</td>\n",
       "      <td>0.0</td>\n",
       "      <td>0.0</td>\n",
       "      <td>0.0</td>\n",
       "    </tr>\n",
       "    <tr>\n",
       "      <th>4</th>\n",
       "      <td>0.0</td>\n",
       "      <td>0.0</td>\n",
       "      <td>0.0</td>\n",
       "      <td>0.0</td>\n",
       "      <td>0.0</td>\n",
       "      <td>0.0</td>\n",
       "      <td>0.0</td>\n",
       "      <td>0.0</td>\n",
       "      <td>0.0</td>\n",
       "      <td>0.0</td>\n",
       "      <td>...</td>\n",
       "      <td>0.0</td>\n",
       "      <td>0.0</td>\n",
       "      <td>0.0</td>\n",
       "      <td>0.0</td>\n",
       "      <td>0.0</td>\n",
       "      <td>0.0</td>\n",
       "      <td>0.0</td>\n",
       "      <td>0.0</td>\n",
       "      <td>0.0</td>\n",
       "      <td>0.0</td>\n",
       "    </tr>\n",
       "    <tr>\n",
       "      <th>5</th>\n",
       "      <td>0.0</td>\n",
       "      <td>0.0</td>\n",
       "      <td>0.0</td>\n",
       "      <td>0.0</td>\n",
       "      <td>0.0</td>\n",
       "      <td>0.0</td>\n",
       "      <td>0.0</td>\n",
       "      <td>0.0</td>\n",
       "      <td>0.0</td>\n",
       "      <td>0.0</td>\n",
       "      <td>...</td>\n",
       "      <td>0.0</td>\n",
       "      <td>0.0</td>\n",
       "      <td>0.0</td>\n",
       "      <td>0.0</td>\n",
       "      <td>0.0</td>\n",
       "      <td>0.0</td>\n",
       "      <td>0.0</td>\n",
       "      <td>0.0</td>\n",
       "      <td>0.0</td>\n",
       "      <td>0.0</td>\n",
       "    </tr>\n",
       "    <tr>\n",
       "      <th>6</th>\n",
       "      <td>0.0</td>\n",
       "      <td>0.0</td>\n",
       "      <td>0.0</td>\n",
       "      <td>0.0</td>\n",
       "      <td>0.0</td>\n",
       "      <td>0.0</td>\n",
       "      <td>0.0</td>\n",
       "      <td>0.0</td>\n",
       "      <td>0.0</td>\n",
       "      <td>0.0</td>\n",
       "      <td>...</td>\n",
       "      <td>0.0</td>\n",
       "      <td>0.0</td>\n",
       "      <td>0.0</td>\n",
       "      <td>0.0</td>\n",
       "      <td>0.0</td>\n",
       "      <td>0.0</td>\n",
       "      <td>0.0</td>\n",
       "      <td>0.0</td>\n",
       "      <td>0.0</td>\n",
       "      <td>0.0</td>\n",
       "    </tr>\n",
       "    <tr>\n",
       "      <th>7</th>\n",
       "      <td>0.0</td>\n",
       "      <td>0.0</td>\n",
       "      <td>0.0</td>\n",
       "      <td>0.0</td>\n",
       "      <td>0.0</td>\n",
       "      <td>0.0</td>\n",
       "      <td>0.0</td>\n",
       "      <td>0.0</td>\n",
       "      <td>0.0</td>\n",
       "      <td>0.0</td>\n",
       "      <td>...</td>\n",
       "      <td>0.0</td>\n",
       "      <td>0.0</td>\n",
       "      <td>0.0</td>\n",
       "      <td>0.0</td>\n",
       "      <td>0.0</td>\n",
       "      <td>0.0</td>\n",
       "      <td>0.0</td>\n",
       "      <td>0.0</td>\n",
       "      <td>0.0</td>\n",
       "      <td>0.0</td>\n",
       "    </tr>\n",
       "    <tr>\n",
       "      <th>8</th>\n",
       "      <td>0.0</td>\n",
       "      <td>0.0</td>\n",
       "      <td>0.0</td>\n",
       "      <td>0.0</td>\n",
       "      <td>0.0</td>\n",
       "      <td>0.0</td>\n",
       "      <td>0.0</td>\n",
       "      <td>0.0</td>\n",
       "      <td>0.0</td>\n",
       "      <td>0.0</td>\n",
       "      <td>...</td>\n",
       "      <td>0.0</td>\n",
       "      <td>0.0</td>\n",
       "      <td>0.0</td>\n",
       "      <td>0.0</td>\n",
       "      <td>0.0</td>\n",
       "      <td>0.0</td>\n",
       "      <td>0.0</td>\n",
       "      <td>0.0</td>\n",
       "      <td>0.0</td>\n",
       "      <td>0.0</td>\n",
       "    </tr>\n",
       "    <tr>\n",
       "      <th>9</th>\n",
       "      <td>0.0</td>\n",
       "      <td>0.0</td>\n",
       "      <td>0.0</td>\n",
       "      <td>0.0</td>\n",
       "      <td>0.0</td>\n",
       "      <td>0.0</td>\n",
       "      <td>0.0</td>\n",
       "      <td>0.0</td>\n",
       "      <td>0.0</td>\n",
       "      <td>0.0</td>\n",
       "      <td>...</td>\n",
       "      <td>0.0</td>\n",
       "      <td>0.0</td>\n",
       "      <td>0.0</td>\n",
       "      <td>0.0</td>\n",
       "      <td>0.0</td>\n",
       "      <td>0.0</td>\n",
       "      <td>0.0</td>\n",
       "      <td>0.0</td>\n",
       "      <td>0.0</td>\n",
       "      <td>0.0</td>\n",
       "    </tr>\n",
       "  </tbody>\n",
       "</table>\n",
       "<p>10 rows × 2003 columns</p>\n",
       "</div>"
      ],
      "text/plain": [
       "   aamiin  absen  acara  acara musyawarah  acara musyawarah ikat  \\\n",
       "0     0.0    0.0    0.0               0.0                    0.0   \n",
       "1     0.0    0.0    0.0               0.0                    0.0   \n",
       "2     0.0    0.0    0.0               0.0                    0.0   \n",
       "3     0.0    0.0    0.0               0.0                    0.0   \n",
       "4     0.0    0.0    0.0               0.0                    0.0   \n",
       "5     0.0    0.0    0.0               0.0                    0.0   \n",
       "6     0.0    0.0    0.0               0.0                    0.0   \n",
       "7     0.0    0.0    0.0               0.0                    0.0   \n",
       "8     0.0    0.0    0.0               0.0                    0.0   \n",
       "9     0.0    0.0    0.0               0.0                    0.0   \n",
       "\n",
       "   acara puncak  acara puncak hut  ada  adat  adem  ...  ya allah  yaa  yah  \\\n",
       "0           0.0               0.0  0.0   0.0   0.0  ...       0.0  0.0  0.0   \n",
       "1           0.0               0.0  0.0   0.0   0.0  ...       0.0  0.0  0.0   \n",
       "2           0.0               0.0  0.0   0.0   0.0  ...       0.0  0.0  0.0   \n",
       "3           0.0               0.0  0.0   0.0   0.0  ...       0.0  0.0  0.0   \n",
       "4           0.0               0.0  0.0   0.0   0.0  ...       0.0  0.0  0.0   \n",
       "5           0.0               0.0  0.0   0.0   0.0  ...       0.0  0.0  0.0   \n",
       "6           0.0               0.0  0.0   0.0   0.0  ...       0.0  0.0  0.0   \n",
       "7           0.0               0.0  0.0   0.0   0.0  ...       0.0  0.0  0.0   \n",
       "8           0.0               0.0  0.0   0.0   0.0  ...       0.0  0.0  0.0   \n",
       "9           0.0               0.0  0.0   0.0   0.0  ...       0.0  0.0  0.0   \n",
       "\n",
       "   yang  yang suka  yewang  yewang jeff  youtube  yuk  zaman  \n",
       "0   0.0        0.0     0.0          0.0      0.0  0.0    0.0  \n",
       "1   0.0        0.0     0.0          0.0      0.0  0.0    0.0  \n",
       "2   0.0        0.0     0.0          0.0      0.0  0.0    0.0  \n",
       "3   0.0        0.0     0.0          0.0      0.0  0.0    0.0  \n",
       "4   0.0        0.0     0.0          0.0      0.0  0.0    0.0  \n",
       "5   0.0        0.0     0.0          0.0      0.0  0.0    0.0  \n",
       "6   0.0        0.0     0.0          0.0      0.0  0.0    0.0  \n",
       "7   0.0        0.0     0.0          0.0      0.0  0.0    0.0  \n",
       "8   0.0        0.0     0.0          0.0      0.0  0.0    0.0  \n",
       "9   0.0        0.0     0.0          0.0      0.0  0.0    0.0  \n",
       "\n",
       "[10 rows x 2003 columns]"
      ]
     },
     "execution_count": 39,
     "metadata": {},
     "output_type": "execute_result"
    }
   ],
   "source": [
    "X_test = tfidf.transform(X_test).toarray()\n",
    "print(X_test)\n",
    "columnstest=tfidf.get_feature_names_out()\n",
    "# print(columnstest)\n",
    "x_test_df = pd.DataFrame(X_test, columns=tfidf.get_feature_names_out())\n",
    "x_test_df.head(10)"
   ]
  },
  {
   "cell_type": "code",
   "execution_count": 40,
   "metadata": {},
   "outputs": [],
   "source": [
    "x_test_df.to_csv( \"hasil/xtest_tfidf_trigram_\"+str(jsampling)+\"_\"+str(dtuji)+\"_\"+str(d)+\".csv\", index=False, encoding='utf-8-sig')"
   ]
  },
  {
   "cell_type": "code",
   "execution_count": 41,
   "metadata": {},
   "outputs": [],
   "source": [
    "from sklearn.preprocessing import MinMaxScaler\n",
    "\n",
    "minmax = MinMaxScaler(feature_range=(0, 1))\n",
    "X_train = minmax.fit_transform(X_train)\n",
    "X_test = minmax.transform(X_test)"
   ]
  },
  {
   "cell_type": "code",
   "execution_count": 42,
   "metadata": {},
   "outputs": [
    {
     "name": "stdout",
     "output_type": "stream",
     "text": [
      "[[0. 0. 0. ... 0. 0. 0.]\n",
      " [0. 0. 0. ... 0. 0. 0.]\n",
      " [0. 0. 0. ... 0. 0. 0.]\n",
      " ...\n",
      " [0. 0. 0. ... 0. 0. 0.]\n",
      " [0. 0. 0. ... 0. 0. 0.]\n",
      " [0. 0. 0. ... 0. 0. 0.]]\n"
     ]
    },
    {
     "data": {
      "text/plain": [
       "(1575, 2003)"
      ]
     },
     "execution_count": 42,
     "metadata": {},
     "output_type": "execute_result"
    }
   ],
   "source": [
    "print(X_train)\n",
    "X_train.shape"
   ]
  },
  {
   "cell_type": "markdown",
   "metadata": {},
   "source": [
    "## Training and Testing"
   ]
  },
  {
   "cell_type": "code",
   "execution_count": 43,
   "metadata": {},
   "outputs": [],
   "source": [
    "from sklearn.neighbors import KNeighborsClassifier\n",
    "from sklearn.naive_bayes import MultinomialNB\n",
    "from sklearn.svm import SVC\n",
    "from sklearn.tree import DecisionTreeClassifier\n",
    "from sklearn.linear_model import LogisticRegression\n",
    "from sklearn.ensemble import RandomForestClassifier\n",
    "import numpy as np\n",
    "from sklearn.metrics import classification_report, confusion_matrix, accuracy_score\n"
   ]
  },
  {
   "cell_type": "markdown",
   "metadata": {},
   "source": [
    "## Models"
   ]
  },
  {
   "cell_type": "code",
   "execution_count": 44,
   "metadata": {},
   "outputs": [],
   "source": [
    "C=1.0\n",
    "# Create and train a random forest classifier\n",
    "# forest = RandomForestClassifier()\n",
    "# best recommeded 'gamma': 100.0, 'C': 0.01\n",
    "models = [\n",
    "          # ('k-NN', KNeighborsClassifier()),\n",
    "          ('SVC linear kernel', SVC(kernel='linear',C=C,max_iter=10000)),\n",
    "          ('SVC RBF kernel', SVC(kernel='rbf',gamma=1,C=C)), \n",
    "          ('SVC Polynomial (degree 3)', SVC(kernel='poly',degree=3,C=C)),\n",
    "          # ('Naive Bayes', MultinomialNB()),\n",
    "          # ('Decision Tree', DecisionTreeClassifier()),\n",
    "          # ('Random Forest',RandomForestClassifier(n_estimators=50)),\n",
    "          # ('Regresi Linier',LogisticRegression()),\n",
    "        ]\n"
   ]
  },
  {
   "cell_type": "code",
   "execution_count": 45,
   "metadata": {},
   "outputs": [
    {
     "name": "stdout",
     "output_type": "stream",
     "text": [
      "[INFO] Training Menggunakan SVC linear kernel, akurasi pada training set: 0.9923809523809524 \n",
      "\n",
      "[INFO] Training Menggunakan SVC RBF kernel, akurasi pada training set: 0.9942857142857143 \n",
      "\n",
      "[INFO] Training Menggunakan SVC Polynomial (degree 3), akurasi pada training set: 0.9244444444444444 \n",
      "\n"
     ]
    }
   ],
   "source": [
    "for name, clf in models:\n",
    "  clf.fit(X_train, y_train) #x_train merupakan fitur, y train merupakan label\n",
    "  train_acc = accuracy_score(y_train, clf.predict(X_train))\n",
    "  printed_dataset=('Dataset: {} \\t'.format('mlbb'))\n",
    "  printed=('[INFO] Training Menggunakan {}, akurasi pada training set: {} \\n'.format(name, train_acc))\n",
    "  with open('hasil/training_result_pilpres_sample_'+str(jsampling)+'_'+str(dtlatih)+'_'+str(d)+'.txt', 'a', encoding='utf-8') as f:\n",
    "    f.writelines(''.join(printed_dataset))\n",
    "    f.writelines(''.join(printed))\n",
    "  \n",
    "  print(printed)"
   ]
  },
  {
   "cell_type": "markdown",
   "metadata": {},
   "source": [
    "## Pipeline And Gridsearch CV"
   ]
  },
  {
   "cell_type": "code",
   "execution_count": 46,
   "metadata": {},
   "outputs": [],
   "source": [
    "from sklearn.decomposition import TruncatedSVD\n",
    "from sklearn.pipeline import Pipeline\n",
    "from sklearn.pipeline import make_pipeline\n",
    "from pprint import pprint\n",
    "from time import time\n",
    "from sklearn.model_selection import GridSearchCV, RepeatedStratifiedKFold\n"
   ]
  },
  {
   "cell_type": "code",
   "execution_count": 47,
   "metadata": {},
   "outputs": [],
   "source": [
    "pipe = Pipeline([\n",
    "    ('bag_of_words', TfidfVectorizer(ngram_range=ngram_range, min_df=min_df)),\n",
    "    ('estimator', SVC(random_state=42))])\n",
    "\n",
    "#create GridSearchCV object with set of possible parameters\n",
    "Cs = [0.001, 0.01, 0.1, 1, 10, 100]\n",
    "gammas = [0.001, 0.01, 0.1, 1, 10,100]\n",
    "kernel = ['linear','rbf','poly','sigmoid']\n",
    "# kernel = ['rbf']\n",
    "param_grid={\n",
    "    'estimator__C': Cs,\n",
    "    'estimator__gamma': gammas,\n",
    "    'estimator__kernel': kernel\n",
    "}"
   ]
  },
  {
   "cell_type": "code",
   "execution_count": 48,
   "metadata": {},
   "outputs": [],
   "source": [
    "# %%time\n",
    "# # scoring = {'AUCe': 'roc_auc', 'Accuracy': 'accuracy', 'prec':  'precision', 'rec': 'recall', 'f1s': 'f1','spec':make_scorer(recall_score,pos_label=0)}\n",
    "# # scoring=['accuracy','recall_macro','precision_macro','f1_macro']\n",
    "# grid = GridSearchCV(pipe, param_grid=param_grid,refit = True, verbose = 3,scoring='accuracy',n_jobs=-1)\n",
    "\n",
    "# grid.fit(X_train, y_train)\n",
    "# y_pred = grid.predict(X_test)"
   ]
  },
  {
   "cell_type": "markdown",
   "metadata": {},
   "source": [
    "## Testing "
   ]
  },
  {
   "cell_type": "code",
   "execution_count": 49,
   "metadata": {},
   "outputs": [
    {
     "name": "stdout",
     "output_type": "stream",
     "text": [
      "[INFO] Testing Menggunakan SVC linear kernel, akurasi pada testing set: 0.9352380952380952 \n",
      "\n",
      "[INFO] Testing Menggunakan SVC RBF kernel, akurasi pada testing set: 0.9180952380952381 \n",
      "\n",
      "[INFO] Testing Menggunakan SVC Polynomial (degree 3), akurasi pada testing set: 0.8971428571428571 \n",
      "\n"
     ]
    }
   ],
   "source": [
    "for name, clf in models:\n",
    "  # clf_predict = \n",
    "  clf.predict(X_test) #x_test merupakan fitur, y_test merupakan label\n",
    "  test_acc = accuracy_score(y_test, clf.predict(X_test)) #clf.predict adalah prediksi label dari fitur x_test\n",
    "  printed_dataset=('Dataset: {} \\t'.format('mlbb'))\n",
    "  printed=('[INFO] Testing Menggunakan {}, akurasi pada testing set: {} \\n'.format(name, test_acc))\n",
    "  # printed=('[INFO] testing Menggunakan {}, akurasi pada testing set: {} \\n'.format(name, train_acc))\n",
    "  with open('hasil/testing_result_pilpres_sample_'+str(jsampling)+'_'+str(dtuji)+'_'+str(d)+'.txt', 'a', encoding='utf-8') as f:\n",
    "    f.writelines(''.join(printed_dataset))\n",
    "    f.writelines(''.join(printed))\n",
    "  \n",
    "  print(printed)"
   ]
  },
  {
   "cell_type": "markdown",
   "metadata": {},
   "source": [
    "## Cross Validation"
   ]
  },
  {
   "cell_type": "code",
   "execution_count": 50,
   "metadata": {},
   "outputs": [
    {
     "name": "stdout",
     "output_type": "stream",
     "text": [
      "[INFO] 5x Cross Validation Menggunakan SVC linear kernel, Cross-validation akurasi: 0.902222 (+/- 0.046726) \n",
      "\n",
      "[INFO] 5x Cross Validation Menggunakan SVC RBF kernel, Cross-validation akurasi: 0.902222 (+/- 0.046726) \n",
      "\n",
      "[INFO] 5x Cross Validation Menggunakan SVC Polynomial (degree 3), Cross-validation akurasi: 0.902222 (+/- 0.046726) \n",
      "\n",
      "[INFO] 7x Cross Validation Menggunakan SVC linear kernel, Cross-validation akurasi: 0.901587 (+/- 0.035691) \n",
      "\n",
      "[INFO] 7x Cross Validation Menggunakan SVC RBF kernel, Cross-validation akurasi: 0.901587 (+/- 0.035691) \n",
      "\n",
      "[INFO] 7x Cross Validation Menggunakan SVC Polynomial (degree 3), Cross-validation akurasi: 0.901587 (+/- 0.035691) \n",
      "\n",
      "[INFO] 12x Cross Validation Menggunakan SVC linear kernel, Cross-validation akurasi: 0.904089 (+/- 0.039423) \n",
      "\n",
      "[INFO] 12x Cross Validation Menggunakan SVC RBF kernel, Cross-validation akurasi: 0.904089 (+/- 0.039423) \n",
      "\n",
      "[INFO] 12x Cross Validation Menggunakan SVC Polynomial (degree 3), Cross-validation akurasi: 0.904089 (+/- 0.039423) \n",
      "\n"
     ]
    }
   ],
   "source": [
    "# cross-validation\n",
    "from sklearn.model_selection import KFold\n",
    "from sklearn.model_selection import cross_val_score\n",
    "# k=[3,5,7,10,12,15]\n",
    "k=[5,7,12]\n",
    "for x in (k):\n",
    "  for name, model in models:\n",
    "    clf.fit(X_train, y_train)\n",
    "    cv = KFold(n_splits=x, random_state=50, shuffle=True)\n",
    "    cross_val_acc = cross_val_score(clf, X_train, y_train, cv=cv, scoring='accuracy')\n",
    "    printed_dataset=('Dataset: {} \\t'.format('mlbb'))\n",
    "    printed=('[INFO] {}x Cross Validation Menggunakan {}, Cross-validation akurasi: {:5f} (+/- {:5f}) \\n'.format(x,name, cross_val_acc.mean(), cross_val_acc.std() * 2))\n",
    "    with open('hasil/training_result_pilpres2024_crossval_'+str(jsampling)+'_'+str(dtuji)+'_'+str(d)+'.txt', 'a', encoding='utf-8') as f:\n",
    "      f.writelines(''.join(printed_dataset))\n",
    "      f.writelines(''.join(printed))\n",
    "    \n",
    "    print(printed)\n",
    "    # f.writelines(''.join(\"\\n\"))"
   ]
  },
  {
   "cell_type": "markdown",
   "metadata": {},
   "source": [
    "## Confusion Matrix"
   ]
  },
  {
   "cell_type": "code",
   "execution_count": 51,
   "metadata": {},
   "outputs": [],
   "source": [
    "import matplotlib as mpl\n",
    "import matplotlib.pyplot as plt\n",
    "from sklearn.metrics import classification_report, confusion_matrix, accuracy_score, ConfusionMatrixDisplay, recall_score, precision_score,roc_curve, roc_auc_score\n",
    "from sklearn.model_selection import StratifiedKFold, GridSearchCV, RandomizedSearchCV\n",
    "from matplotlib.colors import ListedColormap\n",
    "import seaborn as sns\n",
    "import warnings; warnings.filterwarnings('ignore')\n",
    "# from sklearn.metrics import plot_confusion_matrix\n"
   ]
  },
  {
   "cell_type": "code",
   "execution_count": 52,
   "metadata": {},
   "outputs": [],
   "source": [
    "\n",
    "# for name, model in models:\n",
    "#   predictions=model.predict(X_test)\n",
    "#   cm = confusion_matrix(y_test, predictions, labels=model.classes_)\n",
    "#   # plot_confusion_matrix(model,X_train, y_train) \n",
    "#   disp = ConfusionMatrixDisplay(confusion_matrix=cm,display_labels=model.classes_)\n",
    "#   disp.plot()\n",
    "#   # plt.title('Confusion Matrix: {}'.format(name))\n",
    "#   plt.show()"
   ]
  },
  {
   "cell_type": "markdown",
   "metadata": {},
   "source": [
    "## Parameter Optimization RandomizedSearchCV / GridSearchCV"
   ]
  },
  {
   "cell_type": "code",
   "execution_count": 53,
   "metadata": {},
   "outputs": [
    {
     "name": "stdout",
     "output_type": "stream",
     "text": [
      "Fitting 5 folds for each of 25 candidates, totalling 125 fits\n"
     ]
    },
    {
     "name": "stdout",
     "output_type": "stream",
     "text": [
      "The best parameters are {'C': 0.01, 'gamma': 10.0}\n",
      "Accuracy score: 92.19%\n",
      "Precision score: 92.43%\n",
      "Recall score: 92.19%\n"
     ]
    }
   ],
   "source": [
    "cv = StratifiedKFold(n_splits= 3, shuffle = True, random_state= 123)\n",
    "# Randomized grid search\n",
    "n_iter_search = 10\n",
    "param_grid = {'gamma': np.logspace(-2, 2, 5),\n",
    "              'C': np.logspace(-2, 2, 5)}\n",
    "# gs = RandomizedSearchCV(clf, param_distributions = param_grid, n_iter = n_iter_search, cv = cv, scoring= 'accuracy')\n",
    "gs = GridSearchCV(clf, param_grid=param_grid,refit = True, verbose = 3,scoring='accuracy',n_jobs=-1)\n",
    "# -----------------------------------------------------\n",
    "# Train model\n",
    "gs.fit(X_train, y_train)  \n",
    "print(\"The best parameters are %s\" % (gs.best_params_)) \n",
    "# Predict on test set\n",
    "y_pred = gs.best_estimator_.predict(X_test)\n",
    "\n",
    "#Setup GridSearchCV\n",
    "# grid = GridSearchCV(pipe, param_grid=param_grid,refit = True, verbose = 3,scoring='accuracy',n_jobs=-1)\n",
    "# grid.fit(X_train, y_train)\n",
    "# y_pred = grid.predict(X_test)\n",
    "\n",
    "# Get Probability estimates\n",
    "# y_prob = gs.best_estimator_.predict_proba(X_test)[:, 1]\n",
    "# -----------------------------------------------------\n",
    "print('Accuracy score: %.2f%%' %(accuracy_score(y_test, y_pred)*100))  \n",
    "print('Precision score: %.2f%%' % (precision_score(y_test, y_pred, average= 'weighted')*100))\n",
    "print('Recall score: %.2f%%' % (recall_score(y_test, y_pred, average= 'weighted')*100))"
   ]
  },
  {
   "cell_type": "markdown",
   "metadata": {},
   "source": [
    "## Laporan Klasifikasi\n"
   ]
  },
  {
   "cell_type": "code",
   "execution_count": 54,
   "metadata": {},
   "outputs": [],
   "source": [
    "import seaborn as sns"
   ]
  },
  {
   "cell_type": "code",
   "execution_count": 55,
   "metadata": {},
   "outputs": [
    {
     "name": "stdout",
     "output_type": "stream",
     "text": [
      "[INFO] Laporan klasifikasi\n",
      "\n"
     ]
    },
    {
     "name": "stdout",
     "output_type": "stream",
     "text": [
      "Menggunakan Metode :SVC linear kernel \n",
      "\n",
      "              precision    recall  f1-score   support\n",
      "\n",
      "    Negative       0.88      0.52      0.65        29\n",
      "     Neutral       0.95      0.98      0.96       459\n",
      "    Positive       0.80      0.65      0.72        37\n",
      "\n",
      "    accuracy                           0.94       525\n",
      "   macro avg       0.88      0.72      0.78       525\n",
      "weighted avg       0.93      0.94      0.93       525\n",
      "\n",
      "Accuracy score: 93.52%\n",
      "Precision score: 93.19%\n",
      "Recall score: 93.52% \n",
      "\n",
      "Menggunakan Metode :SVC RBF kernel \n",
      "\n",
      "              precision    recall  f1-score   support\n",
      "\n",
      "    Negative       1.00      0.24      0.39        29\n",
      "     Neutral       0.91      1.00      0.96       459\n",
      "    Positive       1.00      0.43      0.60        37\n",
      "\n",
      "    accuracy                           0.92       525\n",
      "   macro avg       0.97      0.56      0.65       525\n",
      "weighted avg       0.93      0.92      0.90       525\n",
      "\n",
      "Accuracy score: 91.81%\n",
      "Precision score: 92.51%\n",
      "Recall score: 91.81% \n",
      "\n",
      "Menggunakan Metode :SVC Polynomial (degree 3) \n",
      "\n",
      "              precision    recall  f1-score   support\n",
      "\n",
      "    Negative       1.00      0.07      0.13        29\n",
      "     Neutral       0.89      1.00      0.94       459\n",
      "    Positive       1.00      0.27      0.43        37\n",
      "\n",
      "    accuracy                           0.90       525\n",
      "   macro avg       0.96      0.45      0.50       525\n",
      "weighted avg       0.91      0.90      0.86       525\n",
      "\n",
      "Accuracy score: 89.71%\n",
      "Precision score: 90.80%\n",
      "Recall score: 89.71% \n",
      "\n"
     ]
    },
    {
     "data": {
      "image/png": "[encoded data removed]",
      "text/plain": [
       "<Figure size 1000x500 with 2 Axes>"
      ]
     },
     "metadata": {},
     "output_type": "display_data"
    },
    {
     "data": {
      "image/png": "[encoded data removed]",
      "text/plain": [
       "<Figure size 1000x500 with 2 Axes>"
      ]
     },
     "metadata": {},
     "output_type": "display_data"
    },
    {
     "data": {
      "image/png": "[encoded data removed]",
      "text/plain": [
       "<Figure size 1000x500 with 2 Axes>"
      ]
     },
     "metadata": {},
     "output_type": "display_data"
    }
   ],
   "source": [
    "print(\"[INFO] Laporan klasifikasi\\n\")\n",
    "target_names=['Negative', 'Neutral','Positive']\n",
    "for name, clf in models:\n",
    "  clf_predict = clf.predict(X_test) #y_pred\n",
    "  printed_titles=('Menggunakan Metode :{} \\n'.format(name))\n",
    "  printed=(classification_report(y_test, clf_predict, target_names=['Negative', 'Neutral','Positive']))\n",
    "  \n",
    "  with open('hasil/classification_report_pilpres2024_'+str(jsampling)+'_'+str(dtuji)+'_'+str(d)+'.txt', 'a', encoding='utf-8') as f:\n",
    "      # f.writelines(''.join(name))\n",
    "      f.writelines(''.join(printed_titles))\n",
    "      f.writelines(''.join(printed))\n",
    "      f.writelines(' \\n')\n",
    "  print(printed_titles+'\\n'+printed)\n",
    "  print('Accuracy score: %.2f%%' %(accuracy_score(y_test, clf_predict)*100))  \n",
    "  print('Precision score: %.2f%%' % (precision_score(y_test, clf_predict, average= 'weighted')*100))\n",
    "  print('Recall score: %.2f%% \\n' % (recall_score(y_test, clf_predict, average= 'weighted')*100))\n",
    "  # Confusion Matrix Plot\n",
    "  fig, [ax1, ax2] = plt.subplots(1, 2, figsize=(10, 5))\n",
    "  cm = confusion_matrix(y_test, clf_predict, labels=['Negative', 'Neutral','Positive'])\n",
    "  sns.heatmap(cm, annot = True, cbar = False, fmt = \"d\", linewidths = .5, cmap = \"Blues\", ax = ax1)\n",
    "  ax1.set_title(\"Confusion Matrix : {}\".format(name))\n",
    "  ax1.set_xlabel(\"Predicted class\")\n",
    "  ax1.set_ylabel(\"Actual class\")\n",
    "  ax1.set_xticklabels(target_names)\n",
    "  ax1.set_yticklabels(target_names)\n",
    "  fig.tight_layout()\n"
   ]
  },
  {
   "cell_type": "code",
   "execution_count": 56,
   "metadata": {},
   "outputs": [
    {
     "data": {
      "image/png": "[encoded data removed]",
      "text/plain": [
       "<Figure size 1000x500 with 2 Axes>"
      ]
     },
     "metadata": {},
     "output_type": "display_data"
    }
   ],
   "source": [
    "target_label=['Positive','Neutral','Negative']\n",
    "# Plot confusion matrix\n",
    "fig, [ax1, ax2] = plt.subplots(1, 2, figsize=(10, 5))\n",
    "cm = confusion_matrix(y_test, y_pred)#, labels= target_label)\n",
    "sns.heatmap(cm, annot = True, cbar = False, fmt = \"d\", linewidths = .5, cmap = \"Blues\", ax = ax1)\n",
    "ax1.set_title(\"Confusion Matrix\")\n",
    "ax1.set_xlabel(\"Predicted class\")\n",
    "ax1.set_ylabel(\"Actual class\")\n",
    "ax1.set_xticklabels(target_label)\n",
    "ax1.set_yticklabels(target_label)\n",
    "fig.tight_layout()"
   ]
  },
  {
   "cell_type": "markdown",
   "metadata": {},
   "source": [
    "## AUROC dan AUC"
   ]
  }
 ],
 "metadata": {
  "kernelspec": {
   "display_name": "Python 3",
   "language": "python",
   "name": "python3"
  },
  "language_info": {
   "codemirror_mode": {
    "name": "ipython",
    "version": 3
   },
   "file_extension": ".py",
   "mimetype": "text/x-python",
   "name": "python",
   "nbconvert_exporter": "python",
   "pygments_lexer": "ipython3",
   "version": "3.10.6"
  }
 },
 "nbformat": 4,
 "nbformat_minor": 2
}
