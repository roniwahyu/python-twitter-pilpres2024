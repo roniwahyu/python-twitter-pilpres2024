{
 "cells": [
  {
   "cell_type": "code",
   "execution_count": 57,
   "metadata": {},
   "outputs": [],
   "source": [
    "import sklearn\n"
   ]
  },
  {
   "cell_type": "code",
   "execution_count": 58,
   "metadata": {},
   "outputs": [],
   "source": [
    "from sklearn.model_selection import train_test_split\n",
    "from sklearn.feature_extraction.text import TfidfVectorizer,CountVectorizer,TfidfTransformer\n",
    "import pandas as pd\n"
   ]
  },
  {
   "cell_type": "code",
   "execution_count": 59,
   "metadata": {},
   "outputs": [
    {
     "data": {
      "text/plain": [
       "(7306, 20)"
      ]
     },
     "execution_count": 59,
     "metadata": {},
     "output_type": "execute_result"
    }
   ],
   "source": [
    "samples= pd.read_csv('dataset/2.DatasetLabeling_NomorUrut_clean_content_textblobvader.csv', encoding='UTF-8')\n",
    "# samples=samples[['likes','replies','quotes','retweets','searchQuery','clean_content']]\n",
    "samples.shape"
   ]
  },
  {
   "cell_type": "code",
   "execution_count": 4,
   "metadata": {},
   "outputs": [
    {
     "name": "stdout",
     "output_type": "stream",
     "text": [
      "Jumlah Konten unik: 3307\n"
     ]
    }
   ],
   "source": [
    "print(\"Jumlah Konten unik:\",int(len(samples['clean_content'].unique())))\n",
    "# samples['clean_content'].unique()"
   ]
  },
  {
   "cell_type": "code",
   "execution_count": 5,
   "metadata": {},
   "outputs": [
    {
     "name": "stdout",
     "output_type": "stream",
     "text": [
      "<class 'pandas.core.frame.DataFrame'>\n",
      "RangeIndex: 7306 entries, 0 to 7305\n",
      "Data columns (total 20 columns):\n",
      " #   Column                         Non-Null Count  Dtype  \n",
      "---  ------                         --------------  -----  \n",
      " 0   text                           7306 non-null   object \n",
      " 1   clean_content                  7306 non-null   object \n",
      " 2   likes                          7306 non-null   int64  \n",
      " 3   replies                        7306 non-null   int64  \n",
      " 4   quotes                         7306 non-null   int64  \n",
      " 5   retweets                       7306 non-null   int64  \n",
      " 6   searchQuery                    7306 non-null   object \n",
      " 7   user_location                  3472 non-null   object \n",
      " 8   tanggal                        7306 non-null   object \n",
      " 9   dataset                        7306 non-null   object \n",
      " 10  date                           7306 non-null   object \n",
      " 11  textblob_sentiment             7306 non-null   object \n",
      " 12  textblob_sentiment_assessment  7306 non-null   object \n",
      " 13  textblob_polarity              7306 non-null   float64\n",
      " 14  textblob_subject               7306 non-null   float64\n",
      " 15  vader_compound                 7306 non-null   float64\n",
      " 16  vader_neg                      7306 non-null   float64\n",
      " 17  vader_neu                      7306 non-null   float64\n",
      " 18  vader_pos                      7306 non-null   float64\n",
      " 19  vader_sentiment                7306 non-null   object \n",
      "dtypes: float64(6), int64(4), object(10)\n",
      "memory usage: 1.1+ MB\n"
     ]
    }
   ],
   "source": [
    "samples.info()"
   ]
  },
  {
   "cell_type": "code",
   "execution_count": 6,
   "metadata": {},
   "outputs": [],
   "source": [
    "samples.drop_duplicates(subset=['clean_content'], inplace=True)\n",
    "# print(samples)"
   ]
  },
  {
   "cell_type": "code",
   "execution_count": 118,
   "metadata": {},
   "outputs": [
    {
     "data": {
      "text/plain": [
       "7306"
      ]
     },
     "execution_count": 118,
     "metadata": {},
     "output_type": "execute_result"
    }
   ],
   "source": [
    "len(samples)"
   ]
  },
  {
   "cell_type": "code",
   "execution_count": 7,
   "metadata": {},
   "outputs": [
    {
     "data": {
      "text/plain": [
       "(3307, 20)"
      ]
     },
     "execution_count": 7,
     "metadata": {},
     "output_type": "execute_result"
    }
   ],
   "source": [
    "# print(\"Jumlah Konten unik:\",int(len(samples['clean_content'])))\n",
    "samples.shape"
   ]
  },
  {
   "cell_type": "code",
   "execution_count": 8,
   "metadata": {},
   "outputs": [
    {
     "name": "stdout",
     "output_type": "stream",
     "text": [
      "Jumlah Query unik: 28\n"
     ]
    },
    {
     "data": {
      "text/plain": [
       "array(['#nomor', '#KIM', '#gibran', '#prabowo', '#indonesiamaju',\n",
       "       'paslon', 'nomor urut', '#koalisiindonesiamaju', '#prabowo2024',\n",
       "       '#prabowogibran', '#aniesmuhaimin', '#aniespresiden',\n",
       "       '#aniesbaswedan', '#anies2024', '#muhaimin', '#AMIN',\n",
       "       '#aniescakimin', '#anies', '#koalisiperubahan', '#cakimin',\n",
       "       '#ganjarpresiden', '#ganjar', '#ganjarpranowo', '#GAMA',\n",
       "       '#ganjar2024', '#mahfud', '#ganjarmahfud', '#mahfudmd'],\n",
       "      dtype=object)"
      ]
     },
     "execution_count": 8,
     "metadata": {},
     "output_type": "execute_result"
    }
   ],
   "source": [
    "# len(samples['clean_content'].unique())\n",
    "print(\"Jumlah Query unik:\",int(len(samples['searchQuery'].unique())))\n",
    "samples['searchQuery'].unique()"
   ]
  },
  {
   "cell_type": "markdown",
   "metadata": {},
   "source": [
    "## Define Date Timestamp"
   ]
  },
  {
   "cell_type": "code",
   "execution_count": 9,
   "metadata": {},
   "outputs": [
    {
     "name": "stdout",
     "output_type": "stream",
     "text": [
      "23112023 2023-11-23 20:17:46.855489 Asia/Jakarta\n"
     ]
    }
   ],
   "source": [
    "from datetime import datetime\n",
    "import pytz\n",
    "\n",
    "\n",
    "now = datetime.now() # current date and time\n",
    "\n",
    "tz = pytz.timezone('Asia/Jakarta')\n",
    "aware_obj = tz.localize(now)\n",
    "d = aware_obj.strftime(\"%d%m%Y\")\n",
    "print(d,now,aware_obj.tzinfo)"
   ]
  },
  {
   "cell_type": "markdown",
   "metadata": {},
   "source": [
    "## Setup Data Sampling"
   ]
  },
  {
   "cell_type": "code",
   "execution_count": 120,
   "metadata": {},
   "outputs": [],
   "source": [
    "totaldata=str(len(samples))"
   ]
  },
  {
   "cell_type": "code",
   "execution_count": 60,
   "metadata": {},
   "outputs": [
    {
     "name": "stdout",
     "output_type": "stream",
     "text": [
      "dataset\n",
      "prabowogibran    1826\n",
      "aniesmuhaimin    3045\n",
      "ganjarmahfud     2435\n",
      "Name: count, dtype: int64\n"
     ]
    }
   ],
   "source": [
    "print(samples['dataset'].value_counts().reindex(['prabowogibran','aniesmuhaimin','ganjarmahfud'], fill_value=0))"
   ]
  },
  {
   "cell_type": "code",
   "execution_count": 121,
   "metadata": {},
   "outputs": [
    {
     "data": {
      "image/png": "[encoded data removed]",
      "text/plain": [
       "<Figure size 563.861x500 with 1 Axes>"
      ]
     },
     "metadata": {},
     "output_type": "display_data"
    }
   ],
   "source": [
    "import seaborn as sns\n",
    "sns.catplot(data=samples, x=\"dataset\", kind=\"count\",hue=\"dataset\",palette=\"pastel\")\n",
    "plt.savefig('hasil/5.statistik_dataset_'+totaldata+'.png')"
   ]
  },
  {
   "cell_type": "code",
   "execution_count": 122,
   "metadata": {},
   "outputs": [
    {
     "data": {
      "image/png": "[encoded data removed]",
      "text/plain": [
       "<Figure size 500x500 with 1 Axes>"
      ]
     },
     "metadata": {},
     "output_type": "display_data"
    }
   ],
   "source": [
    "grid = sns.catplot(x='dataset', kind='count', data=samples)\n",
    "ax = grid.axes[0, 0]\n",
    "ax.bar_label(ax.containers[0])\n",
    "plt.savefig('hasil/5.statistik_dataset2_'+totaldata+'.png')"
   ]
  },
  {
   "cell_type": "code",
   "execution_count": 63,
   "metadata": {},
   "outputs": [],
   "source": [
    "# dataset1=samples.query(\"dataset=='prabowogibran' and vader_sentiment=='Negative'\").sample(10)\n",
    "dataset1=samples.query(\"dataset=='prabowogibran'\")#.sample(10)\n",
    "dataset2=samples.query(\"dataset=='aniesmuhaimin'\")#.sample(10)\n",
    "dataset3=samples.query(\"dataset=='ganjarmahfud'\")#.sample(10)"
   ]
  },
  {
   "cell_type": "code",
   "execution_count": 14,
   "metadata": {},
   "outputs": [
    {
     "data": {
      "text/html": [
       "<div>\n",
       "<style scoped>\n",
       "    .dataframe tbody tr th:only-of-type {\n",
       "        vertical-align: middle;\n",
       "    }\n",
       "\n",
       "    .dataframe tbody tr th {\n",
       "        vertical-align: top;\n",
       "    }\n",
       "\n",
       "    .dataframe thead th {\n",
       "        text-align: right;\n",
       "    }\n",
       "</style>\n",
       "<table border=\"1\" class=\"dataframe\">\n",
       "  <thead>\n",
       "    <tr style=\"text-align: right;\">\n",
       "      <th></th>\n",
       "      <th>text</th>\n",
       "      <th>clean_content</th>\n",
       "      <th>likes</th>\n",
       "      <th>replies</th>\n",
       "      <th>quotes</th>\n",
       "      <th>retweets</th>\n",
       "      <th>searchQuery</th>\n",
       "      <th>user_location</th>\n",
       "      <th>tanggal</th>\n",
       "      <th>dataset</th>\n",
       "      <th>date</th>\n",
       "      <th>textblob_sentiment</th>\n",
       "      <th>textblob_sentiment_assessment</th>\n",
       "      <th>textblob_polarity</th>\n",
       "      <th>textblob_subject</th>\n",
       "      <th>vader_compound</th>\n",
       "      <th>vader_neg</th>\n",
       "      <th>vader_neu</th>\n",
       "      <th>vader_pos</th>\n",
       "      <th>vader_sentiment</th>\n",
       "    </tr>\n",
       "  </thead>\n",
       "  <tbody>\n",
       "    <tr>\n",
       "      <th>0</th>\n",
       "      <td>Sah, Pasangan Prabowo-Gibran dapat Nomor Urut ...</td>\n",
       "      <td>sah pasang prabowo gibran nomor urut tetap kpu...</td>\n",
       "      <td>0</td>\n",
       "      <td>0</td>\n",
       "      <td>0</td>\n",
       "      <td>0</td>\n",
       "      <td>#nomor</td>\n",
       "      <td>NaN</td>\n",
       "      <td>11/14/2023</td>\n",
       "      <td>prabowogibran</td>\n",
       "      <td>2023-11-14</td>\n",
       "      <td>Neutral</td>\n",
       "      <td>Sentiment(polarity=0.0, subjectivity=0.0, asse...</td>\n",
       "      <td>0.0</td>\n",
       "      <td>0.0</td>\n",
       "      <td>0.0</td>\n",
       "      <td>0.0</td>\n",
       "      <td>1.0</td>\n",
       "      <td>0.0</td>\n",
       "      <td>Neutral</td>\n",
       "    </tr>\n",
       "    <tr>\n",
       "      <th>1</th>\n",
       "      <td>#nomor 1 Amin menang</td>\n",
       "      <td>nomor amin menang</td>\n",
       "      <td>0</td>\n",
       "      <td>0</td>\n",
       "      <td>0</td>\n",
       "      <td>0</td>\n",
       "      <td>#nomor</td>\n",
       "      <td>NaN</td>\n",
       "      <td>11/15/2023</td>\n",
       "      <td>prabowogibran</td>\n",
       "      <td>2023-11-15</td>\n",
       "      <td>Neutral</td>\n",
       "      <td>Sentiment(polarity=0.0, subjectivity=0.0, asse...</td>\n",
       "      <td>0.0</td>\n",
       "      <td>0.0</td>\n",
       "      <td>0.0</td>\n",
       "      <td>0.0</td>\n",
       "      <td>1.0</td>\n",
       "      <td>0.0</td>\n",
       "      <td>Neutral</td>\n",
       "    </tr>\n",
       "    <tr>\n",
       "      <th>2</th>\n",
       "      <td>Pak Prabowo mengangkat anak penerbang tucano y...</td>\n",
       "      <td>prabowo angkat anak terbang tucano gugur anak ...</td>\n",
       "      <td>0</td>\n",
       "      <td>0</td>\n",
       "      <td>0</td>\n",
       "      <td>0</td>\n",
       "      <td>#KIM</td>\n",
       "      <td>NaN</td>\n",
       "      <td>11/20/2023</td>\n",
       "      <td>prabowogibran</td>\n",
       "      <td>2023-11-20</td>\n",
       "      <td>Neutral</td>\n",
       "      <td>Sentiment(polarity=0.0, subjectivity=0.0, asse...</td>\n",
       "      <td>0.0</td>\n",
       "      <td>0.0</td>\n",
       "      <td>0.0</td>\n",
       "      <td>0.0</td>\n",
       "      <td>1.0</td>\n",
       "      <td>0.0</td>\n",
       "      <td>Neutral</td>\n",
       "    </tr>\n",
       "    <tr>\n",
       "      <th>3</th>\n",
       "      <td>Unboxing Prabowo; Cerita sejarah, deklarasi bu...</td>\n",
       "      <td>unboxing prabowo cerita sejarah deklarasi budi...</td>\n",
       "      <td>1</td>\n",
       "      <td>0</td>\n",
       "      <td>0</td>\n",
       "      <td>0</td>\n",
       "      <td>#KIM</td>\n",
       "      <td>NaN</td>\n",
       "      <td>11/20/2023</td>\n",
       "      <td>prabowogibran</td>\n",
       "      <td>2023-11-20</td>\n",
       "      <td>Neutral</td>\n",
       "      <td>Sentiment(polarity=0.0, subjectivity=0.0, asse...</td>\n",
       "      <td>0.0</td>\n",
       "      <td>0.0</td>\n",
       "      <td>0.0</td>\n",
       "      <td>0.0</td>\n",
       "      <td>1.0</td>\n",
       "      <td>0.0</td>\n",
       "      <td>Neutral</td>\n",
       "    </tr>\n",
       "    <tr>\n",
       "      <th>4</th>\n",
       "      <td>#Nomor 1\\n\\nIndonesia beradab</td>\n",
       "      <td>nomor indonesia adab</td>\n",
       "      <td>0</td>\n",
       "      <td>0</td>\n",
       "      <td>0</td>\n",
       "      <td>0</td>\n",
       "      <td>#nomor</td>\n",
       "      <td>NaN</td>\n",
       "      <td>11/14/2023</td>\n",
       "      <td>prabowogibran</td>\n",
       "      <td>2023-11-14</td>\n",
       "      <td>Neutral</td>\n",
       "      <td>Sentiment(polarity=0.0, subjectivity=0.0, asse...</td>\n",
       "      <td>0.0</td>\n",
       "      <td>0.0</td>\n",
       "      <td>0.0</td>\n",
       "      <td>0.0</td>\n",
       "      <td>1.0</td>\n",
       "      <td>0.0</td>\n",
       "      <td>Neutral</td>\n",
       "    </tr>\n",
       "  </tbody>\n",
       "</table>\n",
       "</div>"
      ],
      "text/plain": [
       "                                                text  \\\n",
       "0  Sah, Pasangan Prabowo-Gibran dapat Nomor Urut ...   \n",
       "1                               #nomor 1 Amin menang   \n",
       "2  Pak Prabowo mengangkat anak penerbang tucano y...   \n",
       "3  Unboxing Prabowo; Cerita sejarah, deklarasi bu...   \n",
       "4                      #Nomor 1\\n\\nIndonesia beradab   \n",
       "\n",
       "                                       clean_content  likes  replies  quotes  \\\n",
       "0  sah pasang prabowo gibran nomor urut tetap kpu...      0        0       0   \n",
       "1                                  nomor amin menang      0        0       0   \n",
       "2  prabowo angkat anak terbang tucano gugur anak ...      0        0       0   \n",
       "3  unboxing prabowo cerita sejarah deklarasi budi...      1        0       0   \n",
       "4                               nomor indonesia adab      0        0       0   \n",
       "\n",
       "   retweets searchQuery user_location     tanggal        dataset        date  \\\n",
       "0         0      #nomor           NaN  11/14/2023  prabowogibran  2023-11-14   \n",
       "1         0      #nomor           NaN  11/15/2023  prabowogibran  2023-11-15   \n",
       "2         0        #KIM           NaN  11/20/2023  prabowogibran  2023-11-20   \n",
       "3         0        #KIM           NaN  11/20/2023  prabowogibran  2023-11-20   \n",
       "4         0      #nomor           NaN  11/14/2023  prabowogibran  2023-11-14   \n",
       "\n",
       "  textblob_sentiment                      textblob_sentiment_assessment  \\\n",
       "0            Neutral  Sentiment(polarity=0.0, subjectivity=0.0, asse...   \n",
       "1            Neutral  Sentiment(polarity=0.0, subjectivity=0.0, asse...   \n",
       "2            Neutral  Sentiment(polarity=0.0, subjectivity=0.0, asse...   \n",
       "3            Neutral  Sentiment(polarity=0.0, subjectivity=0.0, asse...   \n",
       "4            Neutral  Sentiment(polarity=0.0, subjectivity=0.0, asse...   \n",
       "\n",
       "   textblob_polarity  textblob_subject  vader_compound  vader_neg  vader_neu  \\\n",
       "0                0.0               0.0             0.0        0.0        1.0   \n",
       "1                0.0               0.0             0.0        0.0        1.0   \n",
       "2                0.0               0.0             0.0        0.0        1.0   \n",
       "3                0.0               0.0             0.0        0.0        1.0   \n",
       "4                0.0               0.0             0.0        0.0        1.0   \n",
       "\n",
       "   vader_pos vader_sentiment  \n",
       "0        0.0         Neutral  \n",
       "1        0.0         Neutral  \n",
       "2        0.0         Neutral  \n",
       "3        0.0         Neutral  \n",
       "4        0.0         Neutral  "
      ]
     },
     "execution_count": 14,
     "metadata": {},
     "output_type": "execute_result"
    }
   ],
   "source": [
    "dataset1.head()"
   ]
  },
  {
   "cell_type": "code",
   "execution_count": 15,
   "metadata": {},
   "outputs": [
    {
     "name": "stdout",
     "output_type": "stream",
     "text": [
      "<class 'pandas.core.frame.DataFrame'>\n",
      "Index: 1528 entries, 0 to 1825\n",
      "Data columns (total 20 columns):\n",
      " #   Column                         Non-Null Count  Dtype  \n",
      "---  ------                         --------------  -----  \n",
      " 0   text                           1528 non-null   object \n",
      " 1   clean_content                  1528 non-null   object \n",
      " 2   likes                          1528 non-null   int64  \n",
      " 3   replies                        1528 non-null   int64  \n",
      " 4   quotes                         1528 non-null   int64  \n",
      " 5   retweets                       1528 non-null   int64  \n",
      " 6   searchQuery                    1528 non-null   object \n",
      " 7   user_location                  752 non-null    object \n",
      " 8   tanggal                        1528 non-null   object \n",
      " 9   dataset                        1528 non-null   object \n",
      " 10  date                           1528 non-null   object \n",
      " 11  textblob_sentiment             1528 non-null   object \n",
      " 12  textblob_sentiment_assessment  1528 non-null   object \n",
      " 13  textblob_polarity              1528 non-null   float64\n",
      " 14  textblob_subject               1528 non-null   float64\n",
      " 15  vader_compound                 1528 non-null   float64\n",
      " 16  vader_neg                      1528 non-null   float64\n",
      " 17  vader_neu                      1528 non-null   float64\n",
      " 18  vader_pos                      1528 non-null   float64\n",
      " 19  vader_sentiment                1528 non-null   object \n",
      "dtypes: float64(6), int64(4), object(10)\n",
      "memory usage: 250.7+ KB\n"
     ]
    }
   ],
   "source": [
    "dataset1.info()"
   ]
  },
  {
   "cell_type": "code",
   "execution_count": 123,
   "metadata": {},
   "outputs": [
    {
     "data": {
      "image/png": "[encoded data removed]",
      "text/plain": [
       "<Figure size 500x500 with 1 Axes>"
      ]
     },
     "metadata": {},
     "output_type": "display_data"
    },
    {
     "data": {
      "image/png": "[encoded data removed]",
      "text/plain": [
       "<Figure size 500x500 with 1 Axes>"
      ]
     },
     "metadata": {},
     "output_type": "display_data"
    },
    {
     "data": {
      "image/png": "[encoded data removed]",
      "text/plain": [
       "<Figure size 500x500 with 1 Axes>"
      ]
     },
     "metadata": {},
     "output_type": "display_data"
    }
   ],
   "source": [
    "# grid = sns.catplot(x='vader_sentiment', kind='count', data=dataset1)\n",
    "prabowo1=sns.catplot(data=dataset1, x=\"vader_sentiment\", kind=\"count\")#,hue=\"vader_sentiment\",palette=\"pastel\")\n",
    "ax = prabowo1.axes[0, 0]\n",
    "ax.bar_label(ax.containers[0])\n",
    "plt.savefig('hasil/5.statistik_dataset_'+totaldata+'_prabowo_'+str(len(dataset1))+'.png')\n",
    "\n",
    "anies1=sns.catplot(data=dataset2, x=\"vader_sentiment\", kind=\"count\")#,hue=\"vader_sentiment\",palette=\"pastel\")\n",
    "ax1 = anies1.axes[0, 0]\n",
    "ax1.bar_label(ax1.containers[0])\n",
    "plt.savefig('hasil/5.statistik_dataset_'+totaldata+'_anies_'+str(len(dataset2))+'.png')\n",
    "\n",
    "ganjar1=sns.catplot(data=dataset3, x=\"vader_sentiment\", kind=\"count\")#,hue=\"vader_sentiment\",palette=\"pastel\")\n",
    "ax2 = ganjar1.axes[0, 0]\n",
    "ax2.bar_label(ax2.containers[0])\n",
    "plt.savefig('hasil/5.statistik_dataset_'+totaldata+'_ganjar_'+str(len(dataset3))+'.png')"
   ]
  },
  {
   "cell_type": "markdown",
   "metadata": {},
   "source": [
    "## Balanced Sampling"
   ]
  },
  {
   "cell_type": "code",
   "execution_count": 17,
   "metadata": {},
   "outputs": [],
   "source": [
    "#get sampling data random\n",
    "# jsampling=25  \n",
    "# sample=samples.sample(n=jsampling,replace=True,random_state=42)\n",
    "#get sampling random 50% of data random \n",
    "# df = df.sample(n=3,replace=True,frac=0.5,random_state=42)"
   ]
  },
  {
   "cell_type": "code",
   "execution_count": 130,
   "metadata": {},
   "outputs": [],
   "source": [
    "# column = 'vader_sentiment'\n",
    "jsampling=1500\n",
    "# datax1=samples[['dataset','vader_sentiment','clean_content']]\n",
    "# balanceddf = samples.groupby(column).sample(n=samples[column].value_counts().min(), random_state=42)\n",
    "# balanceddf = samples.groupby(['dataset','vader_sentiment']).sample(n=jsampling,replace=True, random_state=42)\n",
    "balanceddf = samples.groupby(['dataset']).sample(n=jsampling,replace=True, random_state=42)"
   ]
  },
  {
   "cell_type": "code",
   "execution_count": 19,
   "metadata": {},
   "outputs": [],
   "source": [
    "# balanceddf.head(10)"
   ]
  },
  {
   "cell_type": "code",
   "execution_count": 20,
   "metadata": {},
   "outputs": [],
   "source": [
    "# balanced_df=samples.groupby('vader_sentiment',as_index = False,group_keys=False).apply(lambda s: s.sample(3,replace=True))"
   ]
  },
  {
   "cell_type": "code",
   "execution_count": 21,
   "metadata": {},
   "outputs": [],
   "source": [
    "# balanceddf.head(10)"
   ]
  },
  {
   "cell_type": "code",
   "execution_count": 131,
   "metadata": {},
   "outputs": [
    {
     "data": {
      "image/png": "[encoded data removed]",
      "text/plain": [
       "<Figure size 500x500 with 1 Axes>"
      ]
     },
     "metadata": {},
     "output_type": "display_data"
    }
   ],
   "source": [
    "balanced=sns.catplot(data=balanceddf, x=\"dataset\", kind=\"count\")#,hue=\"vader_sentiment\",palette=\"pastel\")\n",
    "axx = balanced.axes[0, 0]\n",
    "axx.bar_label(axx.containers[0])\n",
    "plt.savefig('hasil/5.statistik_dataset_sampling_'+str(jsampling)+'_balanced.png')"
   ]
  },
  {
   "cell_type": "code",
   "execution_count": 132,
   "metadata": {},
   "outputs": [
    {
     "data": {
      "image/png": "[encoded data removed]",
      "text/plain": [
       "<Figure size 500x500 with 1 Axes>"
      ]
     },
     "metadata": {},
     "output_type": "display_data"
    }
   ],
   "source": [
    "balanced1=sns.catplot(data=balanceddf, x=\"vader_sentiment\", kind=\"count\")#,hue=\"vader_sentiment\",palette=\"pastel\")\n",
    "axx = balanced1.axes[0, 0]\n",
    "axx.bar_label(axx.containers[0])\n",
    "plt.savefig('hasil/5.statistik_dataset_sampling_'+str(jsampling)+'_sentiment_imbalanced.png')"
   ]
  },
  {
   "cell_type": "code",
   "execution_count": 133,
   "metadata": {},
   "outputs": [
    {
     "name": "stdout",
     "output_type": "stream",
     "text": [
      "dataset\n",
      "prabowogibran    1500\n",
      "aniesmuhaimin    1500\n",
      "ganjarmahfud     1500\n",
      "Name: count, dtype: int64\n",
      "vader_sentiment\n",
      "Positive     254\n",
      "Neutral     3991\n",
      "Negative     255\n",
      "Name: count, dtype: int64\n"
     ]
    }
   ],
   "source": [
    "print(balanceddf['dataset'].value_counts().reindex(['prabowogibran','aniesmuhaimin','ganjarmahfud'], fill_value=0))\n",
    "print(balanceddf['vader_sentiment'].value_counts().reindex(['Positive','Neutral','Negative'], fill_value=0))"
   ]
  },
  {
   "cell_type": "code",
   "execution_count": 136,
   "metadata": {},
   "outputs": [],
   "source": [
    "import numpy as np\n",
    "# Code Snippet for Character Length Histogram\n",
    "def plot_character_length_histogram(text):\n",
    "    text.str.len().\\\n",
    "        hist()\n",
    "\n",
    "# Code Snippet for Word Number Histogram\n",
    "def plot_word_number_histogram(text):\n",
    "    text.str.split().\\\n",
    "        map(lambda x: len(x)).\\\n",
    "        hist()\n",
    "\n",
    "# Code Snippet for Word Length Histogram\n",
    "def plot_word_length_histogram(text):\n",
    "    text.str.split().\\\n",
    "        apply(lambda x: [len(i) for i in x]). \\\n",
    "        map(lambda x: np.mean(x)).\\\n",
    "        hist()"
   ]
  },
  {
   "cell_type": "code",
   "execution_count": 138,
   "metadata": {},
   "outputs": [
    {
     "data": {
      "image/png": "[encoded data removed]",
      "text/plain": [
       "<Figure size 640x480 with 1 Axes>"
      ]
     },
     "metadata": {},
     "output_type": "display_data"
    }
   ],
   "source": [
    "# plot_character_length_histogram(sample['clean_content'])\n",
    "plot_character_length_histogram(balanceddf['clean_content'])\n",
    "plt.savefig('hasil/5.statistik_dataset_'+str(jsampling)+'_balanced_character_length_histogram.png')"
   ]
  },
  {
   "cell_type": "code",
   "execution_count": 139,
   "metadata": {},
   "outputs": [
    {
     "data": {
      "image/png": "[encoded data removed]",
      "text/plain": [
       "<Figure size 640x480 with 1 Axes>"
      ]
     },
     "metadata": {},
     "output_type": "display_data"
    }
   ],
   "source": [
    "# plot_word_number_histogram(sample['clean_content'])\n",
    "plot_word_number_histogram(balanceddf['clean_content'])\n",
    "plt.savefig('hasil/5.statistik_dataset_'+str(jsampling)+'_balanced_word_number_histogram.png')"
   ]
  },
  {
   "cell_type": "code",
   "execution_count": 140,
   "metadata": {},
   "outputs": [
    {
     "data": {
      "image/png": "[encoded data removed]",
      "text/plain": [
       "<Figure size 640x480 with 1 Axes>"
      ]
     },
     "metadata": {},
     "output_type": "display_data"
    }
   ],
   "source": [
    "# plot_word_length_histogram(sample['clean_content'])\n",
    "plot_word_length_histogram(balanceddf['clean_content'])\n",
    "plt.savefig('hasil/5.statistik_dataset_'+str(jsampling)+'_balanced_word_length_histogram.png')"
   ]
  },
  {
   "cell_type": "markdown",
   "metadata": {},
   "source": [
    "## Split Dataset"
   ]
  },
  {
   "cell_type": "code",
   "execution_count": 29,
   "metadata": {},
   "outputs": [],
   "source": [
    "# sample.head()"
   ]
  },
  {
   "cell_type": "code",
   "execution_count": 141,
   "metadata": {},
   "outputs": [
    {
     "name": "stdout",
     "output_type": "stream",
     "text": [
      "Dataset shopee 75.0:25.0 \n",
      " [INFO] Sebaran kelas pada training  set: \n",
      " Negative: \t 191 \n",
      " Neutral: \t2993 \n",
      " Positive:\t191 \n",
      " [INFO] Sebaran kelas pada testing set:\n",
      " Negative: \t64\n",
      " Neutral: \t998\n",
      " Positive:\t63 \n",
      " [INFO] Shape Data: \n",
      " X_train: \t (3375,) \n",
      " X_test: \t (1125,) \n",
      " y_train: \t (3375,) \n",
      " y_test: \t (1125,) \n",
      "\n"
     ]
    }
   ],
   "source": [
    "# dataset=sample\n",
    "dataset=balanceddf\n",
    "X = dataset['clean_content']     # Define feature matriX\n",
    "y = dataset['vader_sentiment']         # Define target feature matriX\n",
    "target_label=['Positive','Neutral','Negative']\n",
    "jumlahdatauji=0.25\n",
    "X_train, X_test, y_train, y_test = train_test_split(X, y, test_size=jumlahdatauji, random_state=42, stratify=y)\n",
    "\n",
    "datalatih=('Dataset shopee {}:{} \\n [INFO] Sebaran kelas pada training  set: \\n Negative: \\t {} \\n Neutral: \\t{} \\n Positive:\\t{} \\n'.format((1-jumlahdatauji)*100,jumlahdatauji*100,sum(y_train=='Negative'), sum(y_train=='Neutral'), sum(y_train=='Positive')))\n",
    "datauji=('[INFO] Sebaran kelas pada testing set:\\n Negative: \\t{}\\n Neutral: \\t{}\\n Positive:\\t{} \\n'.format(sum(y_test=='Negative'), sum(y_test=='Neutral'), sum(y_test=='Positive')))\n",
    "\n",
    "dimensi_data=('[INFO] Shape Data: \\n X_train: \\t {} \\n X_test: \\t {} \\n y_train: \\t {} \\n y_test: \\t {} \\n'.format(X_train.shape, X_test.shape, y_train.shape, y_test.shape))\n",
    "\n",
    "with open('hasil/datauji-pilpres2024_sample_'+str(jsampling)+'.txt', 'a', encoding='utf-8') as f:\n",
    "    f.writelines(''.join(datalatih))\n",
    "    f.writelines(''.join(datauji))\n",
    "    f.writelines(''.join(dimensi_data))\n",
    "\n",
    "print(datalatih, datauji, dimensi_data)\n",
    "dtuji=int(jumlahdatauji*100)\n",
    "dtlatih=(100-(dtuji))"
   ]
  },
  {
   "cell_type": "markdown",
   "metadata": {},
   "source": [
    "## Save Splitted Dataset"
   ]
  },
  {
   "cell_type": "code",
   "execution_count": 142,
   "metadata": {},
   "outputs": [],
   "source": [
    "# print(dataset)"
   ]
  },
  {
   "cell_type": "code",
   "execution_count": 143,
   "metadata": {},
   "outputs": [],
   "source": [
    "# dataset.to_csv( \"hasil/5_dataset__\"+d+\".csv\", index=False, encoding='utf-8-sig')\n",
    "X_train.to_csv( \"hasil/5_train_data_\"+str(jsampling)+\"_\"+str(dtlatih)+\"_\"+d+\".csv\", index=False, encoding='utf-8-sig')\n",
    "X_test.to_csv( \"hasil/5_test_data_\"+str(jsampling)+\"_\"+str(dtuji)+\"_\"+d+\".csv\", index=False, encoding='utf-8-sig')"
   ]
  },
  {
   "cell_type": "markdown",
   "metadata": {},
   "source": [
    "# Term Weighting TFIDF X Training and Y Testing"
   ]
  },
  {
   "cell_type": "code",
   "execution_count": 144,
   "metadata": {},
   "outputs": [],
   "source": [
    "from sklearn.model_selection import train_test_split\n",
    "from sklearn.feature_extraction.text import TfidfVectorizer,CountVectorizer,TfidfTransformer"
   ]
  },
  {
   "cell_type": "code",
   "execution_count": 145,
   "metadata": {},
   "outputs": [],
   "source": [
    "# ngram_range = (1,2) #bigram\n",
    "ngram_range = (1,3) #trigram\n",
    "\n",
    "min_df = 5\n",
    "\n",
    "tfidf = TfidfVectorizer(ngram_range=ngram_range, min_df=min_df)\n",
    "# tfidf = TfidfVectorizer(max_features=1000)\n",
    "# vectors = tfidf.fit_transform(dataset.clean_content).toarray()\n",
    "# vectors = tfidf.fit_transform(X_train).toarray()\n",
    "# words_df = pd.DataFrame(vectors, columns=tfidf.get_feature_names_out())\n",
    "# words_df.head(10)\n"
   ]
  },
  {
   "cell_type": "code",
   "execution_count": 146,
   "metadata": {},
   "outputs": [
    {
     "name": "stdout",
     "output_type": "stream",
     "text": [
      "[[0. 0. 0. ... 0. 0. 0.]\n",
      " [0. 0. 0. ... 0. 0. 0.]\n",
      " [0. 0. 0. ... 0. 0. 0.]\n",
      " ...\n",
      " [0. 0. 0. ... 0. 0. 0.]\n",
      " [0. 0. 0. ... 0. 0. 0.]\n",
      " [0. 0. 0. ... 0. 0. 0.]]\n"
     ]
    },
    {
     "data": {
      "text/html": [
       "<div>\n",
       "<style scoped>\n",
       "    .dataframe tbody tr th:only-of-type {\n",
       "        vertical-align: middle;\n",
       "    }\n",
       "\n",
       "    .dataframe tbody tr th {\n",
       "        vertical-align: top;\n",
       "    }\n",
       "\n",
       "    .dataframe thead th {\n",
       "        text-align: right;\n",
       "    }\n",
       "</style>\n",
       "<table border=\"1\" class=\"dataframe\">\n",
       "  <thead>\n",
       "    <tr style=\"text-align: right;\">\n",
       "      <th></th>\n",
       "      <th>aamiin</th>\n",
       "      <th>abang</th>\n",
       "      <th>acara</th>\n",
       "      <th>acara apdesi</th>\n",
       "      <th>acara deklarasi</th>\n",
       "      <th>acara deklarasi dukung</th>\n",
       "      <th>acara deklarasi tim</th>\n",
       "      <th>acara desa</th>\n",
       "      <th>acara desa satu</th>\n",
       "      <th>acara konsolidasi</th>\n",
       "      <th>...</th>\n",
       "      <th>yuk</th>\n",
       "      <th>zaman</th>\n",
       "      <th>zaman ini</th>\n",
       "      <th>zaman ini sahabatganjar</th>\n",
       "      <th>zaman sekarang</th>\n",
       "      <th>zaman sekarang rangkai</th>\n",
       "      <th>zona</th>\n",
       "      <th>zona ekspansif</th>\n",
       "      <th>zona ekspansif indonesiamaju</th>\n",
       "      <th>zsna</th>\n",
       "    </tr>\n",
       "  </thead>\n",
       "  <tbody>\n",
       "    <tr>\n",
       "      <th>0</th>\n",
       "      <td>0.0</td>\n",
       "      <td>0.0</td>\n",
       "      <td>0.0</td>\n",
       "      <td>0.0</td>\n",
       "      <td>0.0</td>\n",
       "      <td>0.0</td>\n",
       "      <td>0.0</td>\n",
       "      <td>0.0</td>\n",
       "      <td>0.0</td>\n",
       "      <td>0.0</td>\n",
       "      <td>...</td>\n",
       "      <td>0.0</td>\n",
       "      <td>0.0</td>\n",
       "      <td>0.0</td>\n",
       "      <td>0.0</td>\n",
       "      <td>0.0</td>\n",
       "      <td>0.0</td>\n",
       "      <td>0.0</td>\n",
       "      <td>0.0</td>\n",
       "      <td>0.0</td>\n",
       "      <td>0.0</td>\n",
       "    </tr>\n",
       "    <tr>\n",
       "      <th>1</th>\n",
       "      <td>0.0</td>\n",
       "      <td>0.0</td>\n",
       "      <td>0.0</td>\n",
       "      <td>0.0</td>\n",
       "      <td>0.0</td>\n",
       "      <td>0.0</td>\n",
       "      <td>0.0</td>\n",
       "      <td>0.0</td>\n",
       "      <td>0.0</td>\n",
       "      <td>0.0</td>\n",
       "      <td>...</td>\n",
       "      <td>0.0</td>\n",
       "      <td>0.0</td>\n",
       "      <td>0.0</td>\n",
       "      <td>0.0</td>\n",
       "      <td>0.0</td>\n",
       "      <td>0.0</td>\n",
       "      <td>0.0</td>\n",
       "      <td>0.0</td>\n",
       "      <td>0.0</td>\n",
       "      <td>0.0</td>\n",
       "    </tr>\n",
       "    <tr>\n",
       "      <th>2</th>\n",
       "      <td>0.0</td>\n",
       "      <td>0.0</td>\n",
       "      <td>0.0</td>\n",
       "      <td>0.0</td>\n",
       "      <td>0.0</td>\n",
       "      <td>0.0</td>\n",
       "      <td>0.0</td>\n",
       "      <td>0.0</td>\n",
       "      <td>0.0</td>\n",
       "      <td>0.0</td>\n",
       "      <td>...</td>\n",
       "      <td>0.0</td>\n",
       "      <td>0.0</td>\n",
       "      <td>0.0</td>\n",
       "      <td>0.0</td>\n",
       "      <td>0.0</td>\n",
       "      <td>0.0</td>\n",
       "      <td>0.0</td>\n",
       "      <td>0.0</td>\n",
       "      <td>0.0</td>\n",
       "      <td>0.0</td>\n",
       "    </tr>\n",
       "    <tr>\n",
       "      <th>3</th>\n",
       "      <td>0.0</td>\n",
       "      <td>0.0</td>\n",
       "      <td>0.0</td>\n",
       "      <td>0.0</td>\n",
       "      <td>0.0</td>\n",
       "      <td>0.0</td>\n",
       "      <td>0.0</td>\n",
       "      <td>0.0</td>\n",
       "      <td>0.0</td>\n",
       "      <td>0.0</td>\n",
       "      <td>...</td>\n",
       "      <td>0.0</td>\n",
       "      <td>0.0</td>\n",
       "      <td>0.0</td>\n",
       "      <td>0.0</td>\n",
       "      <td>0.0</td>\n",
       "      <td>0.0</td>\n",
       "      <td>0.0</td>\n",
       "      <td>0.0</td>\n",
       "      <td>0.0</td>\n",
       "      <td>0.0</td>\n",
       "    </tr>\n",
       "    <tr>\n",
       "      <th>4</th>\n",
       "      <td>0.0</td>\n",
       "      <td>0.0</td>\n",
       "      <td>0.0</td>\n",
       "      <td>0.0</td>\n",
       "      <td>0.0</td>\n",
       "      <td>0.0</td>\n",
       "      <td>0.0</td>\n",
       "      <td>0.0</td>\n",
       "      <td>0.0</td>\n",
       "      <td>0.0</td>\n",
       "      <td>...</td>\n",
       "      <td>0.0</td>\n",
       "      <td>0.0</td>\n",
       "      <td>0.0</td>\n",
       "      <td>0.0</td>\n",
       "      <td>0.0</td>\n",
       "      <td>0.0</td>\n",
       "      <td>0.0</td>\n",
       "      <td>0.0</td>\n",
       "      <td>0.0</td>\n",
       "      <td>0.0</td>\n",
       "    </tr>\n",
       "    <tr>\n",
       "      <th>5</th>\n",
       "      <td>0.0</td>\n",
       "      <td>0.0</td>\n",
       "      <td>0.0</td>\n",
       "      <td>0.0</td>\n",
       "      <td>0.0</td>\n",
       "      <td>0.0</td>\n",
       "      <td>0.0</td>\n",
       "      <td>0.0</td>\n",
       "      <td>0.0</td>\n",
       "      <td>0.0</td>\n",
       "      <td>...</td>\n",
       "      <td>0.0</td>\n",
       "      <td>0.0</td>\n",
       "      <td>0.0</td>\n",
       "      <td>0.0</td>\n",
       "      <td>0.0</td>\n",
       "      <td>0.0</td>\n",
       "      <td>0.0</td>\n",
       "      <td>0.0</td>\n",
       "      <td>0.0</td>\n",
       "      <td>0.0</td>\n",
       "    </tr>\n",
       "    <tr>\n",
       "      <th>6</th>\n",
       "      <td>0.0</td>\n",
       "      <td>0.0</td>\n",
       "      <td>0.0</td>\n",
       "      <td>0.0</td>\n",
       "      <td>0.0</td>\n",
       "      <td>0.0</td>\n",
       "      <td>0.0</td>\n",
       "      <td>0.0</td>\n",
       "      <td>0.0</td>\n",
       "      <td>0.0</td>\n",
       "      <td>...</td>\n",
       "      <td>0.0</td>\n",
       "      <td>0.0</td>\n",
       "      <td>0.0</td>\n",
       "      <td>0.0</td>\n",
       "      <td>0.0</td>\n",
       "      <td>0.0</td>\n",
       "      <td>0.0</td>\n",
       "      <td>0.0</td>\n",
       "      <td>0.0</td>\n",
       "      <td>0.0</td>\n",
       "    </tr>\n",
       "    <tr>\n",
       "      <th>7</th>\n",
       "      <td>0.0</td>\n",
       "      <td>0.0</td>\n",
       "      <td>0.0</td>\n",
       "      <td>0.0</td>\n",
       "      <td>0.0</td>\n",
       "      <td>0.0</td>\n",
       "      <td>0.0</td>\n",
       "      <td>0.0</td>\n",
       "      <td>0.0</td>\n",
       "      <td>0.0</td>\n",
       "      <td>...</td>\n",
       "      <td>0.0</td>\n",
       "      <td>0.0</td>\n",
       "      <td>0.0</td>\n",
       "      <td>0.0</td>\n",
       "      <td>0.0</td>\n",
       "      <td>0.0</td>\n",
       "      <td>0.0</td>\n",
       "      <td>0.0</td>\n",
       "      <td>0.0</td>\n",
       "      <td>0.0</td>\n",
       "    </tr>\n",
       "    <tr>\n",
       "      <th>8</th>\n",
       "      <td>0.0</td>\n",
       "      <td>0.0</td>\n",
       "      <td>0.0</td>\n",
       "      <td>0.0</td>\n",
       "      <td>0.0</td>\n",
       "      <td>0.0</td>\n",
       "      <td>0.0</td>\n",
       "      <td>0.0</td>\n",
       "      <td>0.0</td>\n",
       "      <td>0.0</td>\n",
       "      <td>...</td>\n",
       "      <td>0.0</td>\n",
       "      <td>0.0</td>\n",
       "      <td>0.0</td>\n",
       "      <td>0.0</td>\n",
       "      <td>0.0</td>\n",
       "      <td>0.0</td>\n",
       "      <td>0.0</td>\n",
       "      <td>0.0</td>\n",
       "      <td>0.0</td>\n",
       "      <td>0.0</td>\n",
       "    </tr>\n",
       "    <tr>\n",
       "      <th>9</th>\n",
       "      <td>0.0</td>\n",
       "      <td>0.0</td>\n",
       "      <td>0.0</td>\n",
       "      <td>0.0</td>\n",
       "      <td>0.0</td>\n",
       "      <td>0.0</td>\n",
       "      <td>0.0</td>\n",
       "      <td>0.0</td>\n",
       "      <td>0.0</td>\n",
       "      <td>0.0</td>\n",
       "      <td>...</td>\n",
       "      <td>0.0</td>\n",
       "      <td>0.0</td>\n",
       "      <td>0.0</td>\n",
       "      <td>0.0</td>\n",
       "      <td>0.0</td>\n",
       "      <td>0.0</td>\n",
       "      <td>0.0</td>\n",
       "      <td>0.0</td>\n",
       "      <td>0.0</td>\n",
       "      <td>0.0</td>\n",
       "    </tr>\n",
       "  </tbody>\n",
       "</table>\n",
       "<p>10 rows × 4906 columns</p>\n",
       "</div>"
      ],
      "text/plain": [
       "   aamiin  abang  acara  acara apdesi  acara deklarasi  \\\n",
       "0     0.0    0.0    0.0           0.0              0.0   \n",
       "1     0.0    0.0    0.0           0.0              0.0   \n",
       "2     0.0    0.0    0.0           0.0              0.0   \n",
       "3     0.0    0.0    0.0           0.0              0.0   \n",
       "4     0.0    0.0    0.0           0.0              0.0   \n",
       "5     0.0    0.0    0.0           0.0              0.0   \n",
       "6     0.0    0.0    0.0           0.0              0.0   \n",
       "7     0.0    0.0    0.0           0.0              0.0   \n",
       "8     0.0    0.0    0.0           0.0              0.0   \n",
       "9     0.0    0.0    0.0           0.0              0.0   \n",
       "\n",
       "   acara deklarasi dukung  acara deklarasi tim  acara desa  acara desa satu  \\\n",
       "0                     0.0                  0.0         0.0              0.0   \n",
       "1                     0.0                  0.0         0.0              0.0   \n",
       "2                     0.0                  0.0         0.0              0.0   \n",
       "3                     0.0                  0.0         0.0              0.0   \n",
       "4                     0.0                  0.0         0.0              0.0   \n",
       "5                     0.0                  0.0         0.0              0.0   \n",
       "6                     0.0                  0.0         0.0              0.0   \n",
       "7                     0.0                  0.0         0.0              0.0   \n",
       "8                     0.0                  0.0         0.0              0.0   \n",
       "9                     0.0                  0.0         0.0              0.0   \n",
       "\n",
       "   acara konsolidasi  ...  yuk  zaman  zaman ini  zaman ini sahabatganjar  \\\n",
       "0                0.0  ...  0.0    0.0        0.0                      0.0   \n",
       "1                0.0  ...  0.0    0.0        0.0                      0.0   \n",
       "2                0.0  ...  0.0    0.0        0.0                      0.0   \n",
       "3                0.0  ...  0.0    0.0        0.0                      0.0   \n",
       "4                0.0  ...  0.0    0.0        0.0                      0.0   \n",
       "5                0.0  ...  0.0    0.0        0.0                      0.0   \n",
       "6                0.0  ...  0.0    0.0        0.0                      0.0   \n",
       "7                0.0  ...  0.0    0.0        0.0                      0.0   \n",
       "8                0.0  ...  0.0    0.0        0.0                      0.0   \n",
       "9                0.0  ...  0.0    0.0        0.0                      0.0   \n",
       "\n",
       "   zaman sekarang  zaman sekarang rangkai  zona  zona ekspansif  \\\n",
       "0             0.0                     0.0   0.0             0.0   \n",
       "1             0.0                     0.0   0.0             0.0   \n",
       "2             0.0                     0.0   0.0             0.0   \n",
       "3             0.0                     0.0   0.0             0.0   \n",
       "4             0.0                     0.0   0.0             0.0   \n",
       "5             0.0                     0.0   0.0             0.0   \n",
       "6             0.0                     0.0   0.0             0.0   \n",
       "7             0.0                     0.0   0.0             0.0   \n",
       "8             0.0                     0.0   0.0             0.0   \n",
       "9             0.0                     0.0   0.0             0.0   \n",
       "\n",
       "   zona ekspansif indonesiamaju  zsna  \n",
       "0                           0.0   0.0  \n",
       "1                           0.0   0.0  \n",
       "2                           0.0   0.0  \n",
       "3                           0.0   0.0  \n",
       "4                           0.0   0.0  \n",
       "5                           0.0   0.0  \n",
       "6                           0.0   0.0  \n",
       "7                           0.0   0.0  \n",
       "8                           0.0   0.0  \n",
       "9                           0.0   0.0  \n",
       "\n",
       "[10 rows x 4906 columns]"
      ]
     },
     "execution_count": 146,
     "metadata": {},
     "output_type": "execute_result"
    }
   ],
   "source": [
    "\n",
    "X_train = tfidf.fit_transform(X_train).toarray()\n",
    "print(X_train)\n",
    "columns=tfidf.get_feature_names_out()\n",
    "# print(columns)\n",
    "x_train_df = pd.DataFrame(X_train, columns=tfidf.get_feature_names_out())\n",
    "x_train_df.head(10)"
   ]
  },
  {
   "cell_type": "code",
   "execution_count": 147,
   "metadata": {},
   "outputs": [
    {
     "name": "stdout",
     "output_type": "stream",
     "text": [
      "Number of samples: 3375\n",
      "Number of features: 4906\n"
     ]
    }
   ],
   "source": [
    "n_samples, n_features = X_train.shape\n",
    "\n",
    "print('Number of samples:', n_samples)\n",
    "print('Number of features:', n_features)"
   ]
  },
  {
   "cell_type": "code",
   "execution_count": 148,
   "metadata": {},
   "outputs": [
    {
     "name": "stdout",
     "output_type": "stream",
     "text": [
      "[[0. 0. 0. ... 0. 0. 0.]\n",
      " [0. 0. 0. ... 0. 0. 0.]\n",
      " [0. 0. 0. ... 0. 0. 0.]\n",
      " ...\n",
      " [0. 0. 0. ... 0. 0. 0.]\n",
      " [0. 0. 0. ... 0. 0. 0.]\n",
      " [0. 0. 0. ... 0. 0. 0.]]\n"
     ]
    }
   ],
   "source": [
    "print(X_train)"
   ]
  },
  {
   "cell_type": "code",
   "execution_count": 149,
   "metadata": {},
   "outputs": [],
   "source": [
    "x_train_df.to_csv( \"hasil/xtrain_tfidf_trigram_\"+str(jsampling)+\"_\"+str(dtlatih)+\"_\"+str(d)+\".csv\", index=False, encoding='utf-8-sig')"
   ]
  },
  {
   "cell_type": "markdown",
   "metadata": {},
   "source": [
    "## TFIDF YTEST"
   ]
  },
  {
   "cell_type": "code",
   "execution_count": 150,
   "metadata": {},
   "outputs": [
    {
     "name": "stdout",
     "output_type": "stream",
     "text": [
      "[[0.         0.         0.         ... 0.         0.         0.        ]\n",
      " [0.         0.         0.         ... 0.         0.         0.        ]\n",
      " [0.         0.         0.         ... 0.         0.         0.        ]\n",
      " ...\n",
      " [0.         0.         0.10854727 ... 0.         0.         0.        ]\n",
      " [0.         0.         0.         ... 0.         0.         0.        ]\n",
      " [0.         0.         0.         ... 0.         0.         0.        ]]\n"
     ]
    },
    {
     "data": {
      "text/html": [
       "<div>\n",
       "<style scoped>\n",
       "    .dataframe tbody tr th:only-of-type {\n",
       "        vertical-align: middle;\n",
       "    }\n",
       "\n",
       "    .dataframe tbody tr th {\n",
       "        vertical-align: top;\n",
       "    }\n",
       "\n",
       "    .dataframe thead th {\n",
       "        text-align: right;\n",
       "    }\n",
       "</style>\n",
       "<table border=\"1\" class=\"dataframe\">\n",
       "  <thead>\n",
       "    <tr style=\"text-align: right;\">\n",
       "      <th></th>\n",
       "      <th>aamiin</th>\n",
       "      <th>abang</th>\n",
       "      <th>acara</th>\n",
       "      <th>acara apdesi</th>\n",
       "      <th>acara deklarasi</th>\n",
       "      <th>acara deklarasi dukung</th>\n",
       "      <th>acara deklarasi tim</th>\n",
       "      <th>acara desa</th>\n",
       "      <th>acara desa satu</th>\n",
       "      <th>acara konsolidasi</th>\n",
       "      <th>...</th>\n",
       "      <th>yuk</th>\n",
       "      <th>zaman</th>\n",
       "      <th>zaman ini</th>\n",
       "      <th>zaman ini sahabatganjar</th>\n",
       "      <th>zaman sekarang</th>\n",
       "      <th>zaman sekarang rangkai</th>\n",
       "      <th>zona</th>\n",
       "      <th>zona ekspansif</th>\n",
       "      <th>zona ekspansif indonesiamaju</th>\n",
       "      <th>zsna</th>\n",
       "    </tr>\n",
       "  </thead>\n",
       "  <tbody>\n",
       "    <tr>\n",
       "      <th>0</th>\n",
       "      <td>0.0</td>\n",
       "      <td>0.0</td>\n",
       "      <td>0.0</td>\n",
       "      <td>0.0</td>\n",
       "      <td>0.0</td>\n",
       "      <td>0.0</td>\n",
       "      <td>0.0</td>\n",
       "      <td>0.0</td>\n",
       "      <td>0.0</td>\n",
       "      <td>0.0</td>\n",
       "      <td>...</td>\n",
       "      <td>0.0</td>\n",
       "      <td>0.0</td>\n",
       "      <td>0.0</td>\n",
       "      <td>0.0</td>\n",
       "      <td>0.0</td>\n",
       "      <td>0.0</td>\n",
       "      <td>0.0</td>\n",
       "      <td>0.0</td>\n",
       "      <td>0.0</td>\n",
       "      <td>0.0</td>\n",
       "    </tr>\n",
       "    <tr>\n",
       "      <th>1</th>\n",
       "      <td>0.0</td>\n",
       "      <td>0.0</td>\n",
       "      <td>0.0</td>\n",
       "      <td>0.0</td>\n",
       "      <td>0.0</td>\n",
       "      <td>0.0</td>\n",
       "      <td>0.0</td>\n",
       "      <td>0.0</td>\n",
       "      <td>0.0</td>\n",
       "      <td>0.0</td>\n",
       "      <td>...</td>\n",
       "      <td>0.0</td>\n",
       "      <td>0.0</td>\n",
       "      <td>0.0</td>\n",
       "      <td>0.0</td>\n",
       "      <td>0.0</td>\n",
       "      <td>0.0</td>\n",
       "      <td>0.0</td>\n",
       "      <td>0.0</td>\n",
       "      <td>0.0</td>\n",
       "      <td>0.0</td>\n",
       "    </tr>\n",
       "    <tr>\n",
       "      <th>2</th>\n",
       "      <td>0.0</td>\n",
       "      <td>0.0</td>\n",
       "      <td>0.0</td>\n",
       "      <td>0.0</td>\n",
       "      <td>0.0</td>\n",
       "      <td>0.0</td>\n",
       "      <td>0.0</td>\n",
       "      <td>0.0</td>\n",
       "      <td>0.0</td>\n",
       "      <td>0.0</td>\n",
       "      <td>...</td>\n",
       "      <td>0.0</td>\n",
       "      <td>0.0</td>\n",
       "      <td>0.0</td>\n",
       "      <td>0.0</td>\n",
       "      <td>0.0</td>\n",
       "      <td>0.0</td>\n",
       "      <td>0.0</td>\n",
       "      <td>0.0</td>\n",
       "      <td>0.0</td>\n",
       "      <td>0.0</td>\n",
       "    </tr>\n",
       "    <tr>\n",
       "      <th>3</th>\n",
       "      <td>0.0</td>\n",
       "      <td>0.0</td>\n",
       "      <td>0.0</td>\n",
       "      <td>0.0</td>\n",
       "      <td>0.0</td>\n",
       "      <td>0.0</td>\n",
       "      <td>0.0</td>\n",
       "      <td>0.0</td>\n",
       "      <td>0.0</td>\n",
       "      <td>0.0</td>\n",
       "      <td>...</td>\n",
       "      <td>0.0</td>\n",
       "      <td>0.0</td>\n",
       "      <td>0.0</td>\n",
       "      <td>0.0</td>\n",
       "      <td>0.0</td>\n",
       "      <td>0.0</td>\n",
       "      <td>0.0</td>\n",
       "      <td>0.0</td>\n",
       "      <td>0.0</td>\n",
       "      <td>0.0</td>\n",
       "    </tr>\n",
       "    <tr>\n",
       "      <th>4</th>\n",
       "      <td>0.0</td>\n",
       "      <td>0.0</td>\n",
       "      <td>0.0</td>\n",
       "      <td>0.0</td>\n",
       "      <td>0.0</td>\n",
       "      <td>0.0</td>\n",
       "      <td>0.0</td>\n",
       "      <td>0.0</td>\n",
       "      <td>0.0</td>\n",
       "      <td>0.0</td>\n",
       "      <td>...</td>\n",
       "      <td>0.0</td>\n",
       "      <td>0.0</td>\n",
       "      <td>0.0</td>\n",
       "      <td>0.0</td>\n",
       "      <td>0.0</td>\n",
       "      <td>0.0</td>\n",
       "      <td>0.0</td>\n",
       "      <td>0.0</td>\n",
       "      <td>0.0</td>\n",
       "      <td>0.0</td>\n",
       "    </tr>\n",
       "    <tr>\n",
       "      <th>5</th>\n",
       "      <td>0.0</td>\n",
       "      <td>0.0</td>\n",
       "      <td>0.0</td>\n",
       "      <td>0.0</td>\n",
       "      <td>0.0</td>\n",
       "      <td>0.0</td>\n",
       "      <td>0.0</td>\n",
       "      <td>0.0</td>\n",
       "      <td>0.0</td>\n",
       "      <td>0.0</td>\n",
       "      <td>...</td>\n",
       "      <td>0.0</td>\n",
       "      <td>0.0</td>\n",
       "      <td>0.0</td>\n",
       "      <td>0.0</td>\n",
       "      <td>0.0</td>\n",
       "      <td>0.0</td>\n",
       "      <td>0.0</td>\n",
       "      <td>0.0</td>\n",
       "      <td>0.0</td>\n",
       "      <td>0.0</td>\n",
       "    </tr>\n",
       "    <tr>\n",
       "      <th>6</th>\n",
       "      <td>0.0</td>\n",
       "      <td>0.0</td>\n",
       "      <td>0.0</td>\n",
       "      <td>0.0</td>\n",
       "      <td>0.0</td>\n",
       "      <td>0.0</td>\n",
       "      <td>0.0</td>\n",
       "      <td>0.0</td>\n",
       "      <td>0.0</td>\n",
       "      <td>0.0</td>\n",
       "      <td>...</td>\n",
       "      <td>0.0</td>\n",
       "      <td>0.0</td>\n",
       "      <td>0.0</td>\n",
       "      <td>0.0</td>\n",
       "      <td>0.0</td>\n",
       "      <td>0.0</td>\n",
       "      <td>0.0</td>\n",
       "      <td>0.0</td>\n",
       "      <td>0.0</td>\n",
       "      <td>0.0</td>\n",
       "    </tr>\n",
       "    <tr>\n",
       "      <th>7</th>\n",
       "      <td>0.0</td>\n",
       "      <td>0.0</td>\n",
       "      <td>0.0</td>\n",
       "      <td>0.0</td>\n",
       "      <td>0.0</td>\n",
       "      <td>0.0</td>\n",
       "      <td>0.0</td>\n",
       "      <td>0.0</td>\n",
       "      <td>0.0</td>\n",
       "      <td>0.0</td>\n",
       "      <td>...</td>\n",
       "      <td>0.0</td>\n",
       "      <td>0.0</td>\n",
       "      <td>0.0</td>\n",
       "      <td>0.0</td>\n",
       "      <td>0.0</td>\n",
       "      <td>0.0</td>\n",
       "      <td>0.0</td>\n",
       "      <td>0.0</td>\n",
       "      <td>0.0</td>\n",
       "      <td>0.0</td>\n",
       "    </tr>\n",
       "    <tr>\n",
       "      <th>8</th>\n",
       "      <td>0.0</td>\n",
       "      <td>0.0</td>\n",
       "      <td>0.0</td>\n",
       "      <td>0.0</td>\n",
       "      <td>0.0</td>\n",
       "      <td>0.0</td>\n",
       "      <td>0.0</td>\n",
       "      <td>0.0</td>\n",
       "      <td>0.0</td>\n",
       "      <td>0.0</td>\n",
       "      <td>...</td>\n",
       "      <td>0.0</td>\n",
       "      <td>0.0</td>\n",
       "      <td>0.0</td>\n",
       "      <td>0.0</td>\n",
       "      <td>0.0</td>\n",
       "      <td>0.0</td>\n",
       "      <td>0.0</td>\n",
       "      <td>0.0</td>\n",
       "      <td>0.0</td>\n",
       "      <td>0.0</td>\n",
       "    </tr>\n",
       "    <tr>\n",
       "      <th>9</th>\n",
       "      <td>0.0</td>\n",
       "      <td>0.0</td>\n",
       "      <td>0.0</td>\n",
       "      <td>0.0</td>\n",
       "      <td>0.0</td>\n",
       "      <td>0.0</td>\n",
       "      <td>0.0</td>\n",
       "      <td>0.0</td>\n",
       "      <td>0.0</td>\n",
       "      <td>0.0</td>\n",
       "      <td>...</td>\n",
       "      <td>0.0</td>\n",
       "      <td>0.0</td>\n",
       "      <td>0.0</td>\n",
       "      <td>0.0</td>\n",
       "      <td>0.0</td>\n",
       "      <td>0.0</td>\n",
       "      <td>0.0</td>\n",
       "      <td>0.0</td>\n",
       "      <td>0.0</td>\n",
       "      <td>0.0</td>\n",
       "    </tr>\n",
       "  </tbody>\n",
       "</table>\n",
       "<p>10 rows × 4906 columns</p>\n",
       "</div>"
      ],
      "text/plain": [
       "   aamiin  abang  acara  acara apdesi  acara deklarasi  \\\n",
       "0     0.0    0.0    0.0           0.0              0.0   \n",
       "1     0.0    0.0    0.0           0.0              0.0   \n",
       "2     0.0    0.0    0.0           0.0              0.0   \n",
       "3     0.0    0.0    0.0           0.0              0.0   \n",
       "4     0.0    0.0    0.0           0.0              0.0   \n",
       "5     0.0    0.0    0.0           0.0              0.0   \n",
       "6     0.0    0.0    0.0           0.0              0.0   \n",
       "7     0.0    0.0    0.0           0.0              0.0   \n",
       "8     0.0    0.0    0.0           0.0              0.0   \n",
       "9     0.0    0.0    0.0           0.0              0.0   \n",
       "\n",
       "   acara deklarasi dukung  acara deklarasi tim  acara desa  acara desa satu  \\\n",
       "0                     0.0                  0.0         0.0              0.0   \n",
       "1                     0.0                  0.0         0.0              0.0   \n",
       "2                     0.0                  0.0         0.0              0.0   \n",
       "3                     0.0                  0.0         0.0              0.0   \n",
       "4                     0.0                  0.0         0.0              0.0   \n",
       "5                     0.0                  0.0         0.0              0.0   \n",
       "6                     0.0                  0.0         0.0              0.0   \n",
       "7                     0.0                  0.0         0.0              0.0   \n",
       "8                     0.0                  0.0         0.0              0.0   \n",
       "9                     0.0                  0.0         0.0              0.0   \n",
       "\n",
       "   acara konsolidasi  ...  yuk  zaman  zaman ini  zaman ini sahabatganjar  \\\n",
       "0                0.0  ...  0.0    0.0        0.0                      0.0   \n",
       "1                0.0  ...  0.0    0.0        0.0                      0.0   \n",
       "2                0.0  ...  0.0    0.0        0.0                      0.0   \n",
       "3                0.0  ...  0.0    0.0        0.0                      0.0   \n",
       "4                0.0  ...  0.0    0.0        0.0                      0.0   \n",
       "5                0.0  ...  0.0    0.0        0.0                      0.0   \n",
       "6                0.0  ...  0.0    0.0        0.0                      0.0   \n",
       "7                0.0  ...  0.0    0.0        0.0                      0.0   \n",
       "8                0.0  ...  0.0    0.0        0.0                      0.0   \n",
       "9                0.0  ...  0.0    0.0        0.0                      0.0   \n",
       "\n",
       "   zaman sekarang  zaman sekarang rangkai  zona  zona ekspansif  \\\n",
       "0             0.0                     0.0   0.0             0.0   \n",
       "1             0.0                     0.0   0.0             0.0   \n",
       "2             0.0                     0.0   0.0             0.0   \n",
       "3             0.0                     0.0   0.0             0.0   \n",
       "4             0.0                     0.0   0.0             0.0   \n",
       "5             0.0                     0.0   0.0             0.0   \n",
       "6             0.0                     0.0   0.0             0.0   \n",
       "7             0.0                     0.0   0.0             0.0   \n",
       "8             0.0                     0.0   0.0             0.0   \n",
       "9             0.0                     0.0   0.0             0.0   \n",
       "\n",
       "   zona ekspansif indonesiamaju  zsna  \n",
       "0                           0.0   0.0  \n",
       "1                           0.0   0.0  \n",
       "2                           0.0   0.0  \n",
       "3                           0.0   0.0  \n",
       "4                           0.0   0.0  \n",
       "5                           0.0   0.0  \n",
       "6                           0.0   0.0  \n",
       "7                           0.0   0.0  \n",
       "8                           0.0   0.0  \n",
       "9                           0.0   0.0  \n",
       "\n",
       "[10 rows x 4906 columns]"
      ]
     },
     "execution_count": 150,
     "metadata": {},
     "output_type": "execute_result"
    }
   ],
   "source": [
    "X_test = tfidf.transform(X_test).toarray()\n",
    "print(X_test)\n",
    "columnstest=tfidf.get_feature_names_out()\n",
    "# print(columnstest)\n",
    "x_test_df = pd.DataFrame(X_test, columns=tfidf.get_feature_names_out())\n",
    "x_test_df.head(10)"
   ]
  },
  {
   "cell_type": "code",
   "execution_count": 151,
   "metadata": {},
   "outputs": [],
   "source": [
    "x_test_df.to_csv( \"hasil/xtest_tfidf_trigram_\"+str(jsampling)+\"_\"+str(dtuji)+\"_\"+str(d)+\".csv\", index=False, encoding='utf-8-sig')"
   ]
  },
  {
   "cell_type": "code",
   "execution_count": 152,
   "metadata": {},
   "outputs": [],
   "source": [
    "from sklearn.preprocessing import MinMaxScaler\n",
    "\n",
    "minmax = MinMaxScaler(feature_range=(0, 1))\n",
    "X_train = minmax.fit_transform(X_train)\n",
    "X_test = minmax.transform(X_test)"
   ]
  },
  {
   "cell_type": "code",
   "execution_count": 153,
   "metadata": {},
   "outputs": [
    {
     "name": "stdout",
     "output_type": "stream",
     "text": [
      "[[0. 0. 0. ... 0. 0. 0.]\n",
      " [0. 0. 0. ... 0. 0. 0.]\n",
      " [0. 0. 0. ... 0. 0. 0.]\n",
      " ...\n",
      " [0. 0. 0. ... 0. 0. 0.]\n",
      " [0. 0. 0. ... 0. 0. 0.]\n",
      " [0. 0. 0. ... 0. 0. 0.]]\n"
     ]
    },
    {
     "data": {
      "text/plain": [
       "(3375, 4906)"
      ]
     },
     "execution_count": 153,
     "metadata": {},
     "output_type": "execute_result"
    }
   ],
   "source": [
    "print(X_train)\n",
    "X_train.shape"
   ]
  },
  {
   "cell_type": "markdown",
   "metadata": {},
   "source": [
    "## Training and Testing"
   ]
  },
  {
   "cell_type": "code",
   "execution_count": 154,
   "metadata": {},
   "outputs": [],
   "source": [
    "from sklearn.neighbors import KNeighborsClassifier\n",
    "from sklearn.naive_bayes import MultinomialNB\n",
    "from sklearn.svm import SVC\n",
    "from sklearn.tree import DecisionTreeClassifier\n",
    "from sklearn.linear_model import LogisticRegression\n",
    "from sklearn.ensemble import RandomForestClassifier\n",
    "import numpy as np\n",
    "from sklearn.metrics import classification_report, confusion_matrix, accuracy_score\n"
   ]
  },
  {
   "cell_type": "markdown",
   "metadata": {},
   "source": [
    "## Models"
   ]
  },
  {
   "cell_type": "code",
   "execution_count": 155,
   "metadata": {},
   "outputs": [],
   "source": [
    "C=1\n",
    "# Create and train a random forest classifier\n",
    "# forest = RandomForestClassifier()\n",
    "# best recommeded 'gamma': 100.0, 'C': 0.01\n",
    "models = [\n",
    "          # ('k-NN', KNeighborsClassifier()),\n",
    "          ('SVC linear kernel', SVC(kernel='linear',C=C,max_iter=10000)),\n",
    "          ('SVC RBF kernel', SVC(kernel='rbf',gamma=1,C=C)), \n",
    "          ('SVC Polynomial (degree 3)', SVC(kernel='poly',degree=3,C=C)),\n",
    "          # ('Naive Bayes', MultinomialNB()),\n",
    "          # ('Decision Tree', DecisionTreeClassifier()),\n",
    "          # ('Random Forest',RandomForestClassifier(n_estimators=50)),\n",
    "          # ('Regresi Linier',LogisticRegression()),\n",
    "        ]\n"
   ]
  },
  {
   "cell_type": "code",
   "execution_count": 156,
   "metadata": {},
   "outputs": [
    {
     "name": "stdout",
     "output_type": "stream",
     "text": [
      "[INFO] Training Menggunakan SVC linear kernel, akurasi pada training set: 0.9982222222222222 \n",
      "\n",
      "[INFO] Training Menggunakan SVC RBF kernel, akurasi pada training set: 0.9982222222222222 \n",
      "\n",
      "[INFO] Training Menggunakan SVC Polynomial (degree 3), akurasi pada training set: 0.9294814814814815 \n",
      "\n"
     ]
    }
   ],
   "source": [
    "for name, clf in models:\n",
    "  clf.fit(X_train, y_train) #x_train merupakan fitur, y train merupakan label\n",
    "  train_acc = accuracy_score(y_train, clf.predict(X_train))\n",
    "  printed_dataset=('Dataset: {} \\t'.format('mlbb'))\n",
    "  printed=('[INFO] Training Menggunakan {}, akurasi pada training set: {} \\n'.format(name, train_acc))\n",
    "  with open('hasil/training_result_pilpres_sample_'+str(jsampling)+'_'+str(dtlatih)+'_'+str(d)+'.txt', 'a', encoding='utf-8') as f:\n",
    "    f.writelines(''.join(printed_dataset))\n",
    "    f.writelines(''.join(printed))\n",
    "  \n",
    "  print(printed)"
   ]
  },
  {
   "cell_type": "markdown",
   "metadata": {},
   "source": [
    "## Pipeline And Gridsearch CV"
   ]
  },
  {
   "cell_type": "code",
   "execution_count": 157,
   "metadata": {},
   "outputs": [],
   "source": [
    "from sklearn.decomposition import TruncatedSVD\n",
    "from sklearn.pipeline import Pipeline\n",
    "from sklearn.pipeline import make_pipeline\n",
    "from pprint import pprint\n",
    "from time import time\n",
    "from sklearn.model_selection import GridSearchCV, RepeatedStratifiedKFold\n"
   ]
  },
  {
   "cell_type": "code",
   "execution_count": 158,
   "metadata": {},
   "outputs": [],
   "source": [
    "pipe = Pipeline([\n",
    "    ('bag_of_words', TfidfVectorizer(ngram_range=ngram_range, min_df=min_df)),\n",
    "    ('estimator', SVC(random_state=42))])\n",
    "\n",
    "#create GridSearchCV object with set of possible parameters\n",
    "Cs = [0.001, 0.01, 0.1, 1, 10, 100]\n",
    "gammas = [0.001, 0.01, 0.1, 1, 10,100]\n",
    "kernel = ['linear','rbf','poly','sigmoid']\n",
    "# kernel = ['rbf']\n",
    "param_grid={\n",
    "    'estimator__C': Cs,\n",
    "    'estimator__gamma': gammas,\n",
    "    'estimator__kernel': kernel\n",
    "}"
   ]
  },
  {
   "cell_type": "code",
   "execution_count": 48,
   "metadata": {},
   "outputs": [],
   "source": [
    "# %%time\n",
    "# # scoring = {'AUCe': 'roc_auc', 'Accuracy': 'accuracy', 'prec':  'precision', 'rec': 'recall', 'f1s': 'f1','spec':make_scorer(recall_score,pos_label=0)}\n",
    "# # scoring=['accuracy','recall_macro','precision_macro','f1_macro']\n",
    "# grid = GridSearchCV(pipe, param_grid=param_grid,refit = True, verbose = 3,scoring='accuracy',n_jobs=-1)\n",
    "\n",
    "# grid.fit(X_train, y_train)\n",
    "# y_pred = grid.predict(X_test)"
   ]
  },
  {
   "cell_type": "markdown",
   "metadata": {},
   "source": [
    "## Testing "
   ]
  },
  {
   "cell_type": "code",
   "execution_count": 159,
   "metadata": {},
   "outputs": [
    {
     "name": "stdout",
     "output_type": "stream",
     "text": [
      "[INFO] Testing Menggunakan SVC linear kernel, akurasi pada testing set: 0.9804444444444445 \n",
      "\n",
      "[INFO] Testing Menggunakan SVC RBF kernel, akurasi pada testing set: 0.9715555555555555 \n",
      "\n",
      "[INFO] Testing Menggunakan SVC Polynomial (degree 3), akurasi pada testing set: 0.9235555555555556 \n",
      "\n"
     ]
    }
   ],
   "source": [
    "for name, clf in models:\n",
    "  # clf_predict = \n",
    "  clf.predict(X_test) #x_test merupakan fitur, y_test merupakan label\n",
    "  test_acc = accuracy_score(y_test, clf.predict(X_test)) #clf.predict adalah prediksi label dari fitur x_test\n",
    "  printed_dataset=('Dataset: {} \\t'.format('mlbb'))\n",
    "  printed=('[INFO] Testing Menggunakan {}, akurasi pada testing set: {} \\n'.format(name, test_acc))\n",
    "  # printed=('[INFO] testing Menggunakan {}, akurasi pada testing set: {} \\n'.format(name, train_acc))\n",
    "  with open('hasil/testing_result_pilpres_sample_'+str(jsampling)+'_'+str(dtuji)+'_'+str(d)+'.txt', 'a', encoding='utf-8') as f:\n",
    "    f.writelines(''.join(printed_dataset))\n",
    "    f.writelines(''.join(printed))\n",
    "  \n",
    "  print(printed)"
   ]
  },
  {
   "cell_type": "markdown",
   "metadata": {},
   "source": [
    "## Cross Validation"
   ]
  },
  {
   "cell_type": "code",
   "execution_count": 101,
   "metadata": {},
   "outputs": [
    {
     "name": "stdout",
     "output_type": "stream",
     "text": [
      "[INFO] 5x Cross Validation Menggunakan SVC linear kernel, Cross-validation akurasi: 0.606043 (+/- 0.144471) \n",
      "\n",
      "[INFO] 5x Cross Validation Menggunakan SVC RBF kernel, Cross-validation akurasi: 0.606043 (+/- 0.144471) \n",
      "\n",
      "[INFO] 5x Cross Validation Menggunakan SVC Polynomial (degree 3), Cross-validation akurasi: 0.606043 (+/- 0.144471) \n",
      "\n",
      "[INFO] 7x Cross Validation Menggunakan SVC linear kernel, Cross-validation akurasi: 0.660614 (+/- 0.143824) \n",
      "\n",
      "[INFO] 7x Cross Validation Menggunakan SVC RBF kernel, Cross-validation akurasi: 0.660614 (+/- 0.143824) \n",
      "\n",
      "[INFO] 7x Cross Validation Menggunakan SVC Polynomial (degree 3), Cross-validation akurasi: 0.660614 (+/- 0.143824) \n",
      "\n",
      "[INFO] 12x Cross Validation Menggunakan SVC linear kernel, Cross-validation akurasi: 0.662386 (+/- 0.122143) \n",
      "\n",
      "[INFO] 12x Cross Validation Menggunakan SVC RBF kernel, Cross-validation akurasi: 0.662386 (+/- 0.122143) \n",
      "\n",
      "[INFO] 12x Cross Validation Menggunakan SVC Polynomial (degree 3), Cross-validation akurasi: 0.662386 (+/- 0.122143) \n",
      "\n"
     ]
    }
   ],
   "source": [
    "# cross-validation\n",
    "from sklearn.model_selection import KFold\n",
    "from sklearn.model_selection import cross_val_score\n",
    "# k=[3,5,7,10,12,15]\n",
    "k=[5,7,12]\n",
    "for x in (k):\n",
    "  for name, model in models:\n",
    "    clf.fit(X_train, y_train)\n",
    "    cv = KFold(n_splits=x, random_state=50, shuffle=True)\n",
    "    cross_val_acc = cross_val_score(clf, X_train, y_train, cv=cv, scoring='accuracy')\n",
    "    printed_dataset=('Dataset: {} \\t'.format('mlbb'))\n",
    "    printed=('[INFO] {}x Cross Validation Menggunakan {}, Cross-validation akurasi: {:5f} (+/- {:5f}) \\n'.format(x,name, cross_val_acc.mean(), cross_val_acc.std() * 2))\n",
    "    with open('hasil/training_result_pilpres2024_crossval_'+str(jsampling)+'_'+str(dtuji)+'_'+str(d)+'.txt', 'a', encoding='utf-8') as f:\n",
    "      f.writelines(''.join(printed_dataset))\n",
    "      f.writelines(''.join(printed))\n",
    "    \n",
    "    print(printed)\n",
    "    # f.writelines(''.join(\"\\n\"))"
   ]
  },
  {
   "cell_type": "markdown",
   "metadata": {},
   "source": [
    "## Confusion Matrix"
   ]
  },
  {
   "cell_type": "code",
   "execution_count": 102,
   "metadata": {},
   "outputs": [],
   "source": [
    "import matplotlib as mpl\n",
    "import matplotlib.pyplot as plt\n",
    "from sklearn.metrics import classification_report, confusion_matrix, accuracy_score, ConfusionMatrixDisplay, recall_score, precision_score,roc_curve, roc_auc_score\n",
    "from sklearn.model_selection import StratifiedKFold, GridSearchCV, RandomizedSearchCV\n",
    "from matplotlib.colors import ListedColormap\n",
    "import seaborn as sns\n",
    "import warnings; warnings.filterwarnings('ignore')\n",
    "# from sklearn.metrics import plot_confusion_matrix\n"
   ]
  },
  {
   "cell_type": "code",
   "execution_count": 52,
   "metadata": {},
   "outputs": [],
   "source": [
    "\n",
    "# for name, model in models:\n",
    "#   predictions=model.predict(X_test)\n",
    "#   cm = confusion_matrix(y_test, predictions, labels=model.classes_)\n",
    "#   # plot_confusion_matrix(model,X_train, y_train) \n",
    "#   disp = ConfusionMatrixDisplay(confusion_matrix=cm,display_labels=model.classes_)\n",
    "#   disp.plot()\n",
    "#   # plt.title('Confusion Matrix: {}'.format(name))\n",
    "#   plt.show()"
   ]
  },
  {
   "cell_type": "markdown",
   "metadata": {},
   "source": [
    "## Laporan Klasifikasi\n"
   ]
  },
  {
   "cell_type": "code",
   "execution_count": 104,
   "metadata": {},
   "outputs": [],
   "source": [
    "import seaborn as sns"
   ]
  },
  {
   "cell_type": "code",
   "execution_count": 160,
   "metadata": {},
   "outputs": [
    {
     "name": "stdout",
     "output_type": "stream",
     "text": [
      "[INFO] Laporan klasifikasi\n",
      "\n",
      "Menggunakan Metode :SVC linear kernel \n",
      "\n",
      "              precision    recall  f1-score   support\n",
      "\n",
      "    Negative       1.00      0.88      0.93        64\n",
      "     Neutral       0.98      1.00      0.99       998\n",
      "    Positive       0.93      0.84      0.88        63\n",
      "\n",
      "    accuracy                           0.98      1125\n",
      "   macro avg       0.97      0.90      0.94      1125\n",
      "weighted avg       0.98      0.98      0.98      1125\n",
      "\n",
      "Accuracy score: 98.04%\n",
      "Precision score: 98.03%\n",
      "Recall score: 98.04% \n",
      "\n",
      "Menggunakan Metode :SVC RBF kernel \n",
      "\n",
      "              precision    recall  f1-score   support\n",
      "\n",
      "    Negative       1.00      0.78      0.88        64\n",
      "     Neutral       0.97      1.00      0.98       998\n",
      "    Positive       1.00      0.71      0.83        63\n",
      "\n",
      "    accuracy                           0.97      1125\n",
      "   macro avg       0.99      0.83      0.90      1125\n",
      "weighted avg       0.97      0.97      0.97      1125\n",
      "\n",
      "Accuracy score: 97.16%\n",
      "Precision score: 97.24%\n",
      "Recall score: 97.16% \n",
      "\n",
      "Menggunakan Metode :SVC Polynomial (degree 3) \n",
      "\n",
      "              precision    recall  f1-score   support\n",
      "\n",
      "    Negative       1.00      0.27      0.42        64\n",
      "     Neutral       0.92      1.00      0.96       998\n",
      "    Positive       1.00      0.38      0.55        63\n",
      "\n",
      "    accuracy                           0.92      1125\n",
      "   macro avg       0.97      0.55      0.64      1125\n",
      "weighted avg       0.93      0.92      0.91      1125\n",
      "\n",
      "Accuracy score: 92.36%\n",
      "Precision score: 92.96%\n",
      "Recall score: 92.36% \n",
      "\n"
     ]
    },
    {
     "data": {
      "image/png": "[encoded data removed]",
      "text/plain": [
       "<Figure size 1000x500 with 2 Axes>"
      ]
     },
     "metadata": {},
     "output_type": "display_data"
    },
    {
     "data": {
      "image/png": "[encoded data removed]",
      "text/plain": [
       "<Figure size 1000x500 with 2 Axes>"
      ]
     },
     "metadata": {},
     "output_type": "display_data"
    },
    {
     "data": {
      "image/png": "[encoded data removed]",
      "text/plain": [
       "<Figure size 1000x500 with 2 Axes>"
      ]
     },
     "metadata": {},
     "output_type": "display_data"
    }
   ],
   "source": [
    "print(\"[INFO] Laporan klasifikasi\\n\")\n",
    "target_names=['Negative', 'Neutral','Positive']\n",
    "for name, clf in models:\n",
    "  clf_predict = clf.predict(X_test) #y_pred\n",
    "  printed_titles=('Menggunakan Metode :{} \\n'.format(name))\n",
    "  printed=(classification_report(y_test, clf_predict, target_names=['Negative', 'Neutral','Positive']))\n",
    "  akurasi=('Accuracy score: %.2f%%' %(accuracy_score(y_test, clf_predict)*100))  \n",
    "  presisi=('Precision score: %.2f%%' % (precision_score(y_test, clf_predict, average= 'weighted')*100))\n",
    "  recall=('Recall score: %.2f%% \\n' % (recall_score(y_test, clf_predict, average= 'weighted')*100))\n",
    "  \n",
    "  with open('hasil/classification_report_pilpres2024_'+str(jsampling)+'_'+str(dtuji)+'_'+str(d)+'.txt', 'a', encoding='utf-8') as f:\n",
    "      # f.writelines(''.join(name))\n",
    "      f.writelines(''.join(printed_titles))\n",
    "      f.writelines(''.join(printed))\n",
    "      f.writelines(' \\n')\n",
    "      f.writelines(''.join(akurasi+'\\n'+presisi+'\\n'+recall))\n",
    "\n",
    "      f.writelines(' \\n')\n",
    "  print(printed_titles+'\\n'+printed)\n",
    "  print(akurasi+'\\n'+presisi+'\\n'+recall)\n",
    "  # Confusion Matrix Plot\n",
    "  fig, [ax1, ax2] = plt.subplots(1, 2, figsize=(10, 5))\n",
    "  cm = confusion_matrix(y_test, clf_predict, labels=['Negative', 'Neutral','Positive'])\n",
    "  sns.heatmap(cm, annot = True, cbar = False, fmt = \"d\", linewidths = .5, cmap = \"Blues\", ax = ax1)\n",
    "  ax1.set_title(\"Confusion Matrix : {}\".format(name))\n",
    "  ax1.set_xlabel(\"Predicted class\")\n",
    "  ax1.set_ylabel(\"Actual class\")\n",
    "  ax1.set_xticklabels(target_names)\n",
    "  ax1.set_yticklabels(target_names)\n",
    "  fig.tight_layout()\n",
    "  plt.savefig('hasil/5.confusion_matrix_'+str(jsampling)+'_{}.png'.format(name))\n"
   ]
  },
  {
   "cell_type": "markdown",
   "metadata": {},
   "source": [
    "## Parameter Optimization RandomizedSearchCV / GridSearchCV"
   ]
  },
  {
   "cell_type": "code",
   "execution_count": 165,
   "metadata": {},
   "outputs": [
    {
     "ename": "KeyboardInterrupt",
     "evalue": "",
     "output_type": "error",
     "traceback": [
      "\u001b[1;31m---------------------------------------------------------------------------\u001b[0m",
      "\u001b[1;31mKeyboardInterrupt\u001b[0m                         Traceback (most recent call last)",
      "\u001b[1;32me:\\!!PYTHON2023\\github-twitter-pilpres2024\\5. Split DatasetNomorUrut.ipynb Cell 72\u001b[0m line \u001b[0;36m1\n\u001b[0;32m      <a href='vscode-notebook-cell:/e%3A/%21%21PYTHON2023/github-twitter-pilpres2024/5.%20Split%20DatasetNomorUrut.ipynb#Y123sZmlsZQ%3D%3D?line=5'>6</a>\u001b[0m gs \u001b[39m=\u001b[39m RandomizedSearchCV(clf, param_distributions \u001b[39m=\u001b[39m param_grid, n_iter \u001b[39m=\u001b[39m n_iter_search, cv \u001b[39m=\u001b[39m cv, scoring\u001b[39m=\u001b[39m \u001b[39m'\u001b[39m\u001b[39maccuracy\u001b[39m\u001b[39m'\u001b[39m)\n\u001b[0;32m      <a href='vscode-notebook-cell:/e%3A/%21%21PYTHON2023/github-twitter-pilpres2024/5.%20Split%20DatasetNomorUrut.ipynb#Y123sZmlsZQ%3D%3D?line=6'>7</a>\u001b[0m \u001b[39m# gs = GridSearchCV(clf, param_grid=param_grid,refit = True, verbose = 3,scoring='accuracy',n_jobs=-1)\u001b[39;00m\n\u001b[0;32m      <a href='vscode-notebook-cell:/e%3A/%21%21PYTHON2023/github-twitter-pilpres2024/5.%20Split%20DatasetNomorUrut.ipynb#Y123sZmlsZQ%3D%3D?line=7'>8</a>\u001b[0m \u001b[39m# -----------------------------------------------------\u001b[39;00m\n\u001b[0;32m      <a href='vscode-notebook-cell:/e%3A/%21%21PYTHON2023/github-twitter-pilpres2024/5.%20Split%20DatasetNomorUrut.ipynb#Y123sZmlsZQ%3D%3D?line=8'>9</a>\u001b[0m \u001b[39m# Train model\u001b[39;00m\n\u001b[1;32m---> <a href='vscode-notebook-cell:/e%3A/%21%21PYTHON2023/github-twitter-pilpres2024/5.%20Split%20DatasetNomorUrut.ipynb#Y123sZmlsZQ%3D%3D?line=9'>10</a>\u001b[0m gs\u001b[39m.\u001b[39;49mfit(X_train, y_train)  \n\u001b[0;32m     <a href='vscode-notebook-cell:/e%3A/%21%21PYTHON2023/github-twitter-pilpres2024/5.%20Split%20DatasetNomorUrut.ipynb#Y123sZmlsZQ%3D%3D?line=10'>11</a>\u001b[0m best\u001b[39m=\u001b[39m(\u001b[39m\"\u001b[39m\u001b[39mThe best parameters are \u001b[39m\u001b[39m%s\u001b[39;00m\u001b[39m\"\u001b[39m \u001b[39m%\u001b[39m (gs\u001b[39m.\u001b[39mbest_params_)) \n\u001b[0;32m     <a href='vscode-notebook-cell:/e%3A/%21%21PYTHON2023/github-twitter-pilpres2024/5.%20Split%20DatasetNomorUrut.ipynb#Y123sZmlsZQ%3D%3D?line=11'>12</a>\u001b[0m \u001b[39m# Predict on test set\u001b[39;00m\n",
      "File \u001b[1;32mc:\\laragon\\bin\\python\\python-3.10\\lib\\site-packages\\sklearn\\base.py:1152\u001b[0m, in \u001b[0;36m_fit_context.<locals>.decorator.<locals>.wrapper\u001b[1;34m(estimator, *args, **kwargs)\u001b[0m\n\u001b[0;32m   1145\u001b[0m     estimator\u001b[39m.\u001b[39m_validate_params()\n\u001b[0;32m   1147\u001b[0m \u001b[39mwith\u001b[39;00m config_context(\n\u001b[0;32m   1148\u001b[0m     skip_parameter_validation\u001b[39m=\u001b[39m(\n\u001b[0;32m   1149\u001b[0m         prefer_skip_nested_validation \u001b[39mor\u001b[39;00m global_skip_validation\n\u001b[0;32m   1150\u001b[0m     )\n\u001b[0;32m   1151\u001b[0m ):\n\u001b[1;32m-> 1152\u001b[0m     \u001b[39mreturn\u001b[39;00m fit_method(estimator, \u001b[39m*\u001b[39margs, \u001b[39m*\u001b[39m\u001b[39m*\u001b[39mkwargs)\n",
      "File \u001b[1;32mc:\\laragon\\bin\\python\\python-3.10\\lib\\site-packages\\sklearn\\model_selection\\_search.py:898\u001b[0m, in \u001b[0;36mBaseSearchCV.fit\u001b[1;34m(self, X, y, groups, **fit_params)\u001b[0m\n\u001b[0;32m    892\u001b[0m     results \u001b[39m=\u001b[39m \u001b[39mself\u001b[39m\u001b[39m.\u001b[39m_format_results(\n\u001b[0;32m    893\u001b[0m         all_candidate_params, n_splits, all_out, all_more_results\n\u001b[0;32m    894\u001b[0m     )\n\u001b[0;32m    896\u001b[0m     \u001b[39mreturn\u001b[39;00m results\n\u001b[1;32m--> 898\u001b[0m \u001b[39mself\u001b[39;49m\u001b[39m.\u001b[39;49m_run_search(evaluate_candidates)\n\u001b[0;32m    900\u001b[0m \u001b[39m# multimetric is determined here because in the case of a callable\u001b[39;00m\n\u001b[0;32m    901\u001b[0m \u001b[39m# self.scoring the return type is only known after calling\u001b[39;00m\n\u001b[0;32m    902\u001b[0m first_test_score \u001b[39m=\u001b[39m all_out[\u001b[39m0\u001b[39m][\u001b[39m\"\u001b[39m\u001b[39mtest_scores\u001b[39m\u001b[39m\"\u001b[39m]\n",
      "File \u001b[1;32mc:\\laragon\\bin\\python\\python-3.10\\lib\\site-packages\\sklearn\\model_selection\\_search.py:1809\u001b[0m, in \u001b[0;36mRandomizedSearchCV._run_search\u001b[1;34m(self, evaluate_candidates)\u001b[0m\n\u001b[0;32m   1807\u001b[0m \u001b[39mdef\u001b[39;00m \u001b[39m_run_search\u001b[39m(\u001b[39mself\u001b[39m, evaluate_candidates):\n\u001b[0;32m   1808\u001b[0m \u001b[39m    \u001b[39m\u001b[39m\"\"\"Search n_iter candidates from param_distributions\"\"\"\u001b[39;00m\n\u001b[1;32m-> 1809\u001b[0m     evaluate_candidates(\n\u001b[0;32m   1810\u001b[0m         ParameterSampler(\n\u001b[0;32m   1811\u001b[0m             \u001b[39mself\u001b[39;49m\u001b[39m.\u001b[39;49mparam_distributions, \u001b[39mself\u001b[39;49m\u001b[39m.\u001b[39;49mn_iter, random_state\u001b[39m=\u001b[39;49m\u001b[39mself\u001b[39;49m\u001b[39m.\u001b[39;49mrandom_state\n\u001b[0;32m   1812\u001b[0m         )\n\u001b[0;32m   1813\u001b[0m     )\n",
      "File \u001b[1;32mc:\\laragon\\bin\\python\\python-3.10\\lib\\site-packages\\sklearn\\model_selection\\_search.py:845\u001b[0m, in \u001b[0;36mBaseSearchCV.fit.<locals>.evaluate_candidates\u001b[1;34m(candidate_params, cv, more_results)\u001b[0m\n\u001b[0;32m    837\u001b[0m \u001b[39mif\u001b[39;00m \u001b[39mself\u001b[39m\u001b[39m.\u001b[39mverbose \u001b[39m>\u001b[39m \u001b[39m0\u001b[39m:\n\u001b[0;32m    838\u001b[0m     \u001b[39mprint\u001b[39m(\n\u001b[0;32m    839\u001b[0m         \u001b[39m\"\u001b[39m\u001b[39mFitting \u001b[39m\u001b[39m{0}\u001b[39;00m\u001b[39m folds for each of \u001b[39m\u001b[39m{1}\u001b[39;00m\u001b[39m candidates,\u001b[39m\u001b[39m\"\u001b[39m\n\u001b[0;32m    840\u001b[0m         \u001b[39m\"\u001b[39m\u001b[39m totalling \u001b[39m\u001b[39m{2}\u001b[39;00m\u001b[39m fits\u001b[39m\u001b[39m\"\u001b[39m\u001b[39m.\u001b[39mformat(\n\u001b[0;32m    841\u001b[0m             n_splits, n_candidates, n_candidates \u001b[39m*\u001b[39m n_splits\n\u001b[0;32m    842\u001b[0m         )\n\u001b[0;32m    843\u001b[0m     )\n\u001b[1;32m--> 845\u001b[0m out \u001b[39m=\u001b[39m parallel(\n\u001b[0;32m    846\u001b[0m     delayed(_fit_and_score)(\n\u001b[0;32m    847\u001b[0m         clone(base_estimator),\n\u001b[0;32m    848\u001b[0m         X,\n\u001b[0;32m    849\u001b[0m         y,\n\u001b[0;32m    850\u001b[0m         train\u001b[39m=\u001b[39;49mtrain,\n\u001b[0;32m    851\u001b[0m         test\u001b[39m=\u001b[39;49mtest,\n\u001b[0;32m    852\u001b[0m         parameters\u001b[39m=\u001b[39;49mparameters,\n\u001b[0;32m    853\u001b[0m         split_progress\u001b[39m=\u001b[39;49m(split_idx, n_splits),\n\u001b[0;32m    854\u001b[0m         candidate_progress\u001b[39m=\u001b[39;49m(cand_idx, n_candidates),\n\u001b[0;32m    855\u001b[0m         \u001b[39m*\u001b[39;49m\u001b[39m*\u001b[39;49mfit_and_score_kwargs,\n\u001b[0;32m    856\u001b[0m     )\n\u001b[0;32m    857\u001b[0m     \u001b[39mfor\u001b[39;49;00m (cand_idx, parameters), (split_idx, (train, test)) \u001b[39min\u001b[39;49;00m product(\n\u001b[0;32m    858\u001b[0m         \u001b[39menumerate\u001b[39;49m(candidate_params), \u001b[39menumerate\u001b[39;49m(cv\u001b[39m.\u001b[39;49msplit(X, y, groups))\n\u001b[0;32m    859\u001b[0m     )\n\u001b[0;32m    860\u001b[0m )\n\u001b[0;32m    862\u001b[0m \u001b[39mif\u001b[39;00m \u001b[39mlen\u001b[39m(out) \u001b[39m<\u001b[39m \u001b[39m1\u001b[39m:\n\u001b[0;32m    863\u001b[0m     \u001b[39mraise\u001b[39;00m \u001b[39mValueError\u001b[39;00m(\n\u001b[0;32m    864\u001b[0m         \u001b[39m\"\u001b[39m\u001b[39mNo fits were performed. \u001b[39m\u001b[39m\"\u001b[39m\n\u001b[0;32m    865\u001b[0m         \u001b[39m\"\u001b[39m\u001b[39mWas the CV iterator empty? \u001b[39m\u001b[39m\"\u001b[39m\n\u001b[0;32m    866\u001b[0m         \u001b[39m\"\u001b[39m\u001b[39mWere there no candidates?\u001b[39m\u001b[39m\"\u001b[39m\n\u001b[0;32m    867\u001b[0m     )\n",
      "File \u001b[1;32mc:\\laragon\\bin\\python\\python-3.10\\lib\\site-packages\\sklearn\\utils\\parallel.py:65\u001b[0m, in \u001b[0;36mParallel.__call__\u001b[1;34m(self, iterable)\u001b[0m\n\u001b[0;32m     60\u001b[0m config \u001b[39m=\u001b[39m get_config()\n\u001b[0;32m     61\u001b[0m iterable_with_config \u001b[39m=\u001b[39m (\n\u001b[0;32m     62\u001b[0m     (_with_config(delayed_func, config), args, kwargs)\n\u001b[0;32m     63\u001b[0m     \u001b[39mfor\u001b[39;00m delayed_func, args, kwargs \u001b[39min\u001b[39;00m iterable\n\u001b[0;32m     64\u001b[0m )\n\u001b[1;32m---> 65\u001b[0m \u001b[39mreturn\u001b[39;00m \u001b[39msuper\u001b[39;49m()\u001b[39m.\u001b[39;49m\u001b[39m__call__\u001b[39;49m(iterable_with_config)\n",
      "File \u001b[1;32mc:\\laragon\\bin\\python\\python-3.10\\lib\\site-packages\\joblib\\parallel.py:1863\u001b[0m, in \u001b[0;36mParallel.__call__\u001b[1;34m(self, iterable)\u001b[0m\n\u001b[0;32m   1861\u001b[0m     output \u001b[39m=\u001b[39m \u001b[39mself\u001b[39m\u001b[39m.\u001b[39m_get_sequential_output(iterable)\n\u001b[0;32m   1862\u001b[0m     \u001b[39mnext\u001b[39m(output)\n\u001b[1;32m-> 1863\u001b[0m     \u001b[39mreturn\u001b[39;00m output \u001b[39mif\u001b[39;00m \u001b[39mself\u001b[39m\u001b[39m.\u001b[39mreturn_generator \u001b[39melse\u001b[39;00m \u001b[39mlist\u001b[39;49m(output)\n\u001b[0;32m   1865\u001b[0m \u001b[39m# Let's create an ID that uniquely identifies the current call. If the\u001b[39;00m\n\u001b[0;32m   1866\u001b[0m \u001b[39m# call is interrupted early and that the same instance is immediately\u001b[39;00m\n\u001b[0;32m   1867\u001b[0m \u001b[39m# re-used, this id will be used to prevent workers that were\u001b[39;00m\n\u001b[0;32m   1868\u001b[0m \u001b[39m# concurrently finalizing a task from the previous call to run the\u001b[39;00m\n\u001b[0;32m   1869\u001b[0m \u001b[39m# callback.\u001b[39;00m\n\u001b[0;32m   1870\u001b[0m \u001b[39mwith\u001b[39;00m \u001b[39mself\u001b[39m\u001b[39m.\u001b[39m_lock:\n",
      "File \u001b[1;32mc:\\laragon\\bin\\python\\python-3.10\\lib\\site-packages\\joblib\\parallel.py:1792\u001b[0m, in \u001b[0;36mParallel._get_sequential_output\u001b[1;34m(self, iterable)\u001b[0m\n\u001b[0;32m   1790\u001b[0m \u001b[39mself\u001b[39m\u001b[39m.\u001b[39mn_dispatched_batches \u001b[39m+\u001b[39m\u001b[39m=\u001b[39m \u001b[39m1\u001b[39m\n\u001b[0;32m   1791\u001b[0m \u001b[39mself\u001b[39m\u001b[39m.\u001b[39mn_dispatched_tasks \u001b[39m+\u001b[39m\u001b[39m=\u001b[39m \u001b[39m1\u001b[39m\n\u001b[1;32m-> 1792\u001b[0m res \u001b[39m=\u001b[39m func(\u001b[39m*\u001b[39margs, \u001b[39m*\u001b[39m\u001b[39m*\u001b[39mkwargs)\n\u001b[0;32m   1793\u001b[0m \u001b[39mself\u001b[39m\u001b[39m.\u001b[39mn_completed_tasks \u001b[39m+\u001b[39m\u001b[39m=\u001b[39m \u001b[39m1\u001b[39m\n\u001b[0;32m   1794\u001b[0m \u001b[39mself\u001b[39m\u001b[39m.\u001b[39mprint_progress()\n",
      "File \u001b[1;32mc:\\laragon\\bin\\python\\python-3.10\\lib\\site-packages\\sklearn\\utils\\parallel.py:127\u001b[0m, in \u001b[0;36m_FuncWrapper.__call__\u001b[1;34m(self, *args, **kwargs)\u001b[0m\n\u001b[0;32m    125\u001b[0m     config \u001b[39m=\u001b[39m {}\n\u001b[0;32m    126\u001b[0m \u001b[39mwith\u001b[39;00m config_context(\u001b[39m*\u001b[39m\u001b[39m*\u001b[39mconfig):\n\u001b[1;32m--> 127\u001b[0m     \u001b[39mreturn\u001b[39;00m \u001b[39mself\u001b[39m\u001b[39m.\u001b[39mfunction(\u001b[39m*\u001b[39margs, \u001b[39m*\u001b[39m\u001b[39m*\u001b[39mkwargs)\n",
      "File \u001b[1;32mc:\\laragon\\bin\\python\\python-3.10\\lib\\site-packages\\sklearn\\model_selection\\_validation.py:729\u001b[0m, in \u001b[0;36m_fit_and_score\u001b[1;34m(estimator, X, y, scorer, train, test, verbose, parameters, fit_params, return_train_score, return_parameters, return_n_test_samples, return_times, return_estimator, split_progress, candidate_progress, error_score)\u001b[0m\n\u001b[0;32m    727\u001b[0m         estimator\u001b[39m.\u001b[39mfit(X_train, \u001b[39m*\u001b[39m\u001b[39m*\u001b[39mfit_params)\n\u001b[0;32m    728\u001b[0m     \u001b[39melse\u001b[39;00m:\n\u001b[1;32m--> 729\u001b[0m         estimator\u001b[39m.\u001b[39mfit(X_train, y_train, \u001b[39m*\u001b[39m\u001b[39m*\u001b[39mfit_params)\n\u001b[0;32m    731\u001b[0m \u001b[39mexcept\u001b[39;00m \u001b[39mException\u001b[39;00m:\n\u001b[0;32m    732\u001b[0m     \u001b[39m# Note fit time as time until error\u001b[39;00m\n\u001b[0;32m    733\u001b[0m     fit_time \u001b[39m=\u001b[39m time\u001b[39m.\u001b[39mtime() \u001b[39m-\u001b[39m start_time\n",
      "File \u001b[1;32mc:\\laragon\\bin\\python\\python-3.10\\lib\\site-packages\\sklearn\\base.py:1152\u001b[0m, in \u001b[0;36m_fit_context.<locals>.decorator.<locals>.wrapper\u001b[1;34m(estimator, *args, **kwargs)\u001b[0m\n\u001b[0;32m   1145\u001b[0m     estimator\u001b[39m.\u001b[39m_validate_params()\n\u001b[0;32m   1147\u001b[0m \u001b[39mwith\u001b[39;00m config_context(\n\u001b[0;32m   1148\u001b[0m     skip_parameter_validation\u001b[39m=\u001b[39m(\n\u001b[0;32m   1149\u001b[0m         prefer_skip_nested_validation \u001b[39mor\u001b[39;00m global_skip_validation\n\u001b[0;32m   1150\u001b[0m     )\n\u001b[0;32m   1151\u001b[0m ):\n\u001b[1;32m-> 1152\u001b[0m     \u001b[39mreturn\u001b[39;00m fit_method(estimator, \u001b[39m*\u001b[39margs, \u001b[39m*\u001b[39m\u001b[39m*\u001b[39mkwargs)\n",
      "File \u001b[1;32mc:\\laragon\\bin\\python\\python-3.10\\lib\\site-packages\\sklearn\\svm\\_base.py:250\u001b[0m, in \u001b[0;36mBaseLibSVM.fit\u001b[1;34m(self, X, y, sample_weight)\u001b[0m\n\u001b[0;32m    247\u001b[0m     \u001b[39mprint\u001b[39m(\u001b[39m\"\u001b[39m\u001b[39m[LibSVM]\u001b[39m\u001b[39m\"\u001b[39m, end\u001b[39m=\u001b[39m\u001b[39m\"\u001b[39m\u001b[39m\"\u001b[39m)\n\u001b[0;32m    249\u001b[0m seed \u001b[39m=\u001b[39m rnd\u001b[39m.\u001b[39mrandint(np\u001b[39m.\u001b[39miinfo(\u001b[39m\"\u001b[39m\u001b[39mi\u001b[39m\u001b[39m\"\u001b[39m)\u001b[39m.\u001b[39mmax)\n\u001b[1;32m--> 250\u001b[0m fit(X, y, sample_weight, solver_type, kernel, random_seed\u001b[39m=\u001b[39;49mseed)\n\u001b[0;32m    251\u001b[0m \u001b[39m# see comment on the other call to np.iinfo in this file\u001b[39;00m\n\u001b[0;32m    253\u001b[0m \u001b[39mself\u001b[39m\u001b[39m.\u001b[39mshape_fit_ \u001b[39m=\u001b[39m X\u001b[39m.\u001b[39mshape \u001b[39mif\u001b[39;00m \u001b[39mhasattr\u001b[39m(X, \u001b[39m\"\u001b[39m\u001b[39mshape\u001b[39m\u001b[39m\"\u001b[39m) \u001b[39melse\u001b[39;00m (n_samples,)\n",
      "File \u001b[1;32mc:\\laragon\\bin\\python\\python-3.10\\lib\\site-packages\\sklearn\\svm\\_base.py:329\u001b[0m, in \u001b[0;36mBaseLibSVM._dense_fit\u001b[1;34m(self, X, y, sample_weight, solver_type, kernel, random_seed)\u001b[0m\n\u001b[0;32m    315\u001b[0m libsvm\u001b[39m.\u001b[39mset_verbosity_wrap(\u001b[39mself\u001b[39m\u001b[39m.\u001b[39mverbose)\n\u001b[0;32m    317\u001b[0m \u001b[39m# we don't pass **self.get_params() to allow subclasses to\u001b[39;00m\n\u001b[0;32m    318\u001b[0m \u001b[39m# add other parameters to __init__\u001b[39;00m\n\u001b[0;32m    319\u001b[0m (\n\u001b[0;32m    320\u001b[0m     \u001b[39mself\u001b[39m\u001b[39m.\u001b[39msupport_,\n\u001b[0;32m    321\u001b[0m     \u001b[39mself\u001b[39m\u001b[39m.\u001b[39msupport_vectors_,\n\u001b[0;32m    322\u001b[0m     \u001b[39mself\u001b[39m\u001b[39m.\u001b[39m_n_support,\n\u001b[0;32m    323\u001b[0m     \u001b[39mself\u001b[39m\u001b[39m.\u001b[39mdual_coef_,\n\u001b[0;32m    324\u001b[0m     \u001b[39mself\u001b[39m\u001b[39m.\u001b[39mintercept_,\n\u001b[0;32m    325\u001b[0m     \u001b[39mself\u001b[39m\u001b[39m.\u001b[39m_probA,\n\u001b[0;32m    326\u001b[0m     \u001b[39mself\u001b[39m\u001b[39m.\u001b[39m_probB,\n\u001b[0;32m    327\u001b[0m     \u001b[39mself\u001b[39m\u001b[39m.\u001b[39mfit_status_,\n\u001b[0;32m    328\u001b[0m     \u001b[39mself\u001b[39m\u001b[39m.\u001b[39m_num_iter,\n\u001b[1;32m--> 329\u001b[0m ) \u001b[39m=\u001b[39m libsvm\u001b[39m.\u001b[39;49mfit(\n\u001b[0;32m    330\u001b[0m     X,\n\u001b[0;32m    331\u001b[0m     y,\n\u001b[0;32m    332\u001b[0m     svm_type\u001b[39m=\u001b[39;49msolver_type,\n\u001b[0;32m    333\u001b[0m     sample_weight\u001b[39m=\u001b[39;49msample_weight,\n\u001b[0;32m    334\u001b[0m     \u001b[39m# TODO(1.4): Replace \"_class_weight\" with \"class_weight_\"\u001b[39;49;00m\n\u001b[0;32m    335\u001b[0m     class_weight\u001b[39m=\u001b[39;49m\u001b[39mgetattr\u001b[39;49m(\u001b[39mself\u001b[39;49m, \u001b[39m\"\u001b[39;49m\u001b[39m_class_weight\u001b[39;49m\u001b[39m\"\u001b[39;49m, np\u001b[39m.\u001b[39;49mempty(\u001b[39m0\u001b[39;49m)),\n\u001b[0;32m    336\u001b[0m     kernel\u001b[39m=\u001b[39;49mkernel,\n\u001b[0;32m    337\u001b[0m     C\u001b[39m=\u001b[39;49m\u001b[39mself\u001b[39;49m\u001b[39m.\u001b[39;49mC,\n\u001b[0;32m    338\u001b[0m     nu\u001b[39m=\u001b[39;49m\u001b[39mself\u001b[39;49m\u001b[39m.\u001b[39;49mnu,\n\u001b[0;32m    339\u001b[0m     probability\u001b[39m=\u001b[39;49m\u001b[39mself\u001b[39;49m\u001b[39m.\u001b[39;49mprobability,\n\u001b[0;32m    340\u001b[0m     degree\u001b[39m=\u001b[39;49m\u001b[39mself\u001b[39;49m\u001b[39m.\u001b[39;49mdegree,\n\u001b[0;32m    341\u001b[0m     shrinking\u001b[39m=\u001b[39;49m\u001b[39mself\u001b[39;49m\u001b[39m.\u001b[39;49mshrinking,\n\u001b[0;32m    342\u001b[0m     tol\u001b[39m=\u001b[39;49m\u001b[39mself\u001b[39;49m\u001b[39m.\u001b[39;49mtol,\n\u001b[0;32m    343\u001b[0m     cache_size\u001b[39m=\u001b[39;49m\u001b[39mself\u001b[39;49m\u001b[39m.\u001b[39;49mcache_size,\n\u001b[0;32m    344\u001b[0m     coef0\u001b[39m=\u001b[39;49m\u001b[39mself\u001b[39;49m\u001b[39m.\u001b[39;49mcoef0,\n\u001b[0;32m    345\u001b[0m     gamma\u001b[39m=\u001b[39;49m\u001b[39mself\u001b[39;49m\u001b[39m.\u001b[39;49m_gamma,\n\u001b[0;32m    346\u001b[0m     epsilon\u001b[39m=\u001b[39;49m\u001b[39mself\u001b[39;49m\u001b[39m.\u001b[39;49mepsilon,\n\u001b[0;32m    347\u001b[0m     max_iter\u001b[39m=\u001b[39;49m\u001b[39mself\u001b[39;49m\u001b[39m.\u001b[39;49mmax_iter,\n\u001b[0;32m    348\u001b[0m     random_seed\u001b[39m=\u001b[39;49mrandom_seed,\n\u001b[0;32m    349\u001b[0m )\n\u001b[0;32m    351\u001b[0m \u001b[39mself\u001b[39m\u001b[39m.\u001b[39m_warn_from_fit_status()\n",
      "\u001b[1;31mKeyboardInterrupt\u001b[0m: "
     ]
    }
   ],
   "source": [
    "cv = StratifiedKFold(n_splits= 3, shuffle = True, random_state= 123)\n",
    "# Randomized grid search\n",
    "n_iter_search = 10\n",
    "param_grid = {'gamma': np.logspace(-2, 2, 5),\n",
    "              'C': np.logspace(-2, 2, 5)}\n",
    "gs = RandomizedSearchCV(clf, param_distributions = param_grid, n_iter = n_iter_search, cv = cv, scoring= 'accuracy')\n",
    "# gs = GridSearchCV(clf, param_grid=param_grid,refit = True, verbose = 3,scoring='accuracy',n_jobs=-1)\n",
    "# -----------------------------------------------------\n",
    "# Train model\n",
    "gs.fit(X_train, y_train)  \n",
    "best=(\"The best parameters are %s\" % (gs.best_params_)) \n",
    "# Predict on test set\n",
    "y_pred = gs.best_estimator_.predict(X_test)\n",
    "\n",
    "#Setup GridSearchCV\n",
    "# grid = GridSearchCV(pipe, param_grid=param_grid,refit = True, verbose = 3,scoring='accuracy',n_jobs=-1)\n",
    "# grid.fit(X_train, y_train)\n",
    "# y_pred = grid.predict(X_test)\n",
    "\n",
    "# Get Probability estimates\n",
    "# y_prob = gs.best_estimator_.predict_proba(X_test)[:, 1]\n",
    "# -----------------------------------------------------\n",
    "akurasi=('Accuracy score: %.2f%%' %(accuracy_score(y_test, y_pred)*100))  \n",
    "presisi=('Precision score: %.2f%%' % (precision_score(y_test, y_pred, average= 'weighted')*100))\n",
    "recall=('Recall score: %.2f%%' % (recall_score(y_test, y_pred, average= 'weighted')*100))\n",
    "with open('hasil/parameter_optimization_report_pilpres2024_'+str(jsampling)+'_'+str(dtuji)+'_'+str(d)+'.txt', 'a', encoding='utf-8') as f:\n",
    "    # f.writelines(''.join(name))\n",
    "    f.writelines(''.join('Parameter Optimization'))\n",
    "    f.writelines(''.join(best))\n",
    "    f.writelines(' \\n')\n",
    "    f.writelines(''.join(y_pred))\n",
    "    f.writelines(' \\n')\n",
    "    f.writelines(''.join(akurasi+'\\n'+presisi+'\\n'+recall))\n",
    "    f.writelines(' \\n')\n",
    "\n",
    "print(best+'\\n'+y_pred+'\\n'+akurasi+'\\n'+presisi+'\\n'+recall)"
   ]
  },
  {
   "cell_type": "code",
   "execution_count": 164,
   "metadata": {},
   "outputs": [
    {
     "ename": "ValueError",
     "evalue": "Found input variables with inconsistent numbers of samples: [1125, 203]",
     "output_type": "error",
     "traceback": [
      "\u001b[1;31m---------------------------------------------------------------------------\u001b[0m",
      "\u001b[1;31mValueError\u001b[0m                                Traceback (most recent call last)",
      "\u001b[1;32me:\\!!PYTHON2023\\github-twitter-pilpres2024\\5. Split DatasetNomorUrut.ipynb Cell 73\u001b[0m line \u001b[0;36m4\n\u001b[0;32m      <a href='vscode-notebook-cell:/e%3A/%21%21PYTHON2023/github-twitter-pilpres2024/5.%20Split%20DatasetNomorUrut.ipynb#Y130sZmlsZQ%3D%3D?line=1'>2</a>\u001b[0m \u001b[39m# Plot confusion matrix\u001b[39;00m\n\u001b[0;32m      <a href='vscode-notebook-cell:/e%3A/%21%21PYTHON2023/github-twitter-pilpres2024/5.%20Split%20DatasetNomorUrut.ipynb#Y130sZmlsZQ%3D%3D?line=2'>3</a>\u001b[0m fig, [ax1, ax2] \u001b[39m=\u001b[39m plt\u001b[39m.\u001b[39msubplots(\u001b[39m1\u001b[39m, \u001b[39m2\u001b[39m, figsize\u001b[39m=\u001b[39m(\u001b[39m10\u001b[39m, \u001b[39m5\u001b[39m))\n\u001b[1;32m----> <a href='vscode-notebook-cell:/e%3A/%21%21PYTHON2023/github-twitter-pilpres2024/5.%20Split%20DatasetNomorUrut.ipynb#Y130sZmlsZQ%3D%3D?line=3'>4</a>\u001b[0m cm \u001b[39m=\u001b[39m confusion_matrix(y_test, y_pred)\u001b[39m#, labels= target_label)\u001b[39;00m\n\u001b[0;32m      <a href='vscode-notebook-cell:/e%3A/%21%21PYTHON2023/github-twitter-pilpres2024/5.%20Split%20DatasetNomorUrut.ipynb#Y130sZmlsZQ%3D%3D?line=4'>5</a>\u001b[0m sns\u001b[39m.\u001b[39mheatmap(cm, annot \u001b[39m=\u001b[39m \u001b[39mTrue\u001b[39;00m, cbar \u001b[39m=\u001b[39m \u001b[39mFalse\u001b[39;00m, fmt \u001b[39m=\u001b[39m \u001b[39m\"\u001b[39m\u001b[39md\u001b[39m\u001b[39m\"\u001b[39m, linewidths \u001b[39m=\u001b[39m \u001b[39m.5\u001b[39m, cmap \u001b[39m=\u001b[39m \u001b[39m\"\u001b[39m\u001b[39mBlues\u001b[39m\u001b[39m\"\u001b[39m, ax \u001b[39m=\u001b[39m ax1)\n\u001b[0;32m      <a href='vscode-notebook-cell:/e%3A/%21%21PYTHON2023/github-twitter-pilpres2024/5.%20Split%20DatasetNomorUrut.ipynb#Y130sZmlsZQ%3D%3D?line=5'>6</a>\u001b[0m ax1\u001b[39m.\u001b[39mset_title(\u001b[39m\"\u001b[39m\u001b[39mConfusion Matrix\u001b[39m\u001b[39m\"\u001b[39m)\n",
      "File \u001b[1;32mc:\\laragon\\bin\\python\\python-3.10\\lib\\site-packages\\sklearn\\utils\\_param_validation.py:214\u001b[0m, in \u001b[0;36mvalidate_params.<locals>.decorator.<locals>.wrapper\u001b[1;34m(*args, **kwargs)\u001b[0m\n\u001b[0;32m    208\u001b[0m \u001b[39mtry\u001b[39;00m:\n\u001b[0;32m    209\u001b[0m     \u001b[39mwith\u001b[39;00m config_context(\n\u001b[0;32m    210\u001b[0m         skip_parameter_validation\u001b[39m=\u001b[39m(\n\u001b[0;32m    211\u001b[0m             prefer_skip_nested_validation \u001b[39mor\u001b[39;00m global_skip_validation\n\u001b[0;32m    212\u001b[0m         )\n\u001b[0;32m    213\u001b[0m     ):\n\u001b[1;32m--> 214\u001b[0m         \u001b[39mreturn\u001b[39;00m func(\u001b[39m*\u001b[39margs, \u001b[39m*\u001b[39m\u001b[39m*\u001b[39mkwargs)\n\u001b[0;32m    215\u001b[0m \u001b[39mexcept\u001b[39;00m InvalidParameterError \u001b[39mas\u001b[39;00m e:\n\u001b[0;32m    216\u001b[0m     \u001b[39m# When the function is just a wrapper around an estimator, we allow\u001b[39;00m\n\u001b[0;32m    217\u001b[0m     \u001b[39m# the function to delegate validation to the estimator, but we replace\u001b[39;00m\n\u001b[0;32m    218\u001b[0m     \u001b[39m# the name of the estimator by the name of the function in the error\u001b[39;00m\n\u001b[0;32m    219\u001b[0m     \u001b[39m# message to avoid confusion.\u001b[39;00m\n\u001b[0;32m    220\u001b[0m     msg \u001b[39m=\u001b[39m re\u001b[39m.\u001b[39msub(\n\u001b[0;32m    221\u001b[0m         \u001b[39mr\u001b[39m\u001b[39m\"\u001b[39m\u001b[39mparameter of \u001b[39m\u001b[39m\\\u001b[39m\u001b[39mw+ must be\u001b[39m\u001b[39m\"\u001b[39m,\n\u001b[0;32m    222\u001b[0m         \u001b[39mf\u001b[39m\u001b[39m\"\u001b[39m\u001b[39mparameter of \u001b[39m\u001b[39m{\u001b[39;00mfunc\u001b[39m.\u001b[39m\u001b[39m__qualname__\u001b[39m\u001b[39m}\u001b[39;00m\u001b[39m must be\u001b[39m\u001b[39m\"\u001b[39m,\n\u001b[0;32m    223\u001b[0m         \u001b[39mstr\u001b[39m(e),\n\u001b[0;32m    224\u001b[0m     )\n",
      "File \u001b[1;32mc:\\laragon\\bin\\python\\python-3.10\\lib\\site-packages\\sklearn\\metrics\\_classification.py:326\u001b[0m, in \u001b[0;36mconfusion_matrix\u001b[1;34m(y_true, y_pred, labels, sample_weight, normalize)\u001b[0m\n\u001b[0;32m    231\u001b[0m \u001b[39m@validate_params\u001b[39m(\n\u001b[0;32m    232\u001b[0m     {\n\u001b[0;32m    233\u001b[0m         \u001b[39m\"\u001b[39m\u001b[39my_true\u001b[39m\u001b[39m\"\u001b[39m: [\u001b[39m\"\u001b[39m\u001b[39marray-like\u001b[39m\u001b[39m\"\u001b[39m],\n\u001b[1;32m   (...)\u001b[0m\n\u001b[0;32m    242\u001b[0m     y_true, y_pred, \u001b[39m*\u001b[39m, labels\u001b[39m=\u001b[39m\u001b[39mNone\u001b[39;00m, sample_weight\u001b[39m=\u001b[39m\u001b[39mNone\u001b[39;00m, normalize\u001b[39m=\u001b[39m\u001b[39mNone\u001b[39;00m\n\u001b[0;32m    243\u001b[0m ):\n\u001b[0;32m    244\u001b[0m \u001b[39m    \u001b[39m\u001b[39m\"\"\"Compute confusion matrix to evaluate the accuracy of a classification.\u001b[39;00m\n\u001b[0;32m    245\u001b[0m \n\u001b[0;32m    246\u001b[0m \u001b[39m    By definition a confusion matrix :math:`C` is such that :math:`C_{i, j}`\u001b[39;00m\n\u001b[1;32m   (...)\u001b[0m\n\u001b[0;32m    324\u001b[0m \u001b[39m    (0, 2, 1, 1)\u001b[39;00m\n\u001b[0;32m    325\u001b[0m \u001b[39m    \"\"\"\u001b[39;00m\n\u001b[1;32m--> 326\u001b[0m     y_type, y_true, y_pred \u001b[39m=\u001b[39m _check_targets(y_true, y_pred)\n\u001b[0;32m    327\u001b[0m     \u001b[39mif\u001b[39;00m y_type \u001b[39mnot\u001b[39;00m \u001b[39min\u001b[39;00m (\u001b[39m\"\u001b[39m\u001b[39mbinary\u001b[39m\u001b[39m\"\u001b[39m, \u001b[39m\"\u001b[39m\u001b[39mmulticlass\u001b[39m\u001b[39m\"\u001b[39m):\n\u001b[0;32m    328\u001b[0m         \u001b[39mraise\u001b[39;00m \u001b[39mValueError\u001b[39;00m(\u001b[39m\"\u001b[39m\u001b[39m%s\u001b[39;00m\u001b[39m is not supported\u001b[39m\u001b[39m\"\u001b[39m \u001b[39m%\u001b[39m y_type)\n",
      "File \u001b[1;32mc:\\laragon\\bin\\python\\python-3.10\\lib\\site-packages\\sklearn\\metrics\\_classification.py:84\u001b[0m, in \u001b[0;36m_check_targets\u001b[1;34m(y_true, y_pred)\u001b[0m\n\u001b[0;32m     57\u001b[0m \u001b[39mdef\u001b[39;00m \u001b[39m_check_targets\u001b[39m(y_true, y_pred):\n\u001b[0;32m     58\u001b[0m \u001b[39m    \u001b[39m\u001b[39m\"\"\"Check that y_true and y_pred belong to the same classification task.\u001b[39;00m\n\u001b[0;32m     59\u001b[0m \n\u001b[0;32m     60\u001b[0m \u001b[39m    This converts multiclass or binary types to a common shape, and raises a\u001b[39;00m\n\u001b[1;32m   (...)\u001b[0m\n\u001b[0;32m     82\u001b[0m \u001b[39m    y_pred : array or indicator matrix\u001b[39;00m\n\u001b[0;32m     83\u001b[0m \u001b[39m    \"\"\"\u001b[39;00m\n\u001b[1;32m---> 84\u001b[0m     check_consistent_length(y_true, y_pred)\n\u001b[0;32m     85\u001b[0m     type_true \u001b[39m=\u001b[39m type_of_target(y_true, input_name\u001b[39m=\u001b[39m\u001b[39m\"\u001b[39m\u001b[39my_true\u001b[39m\u001b[39m\"\u001b[39m)\n\u001b[0;32m     86\u001b[0m     type_pred \u001b[39m=\u001b[39m type_of_target(y_pred, input_name\u001b[39m=\u001b[39m\u001b[39m\"\u001b[39m\u001b[39my_pred\u001b[39m\u001b[39m\"\u001b[39m)\n",
      "File \u001b[1;32mc:\\laragon\\bin\\python\\python-3.10\\lib\\site-packages\\sklearn\\utils\\validation.py:407\u001b[0m, in \u001b[0;36mcheck_consistent_length\u001b[1;34m(*arrays)\u001b[0m\n\u001b[0;32m    405\u001b[0m uniques \u001b[39m=\u001b[39m np\u001b[39m.\u001b[39munique(lengths)\n\u001b[0;32m    406\u001b[0m \u001b[39mif\u001b[39;00m \u001b[39mlen\u001b[39m(uniques) \u001b[39m>\u001b[39m \u001b[39m1\u001b[39m:\n\u001b[1;32m--> 407\u001b[0m     \u001b[39mraise\u001b[39;00m \u001b[39mValueError\u001b[39;00m(\n\u001b[0;32m    408\u001b[0m         \u001b[39m\"\u001b[39m\u001b[39mFound input variables with inconsistent numbers of samples: \u001b[39m\u001b[39m%r\u001b[39;00m\u001b[39m\"\u001b[39m\n\u001b[0;32m    409\u001b[0m         \u001b[39m%\u001b[39m [\u001b[39mint\u001b[39m(l) \u001b[39mfor\u001b[39;00m l \u001b[39min\u001b[39;00m lengths]\n\u001b[0;32m    410\u001b[0m     )\n",
      "\u001b[1;31mValueError\u001b[0m: Found input variables with inconsistent numbers of samples: [1125, 203]"
     ]
    },
    {
     "data": {
      "image/png": "[encoded data removed]",
      "text/plain": [
       "<Figure size 1000x500 with 2 Axes>"
      ]
     },
     "metadata": {},
     "output_type": "display_data"
    }
   ],
   "source": [
    "target_label=['Positive','Neutral','Negative']\n",
    "# Plot confusion matrix\n",
    "fig, [ax1, ax2] = plt.subplots(1, 2, figsize=(10, 5))\n",
    "cm = confusion_matrix(y_test, y_pred)#, labels= target_label)\n",
    "sns.heatmap(cm, annot = True, cbar = False, fmt = \"d\", linewidths = .5, cmap = \"Blues\", ax = ax1)\n",
    "ax1.set_title(\"Confusion Matrix\")\n",
    "ax1.set_xlabel(\"Predicted class\")\n",
    "ax1.set_ylabel(\"Actual class\")\n",
    "ax1.set_xticklabels(target_label)\n",
    "ax1.set_yticklabels(target_label)\n",
    "fig.tight_layout()\n",
    "plt.savefig('hasil/5.confusion_matrix_optimization_parameter'+str(jsampling)+'_.png')\n"
   ]
  },
  {
   "cell_type": "markdown",
   "metadata": {},
   "source": [
    "## AUROC dan AUC"
   ]
  }
 ],
 "metadata": {
  "kernelspec": {
   "display_name": "Python 3",
   "language": "python",
   "name": "python3"
  },
  "language_info": {
   "codemirror_mode": {
    "name": "ipython",
    "version": 3
   },
   "file_extension": ".py",
   "mimetype": "text/x-python",
   "name": "python",
   "nbconvert_exporter": "python",
   "pygments_lexer": "ipython3",
   "version": "3.10.6"
  }
 },
 "nbformat": 4,
 "nbformat_minor": 2
}
